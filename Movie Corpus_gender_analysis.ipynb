{
 "cells": [
  {
   "cell_type": "markdown",
   "metadata": {},
   "source": [
    "## Pip Installs and Imports"
   ]
  },
  {
   "cell_type": "code",
   "execution_count": 72,
   "metadata": {},
   "outputs": [
    {
     "name": "stdout",
     "output_type": "stream",
     "text": [
      "Requirement already satisfied: convokit in /Users/francescasalute/anaconda3/lib/python3.11/site-packages (3.0.0)\n",
      "Requirement already satisfied: matplotlib>=3.0.0 in /Users/francescasalute/anaconda3/lib/python3.11/site-packages (from convokit) (3.7.1)\n",
      "Requirement already satisfied: pandas>=0.23.4 in /Users/francescasalute/anaconda3/lib/python3.11/site-packages (from convokit) (1.5.3)\n",
      "Requirement already satisfied: msgpack-numpy>=0.4.3.2 in /Users/francescasalute/anaconda3/lib/python3.11/site-packages (from convokit) (0.4.8)\n",
      "Requirement already satisfied: spacy>=2.3.5 in /Users/francescasalute/anaconda3/lib/python3.11/site-packages (from convokit) (3.7.4)\n",
      "Requirement already satisfied: scipy>=1.1.0 in /Users/francescasalute/anaconda3/lib/python3.11/site-packages (from convokit) (1.10.1)\n",
      "Requirement already satisfied: scikit-learn>=0.20.0 in /Users/francescasalute/anaconda3/lib/python3.11/site-packages (from convokit) (1.3.0)\n",
      "Requirement already satisfied: nltk>=3.4 in /Users/francescasalute/anaconda3/lib/python3.11/site-packages (from convokit) (3.8.1)\n",
      "Requirement already satisfied: dill>=0.2.9 in /Users/francescasalute/anaconda3/lib/python3.11/site-packages (from convokit) (0.3.6)\n",
      "Requirement already satisfied: joblib>=0.13.2 in /Users/francescasalute/anaconda3/lib/python3.11/site-packages (from convokit) (1.2.0)\n",
      "Requirement already satisfied: clean-text>=0.6.0 in /Users/francescasalute/anaconda3/lib/python3.11/site-packages (from convokit) (0.6.0)\n",
      "Requirement already satisfied: unidecode>=1.1.1 in /Users/francescasalute/anaconda3/lib/python3.11/site-packages (from convokit) (1.2.0)\n",
      "Requirement already satisfied: tqdm>=4.64.0 in /Users/francescasalute/anaconda3/lib/python3.11/site-packages (from convokit) (4.65.0)\n",
      "Requirement already satisfied: pymongo>=4.0 in /Users/francescasalute/anaconda3/lib/python3.11/site-packages (from convokit) (4.7.2)\n",
      "Requirement already satisfied: pyyaml>=5.4.1 in /Users/francescasalute/anaconda3/lib/python3.11/site-packages (from convokit) (6.0)\n",
      "Requirement already satisfied: dnspython>=1.16.0 in /Users/francescasalute/anaconda3/lib/python3.11/site-packages (from convokit) (2.6.1)\n",
      "Requirement already satisfied: emoji<2.0.0,>=1.0.0 in /Users/francescasalute/anaconda3/lib/python3.11/site-packages (from clean-text>=0.6.0->convokit) (1.7.0)\n",
      "Requirement already satisfied: ftfy<7.0,>=6.0 in /Users/francescasalute/anaconda3/lib/python3.11/site-packages (from clean-text>=0.6.0->convokit) (6.2.0)\n",
      "Requirement already satisfied: contourpy>=1.0.1 in /Users/francescasalute/anaconda3/lib/python3.11/site-packages (from matplotlib>=3.0.0->convokit) (1.0.5)\n",
      "Requirement already satisfied: cycler>=0.10 in /Users/francescasalute/anaconda3/lib/python3.11/site-packages (from matplotlib>=3.0.0->convokit) (0.11.0)\n",
      "Requirement already satisfied: fonttools>=4.22.0 in /Users/francescasalute/anaconda3/lib/python3.11/site-packages (from matplotlib>=3.0.0->convokit) (4.25.0)\n",
      "Requirement already satisfied: kiwisolver>=1.0.1 in /Users/francescasalute/anaconda3/lib/python3.11/site-packages (from matplotlib>=3.0.0->convokit) (1.4.4)\n",
      "Requirement already satisfied: numpy>=1.20 in /Users/francescasalute/anaconda3/lib/python3.11/site-packages (from matplotlib>=3.0.0->convokit) (1.24.3)\n",
      "Requirement already satisfied: packaging>=20.0 in /Users/francescasalute/anaconda3/lib/python3.11/site-packages (from matplotlib>=3.0.0->convokit) (23.0)\n",
      "Requirement already satisfied: pillow>=6.2.0 in /Users/francescasalute/anaconda3/lib/python3.11/site-packages (from matplotlib>=3.0.0->convokit) (9.4.0)\n",
      "Requirement already satisfied: pyparsing>=2.3.1 in /Users/francescasalute/anaconda3/lib/python3.11/site-packages (from matplotlib>=3.0.0->convokit) (3.0.9)\n",
      "Requirement already satisfied: python-dateutil>=2.7 in /Users/francescasalute/anaconda3/lib/python3.11/site-packages (from matplotlib>=3.0.0->convokit) (2.8.2)\n",
      "Requirement already satisfied: msgpack>=0.5.2 in /Users/francescasalute/anaconda3/lib/python3.11/site-packages (from msgpack-numpy>=0.4.3.2->convokit) (1.0.3)\n",
      "Requirement already satisfied: click in /Users/francescasalute/anaconda3/lib/python3.11/site-packages (from nltk>=3.4->convokit) (8.0.4)\n",
      "Requirement already satisfied: regex>=2021.8.3 in /Users/francescasalute/anaconda3/lib/python3.11/site-packages (from nltk>=3.4->convokit) (2022.7.9)\n",
      "Requirement already satisfied: pytz>=2020.1 in /Users/francescasalute/anaconda3/lib/python3.11/site-packages (from pandas>=0.23.4->convokit) (2022.7)\n",
      "Requirement already satisfied: threadpoolctl>=2.0.0 in /Users/francescasalute/anaconda3/lib/python3.11/site-packages (from scikit-learn>=0.20.0->convokit) (2.2.0)\n",
      "Requirement already satisfied: spacy-legacy<3.1.0,>=3.0.11 in /Users/francescasalute/anaconda3/lib/python3.11/site-packages (from spacy>=2.3.5->convokit) (3.0.12)\n",
      "Requirement already satisfied: spacy-loggers<2.0.0,>=1.0.0 in /Users/francescasalute/anaconda3/lib/python3.11/site-packages (from spacy>=2.3.5->convokit) (1.0.5)\n",
      "Requirement already satisfied: murmurhash<1.1.0,>=0.28.0 in /Users/francescasalute/anaconda3/lib/python3.11/site-packages (from spacy>=2.3.5->convokit) (1.0.10)\n",
      "Requirement already satisfied: cymem<2.1.0,>=2.0.2 in /Users/francescasalute/anaconda3/lib/python3.11/site-packages (from spacy>=2.3.5->convokit) (2.0.8)\n",
      "Requirement already satisfied: preshed<3.1.0,>=3.0.2 in /Users/francescasalute/anaconda3/lib/python3.11/site-packages (from spacy>=2.3.5->convokit) (3.0.9)\n",
      "Requirement already satisfied: thinc<8.3.0,>=8.2.2 in /Users/francescasalute/anaconda3/lib/python3.11/site-packages (from spacy>=2.3.5->convokit) (8.2.3)\n",
      "Requirement already satisfied: wasabi<1.2.0,>=0.9.1 in /Users/francescasalute/anaconda3/lib/python3.11/site-packages (from spacy>=2.3.5->convokit) (1.1.2)\n",
      "Requirement already satisfied: srsly<3.0.0,>=2.4.3 in /Users/francescasalute/anaconda3/lib/python3.11/site-packages (from spacy>=2.3.5->convokit) (2.4.8)\n",
      "Requirement already satisfied: catalogue<2.1.0,>=2.0.6 in /Users/francescasalute/anaconda3/lib/python3.11/site-packages (from spacy>=2.3.5->convokit) (2.0.10)\n",
      "Requirement already satisfied: weasel<0.4.0,>=0.1.0 in /Users/francescasalute/anaconda3/lib/python3.11/site-packages (from spacy>=2.3.5->convokit) (0.3.4)\n",
      "Requirement already satisfied: typer<0.10.0,>=0.3.0 in /Users/francescasalute/anaconda3/lib/python3.11/site-packages (from spacy>=2.3.5->convokit) (0.9.0)\n",
      "Requirement already satisfied: smart-open<7.0.0,>=5.2.1 in /Users/francescasalute/anaconda3/lib/python3.11/site-packages (from spacy>=2.3.5->convokit) (5.2.1)\n",
      "Requirement already satisfied: requests<3.0.0,>=2.13.0 in /Users/francescasalute/anaconda3/lib/python3.11/site-packages (from spacy>=2.3.5->convokit) (2.31.0)\n",
      "Requirement already satisfied: pydantic!=1.8,!=1.8.1,<3.0.0,>=1.7.4 in /Users/francescasalute/anaconda3/lib/python3.11/site-packages (from spacy>=2.3.5->convokit) (2.6.2)\n",
      "Requirement already satisfied: jinja2 in /Users/francescasalute/anaconda3/lib/python3.11/site-packages (from spacy>=2.3.5->convokit) (3.1.2)\n",
      "Requirement already satisfied: setuptools in /Users/francescasalute/anaconda3/lib/python3.11/site-packages (from spacy>=2.3.5->convokit) (68.0.0)\n",
      "Requirement already satisfied: langcodes<4.0.0,>=3.2.0 in /Users/francescasalute/anaconda3/lib/python3.11/site-packages (from spacy>=2.3.5->convokit) (3.3.0)\n",
      "Requirement already satisfied: wcwidth<0.3.0,>=0.2.12 in /Users/francescasalute/anaconda3/lib/python3.11/site-packages (from ftfy<7.0,>=6.0->clean-text>=0.6.0->convokit) (0.2.13)\n",
      "Requirement already satisfied: annotated-types>=0.4.0 in /Users/francescasalute/anaconda3/lib/python3.11/site-packages (from pydantic!=1.8,!=1.8.1,<3.0.0,>=1.7.4->spacy>=2.3.5->convokit) (0.6.0)\n",
      "Requirement already satisfied: pydantic-core==2.16.3 in /Users/francescasalute/anaconda3/lib/python3.11/site-packages (from pydantic!=1.8,!=1.8.1,<3.0.0,>=1.7.4->spacy>=2.3.5->convokit) (2.16.3)\n",
      "Requirement already satisfied: typing-extensions>=4.6.1 in /Users/francescasalute/anaconda3/lib/python3.11/site-packages (from pydantic!=1.8,!=1.8.1,<3.0.0,>=1.7.4->spacy>=2.3.5->convokit) (4.7.1)\n",
      "Requirement already satisfied: six>=1.5 in /Users/francescasalute/anaconda3/lib/python3.11/site-packages (from python-dateutil>=2.7->matplotlib>=3.0.0->convokit) (1.16.0)\n",
      "Requirement already satisfied: charset-normalizer<4,>=2 in /Users/francescasalute/anaconda3/lib/python3.11/site-packages (from requests<3.0.0,>=2.13.0->spacy>=2.3.5->convokit) (2.0.4)\n",
      "Requirement already satisfied: idna<4,>=2.5 in /Users/francescasalute/anaconda3/lib/python3.11/site-packages (from requests<3.0.0,>=2.13.0->spacy>=2.3.5->convokit) (3.4)\n",
      "Requirement already satisfied: urllib3<3,>=1.21.1 in /Users/francescasalute/anaconda3/lib/python3.11/site-packages (from requests<3.0.0,>=2.13.0->spacy>=2.3.5->convokit) (1.26.16)\n",
      "Requirement already satisfied: certifi>=2017.4.17 in /Users/francescasalute/anaconda3/lib/python3.11/site-packages (from requests<3.0.0,>=2.13.0->spacy>=2.3.5->convokit) (2023.7.22)\n",
      "Requirement already satisfied: blis<0.8.0,>=0.7.8 in /Users/francescasalute/anaconda3/lib/python3.11/site-packages (from thinc<8.3.0,>=8.2.2->spacy>=2.3.5->convokit) (0.7.11)\n",
      "Requirement already satisfied: confection<1.0.0,>=0.0.1 in /Users/francescasalute/anaconda3/lib/python3.11/site-packages (from thinc<8.3.0,>=8.2.2->spacy>=2.3.5->convokit) (0.1.4)\n",
      "Requirement already satisfied: cloudpathlib<0.17.0,>=0.7.0 in /Users/francescasalute/anaconda3/lib/python3.11/site-packages (from weasel<0.4.0,>=0.1.0->spacy>=2.3.5->convokit) (0.16.0)\n",
      "Requirement already satisfied: MarkupSafe>=2.0 in /Users/francescasalute/anaconda3/lib/python3.11/site-packages (from jinja2->spacy>=2.3.5->convokit) (2.1.1)\n",
      "Note: you may need to restart the kernel to use updated packages.\n"
     ]
    }
   ],
   "source": [
    "pip install convokit"
   ]
  },
  {
   "cell_type": "code",
   "execution_count": 73,
   "metadata": {},
   "outputs": [
    {
     "name": "stdout",
     "output_type": "stream",
     "text": [
      "Requirement already satisfied: seaborn in /Users/francescasalute/anaconda3/lib/python3.11/site-packages (0.12.2)\n",
      "Requirement already satisfied: numpy!=1.24.0,>=1.17 in /Users/francescasalute/anaconda3/lib/python3.11/site-packages (from seaborn) (1.24.3)\n",
      "Requirement already satisfied: pandas>=0.25 in /Users/francescasalute/anaconda3/lib/python3.11/site-packages (from seaborn) (1.5.3)\n",
      "Requirement already satisfied: matplotlib!=3.6.1,>=3.1 in /Users/francescasalute/anaconda3/lib/python3.11/site-packages (from seaborn) (3.7.1)\n",
      "Requirement already satisfied: contourpy>=1.0.1 in /Users/francescasalute/anaconda3/lib/python3.11/site-packages (from matplotlib!=3.6.1,>=3.1->seaborn) (1.0.5)\n",
      "Requirement already satisfied: cycler>=0.10 in /Users/francescasalute/anaconda3/lib/python3.11/site-packages (from matplotlib!=3.6.1,>=3.1->seaborn) (0.11.0)\n",
      "Requirement already satisfied: fonttools>=4.22.0 in /Users/francescasalute/anaconda3/lib/python3.11/site-packages (from matplotlib!=3.6.1,>=3.1->seaborn) (4.25.0)\n",
      "Requirement already satisfied: kiwisolver>=1.0.1 in /Users/francescasalute/anaconda3/lib/python3.11/site-packages (from matplotlib!=3.6.1,>=3.1->seaborn) (1.4.4)\n",
      "Requirement already satisfied: packaging>=20.0 in /Users/francescasalute/anaconda3/lib/python3.11/site-packages (from matplotlib!=3.6.1,>=3.1->seaborn) (23.0)\n",
      "Requirement already satisfied: pillow>=6.2.0 in /Users/francescasalute/anaconda3/lib/python3.11/site-packages (from matplotlib!=3.6.1,>=3.1->seaborn) (9.4.0)\n",
      "Requirement already satisfied: pyparsing>=2.3.1 in /Users/francescasalute/anaconda3/lib/python3.11/site-packages (from matplotlib!=3.6.1,>=3.1->seaborn) (3.0.9)\n",
      "Requirement already satisfied: python-dateutil>=2.7 in /Users/francescasalute/anaconda3/lib/python3.11/site-packages (from matplotlib!=3.6.1,>=3.1->seaborn) (2.8.2)\n",
      "Requirement already satisfied: pytz>=2020.1 in /Users/francescasalute/anaconda3/lib/python3.11/site-packages (from pandas>=0.25->seaborn) (2022.7)\n",
      "Requirement already satisfied: six>=1.5 in /Users/francescasalute/anaconda3/lib/python3.11/site-packages (from python-dateutil>=2.7->matplotlib!=3.6.1,>=3.1->seaborn) (1.16.0)\n",
      "Note: you may need to restart the kernel to use updated packages.\n"
     ]
    }
   ],
   "source": [
    "pip install seaborn"
   ]
  },
  {
   "cell_type": "code",
   "execution_count": 75,
   "metadata": {},
   "outputs": [
    {
     "name": "stderr",
     "output_type": "stream",
     "text": [
      "[nltk_data] Downloading package punkt to\n",
      "[nltk_data]     /Users/francescasalute/nltk_data...\n",
      "[nltk_data]   Package punkt is already up-to-date!\n",
      "[nltk_data] Downloading package wordnet to\n",
      "[nltk_data]     /Users/francescasalute/nltk_data...\n",
      "[nltk_data]   Package wordnet is already up-to-date!\n",
      "[nltk_data] Downloading package stopwords to\n",
      "[nltk_data]     /Users/francescasalute/nltk_data...\n",
      "[nltk_data]   Package stopwords is already up-to-date!\n"
     ]
    },
    {
     "data": {
      "text/plain": [
       "True"
      ]
     },
     "execution_count": 75,
     "metadata": {},
     "output_type": "execute_result"
    }
   ],
   "source": [
    "from convokit import Corpus, download\n",
    "import pandas as pd\n",
    "import matplotlib.pyplot as plt\n",
    "import seaborn as sns\n",
    "import re\n",
    "import nltk\n",
    "import time\n",
    "\n",
    "from nltk.tokenize import word_tokenize\n",
    "from nltk.corpus import stopwords\n",
    "from nltk.stem import WordNetLemmatizer, PorterStemmer\n",
    "from sklearn.feature_extraction.text import TfidfVectorizer\n",
    "import re\n",
    "from sklearn.model_selection import train_test_split\n",
    "from sklearn.naive_bayes import MultinomialNB\n",
    "from sklearn.metrics import accuracy_score, classification_report, precision_score, recall_score, f1_score\n",
    "from sklearn.linear_model import LogisticRegression\n",
    "from sklearn.preprocessing import LabelEncoder\n",
    "from scipy.sparse import hstack, csr_matrix\n",
    "from sklearn.preprocessing import Binarizer\n",
    "from sklearn.naive_bayes import BernoulliNB\n",
    "nltk.download('punkt')\n",
    "nltk.download('wordnet')\n",
    "nltk.download('stopwords')"
   ]
  },
  {
   "cell_type": "markdown",
   "metadata": {},
   "source": [
    "## Explorative Data Anlyses"
   ]
  },
  {
   "cell_type": "code",
   "execution_count": 4,
   "metadata": {},
   "outputs": [
    {
     "name": "stdout",
     "output_type": "stream",
     "text": [
      "Downloading movie-corpus to /Users/francescasalute/.convokit/downloads/movie-corpus\n",
      "Downloading movie-corpus from http://zissou.infosci.cornell.edu/convokit/datasets/movie-corpus/movie-corpus.zip (40.9MB)... Done\n"
     ]
    }
   ],
   "source": [
    "corpus = Corpus(filename=download(\"movie-corpus\"))"
   ]
  },
  {
   "cell_type": "code",
   "execution_count": 5,
   "metadata": {},
   "outputs": [
    {
     "name": "stdout",
     "output_type": "stream",
     "text": [
      "Number of Speakers: 9035\n",
      "Number of Utterances: 304713\n",
      "Number of Conversations: 83097\n"
     ]
    }
   ],
   "source": [
    "corpus.print_summary_stats()"
   ]
  },
  {
   "cell_type": "code",
   "execution_count": 6,
   "metadata": {},
   "outputs": [],
   "source": [
    "utterances = corpus.get_utterances_dataframe() # text of the conversations"
   ]
  },
  {
   "cell_type": "code",
   "execution_count": 7,
   "metadata": {},
   "outputs": [
    {
     "data": {
      "text/html": [
       "<div>\n",
       "<style scoped>\n",
       "    .dataframe tbody tr th:only-of-type {\n",
       "        vertical-align: middle;\n",
       "    }\n",
       "\n",
       "    .dataframe tbody tr th {\n",
       "        vertical-align: top;\n",
       "    }\n",
       "\n",
       "    .dataframe thead th {\n",
       "        text-align: right;\n",
       "    }\n",
       "</style>\n",
       "<table border=\"1\" class=\"dataframe\">\n",
       "  <thead>\n",
       "    <tr style=\"text-align: right;\">\n",
       "      <th></th>\n",
       "      <th>timestamp</th>\n",
       "      <th>text</th>\n",
       "      <th>speaker</th>\n",
       "      <th>reply_to</th>\n",
       "      <th>conversation_id</th>\n",
       "      <th>meta.movie_id</th>\n",
       "      <th>meta.parsed</th>\n",
       "      <th>vectors</th>\n",
       "    </tr>\n",
       "    <tr>\n",
       "      <th>id</th>\n",
       "      <th></th>\n",
       "      <th></th>\n",
       "      <th></th>\n",
       "      <th></th>\n",
       "      <th></th>\n",
       "      <th></th>\n",
       "      <th></th>\n",
       "      <th></th>\n",
       "    </tr>\n",
       "  </thead>\n",
       "  <tbody>\n",
       "    <tr>\n",
       "      <th>L1045</th>\n",
       "      <td>None</td>\n",
       "      <td>They do not!</td>\n",
       "      <td>u0</td>\n",
       "      <td>L1044</td>\n",
       "      <td>L1044</td>\n",
       "      <td>m0</td>\n",
       "      <td>[{'rt': 1, 'toks': [{'tok': 'They', 'tag': 'PR...</td>\n",
       "      <td>[]</td>\n",
       "    </tr>\n",
       "    <tr>\n",
       "      <th>L1044</th>\n",
       "      <td>None</td>\n",
       "      <td>They do to!</td>\n",
       "      <td>u2</td>\n",
       "      <td>None</td>\n",
       "      <td>L1044</td>\n",
       "      <td>m0</td>\n",
       "      <td>[{'rt': 1, 'toks': [{'tok': 'They', 'tag': 'PR...</td>\n",
       "      <td>[]</td>\n",
       "    </tr>\n",
       "    <tr>\n",
       "      <th>L985</th>\n",
       "      <td>None</td>\n",
       "      <td>I hope so.</td>\n",
       "      <td>u0</td>\n",
       "      <td>L984</td>\n",
       "      <td>L984</td>\n",
       "      <td>m0</td>\n",
       "      <td>[{'rt': 1, 'toks': [{'tok': 'I', 'tag': 'PRP',...</td>\n",
       "      <td>[]</td>\n",
       "    </tr>\n",
       "    <tr>\n",
       "      <th>L984</th>\n",
       "      <td>None</td>\n",
       "      <td>She okay?</td>\n",
       "      <td>u2</td>\n",
       "      <td>None</td>\n",
       "      <td>L984</td>\n",
       "      <td>m0</td>\n",
       "      <td>[{'rt': 1, 'toks': [{'tok': 'She', 'tag': 'PRP...</td>\n",
       "      <td>[]</td>\n",
       "    </tr>\n",
       "    <tr>\n",
       "      <th>L925</th>\n",
       "      <td>None</td>\n",
       "      <td>Let's go.</td>\n",
       "      <td>u0</td>\n",
       "      <td>L924</td>\n",
       "      <td>L924</td>\n",
       "      <td>m0</td>\n",
       "      <td>[{'rt': 0, 'toks': [{'tok': 'Let', 'tag': 'VB'...</td>\n",
       "      <td>[]</td>\n",
       "    </tr>\n",
       "  </tbody>\n",
       "</table>\n",
       "</div>"
      ],
      "text/plain": [
       "      timestamp          text speaker reply_to conversation_id meta.movie_id  \\\n",
       "id                                                                             \n",
       "L1045      None  They do not!      u0    L1044           L1044            m0   \n",
       "L1044      None   They do to!      u2     None           L1044            m0   \n",
       "L985       None    I hope so.      u0     L984            L984            m0   \n",
       "L984       None     She okay?      u2     None            L984            m0   \n",
       "L925       None     Let's go.      u0     L924            L924            m0   \n",
       "\n",
       "                                             meta.parsed vectors  \n",
       "id                                                                \n",
       "L1045  [{'rt': 1, 'toks': [{'tok': 'They', 'tag': 'PR...      []  \n",
       "L1044  [{'rt': 1, 'toks': [{'tok': 'They', 'tag': 'PR...      []  \n",
       "L985   [{'rt': 1, 'toks': [{'tok': 'I', 'tag': 'PRP',...      []  \n",
       "L984   [{'rt': 1, 'toks': [{'tok': 'She', 'tag': 'PRP...      []  \n",
       "L925   [{'rt': 0, 'toks': [{'tok': 'Let', 'tag': 'VB'...      []  "
      ]
     },
     "execution_count": 7,
     "metadata": {},
     "output_type": "execute_result"
    }
   ],
   "source": [
    "utterances.head()"
   ]
  },
  {
   "cell_type": "code",
   "execution_count": 8,
   "metadata": {},
   "outputs": [
    {
     "name": "stdout",
     "output_type": "stream",
     "text": [
      "<class 'pandas.core.frame.DataFrame'>\n",
      "Index: 304713 entries, L1045 to L666256\n",
      "Data columns (total 8 columns):\n",
      " #   Column           Non-Null Count   Dtype \n",
      "---  ------           --------------   ----- \n",
      " 0   timestamp        0 non-null       object\n",
      " 1   text             304713 non-null  object\n",
      " 2   speaker          304713 non-null  object\n",
      " 3   reply_to         221616 non-null  object\n",
      " 4   conversation_id  304713 non-null  object\n",
      " 5   meta.movie_id    304713 non-null  object\n",
      " 6   meta.parsed      304713 non-null  object\n",
      " 7   vectors          304713 non-null  object\n",
      "dtypes: object(8)\n",
      "memory usage: 20.9+ MB\n"
     ]
    }
   ],
   "source": [
    "utterances.info()"
   ]
  },
  {
   "cell_type": "code",
   "execution_count": 9,
   "metadata": {},
   "outputs": [],
   "source": [
    "conversations = corpus.get_conversations_dataframe() # movie genres linked to conversations"
   ]
  },
  {
   "cell_type": "code",
   "execution_count": 10,
   "metadata": {},
   "outputs": [
    {
     "data": {
      "text/html": [
       "<div>\n",
       "<style scoped>\n",
       "    .dataframe tbody tr th:only-of-type {\n",
       "        vertical-align: middle;\n",
       "    }\n",
       "\n",
       "    .dataframe tbody tr th {\n",
       "        vertical-align: top;\n",
       "    }\n",
       "\n",
       "    .dataframe thead th {\n",
       "        text-align: right;\n",
       "    }\n",
       "</style>\n",
       "<table border=\"1\" class=\"dataframe\">\n",
       "  <thead>\n",
       "    <tr style=\"text-align: right;\">\n",
       "      <th></th>\n",
       "      <th>vectors</th>\n",
       "      <th>meta.movie_idx</th>\n",
       "      <th>meta.movie_name</th>\n",
       "      <th>meta.release_year</th>\n",
       "      <th>meta.rating</th>\n",
       "      <th>meta.votes</th>\n",
       "      <th>meta.genre</th>\n",
       "    </tr>\n",
       "    <tr>\n",
       "      <th>id</th>\n",
       "      <th></th>\n",
       "      <th></th>\n",
       "      <th></th>\n",
       "      <th></th>\n",
       "      <th></th>\n",
       "      <th></th>\n",
       "      <th></th>\n",
       "    </tr>\n",
       "  </thead>\n",
       "  <tbody>\n",
       "    <tr>\n",
       "      <th>L1044</th>\n",
       "      <td>[]</td>\n",
       "      <td>m0</td>\n",
       "      <td>10 things i hate about you</td>\n",
       "      <td>1999</td>\n",
       "      <td>6.90</td>\n",
       "      <td>62847</td>\n",
       "      <td>['comedy', 'romance']</td>\n",
       "    </tr>\n",
       "    <tr>\n",
       "      <th>L984</th>\n",
       "      <td>[]</td>\n",
       "      <td>m0</td>\n",
       "      <td>10 things i hate about you</td>\n",
       "      <td>1999</td>\n",
       "      <td>6.90</td>\n",
       "      <td>62847</td>\n",
       "      <td>['comedy', 'romance']</td>\n",
       "    </tr>\n",
       "    <tr>\n",
       "      <th>L924</th>\n",
       "      <td>[]</td>\n",
       "      <td>m0</td>\n",
       "      <td>10 things i hate about you</td>\n",
       "      <td>1999</td>\n",
       "      <td>6.90</td>\n",
       "      <td>62847</td>\n",
       "      <td>['comedy', 'romance']</td>\n",
       "    </tr>\n",
       "    <tr>\n",
       "      <th>L870</th>\n",
       "      <td>[]</td>\n",
       "      <td>m0</td>\n",
       "      <td>10 things i hate about you</td>\n",
       "      <td>1999</td>\n",
       "      <td>6.90</td>\n",
       "      <td>62847</td>\n",
       "      <td>['comedy', 'romance']</td>\n",
       "    </tr>\n",
       "    <tr>\n",
       "      <th>L866</th>\n",
       "      <td>[]</td>\n",
       "      <td>m0</td>\n",
       "      <td>10 things i hate about you</td>\n",
       "      <td>1999</td>\n",
       "      <td>6.90</td>\n",
       "      <td>62847</td>\n",
       "      <td>['comedy', 'romance']</td>\n",
       "    </tr>\n",
       "  </tbody>\n",
       "</table>\n",
       "</div>"
      ],
      "text/plain": [
       "      vectors meta.movie_idx             meta.movie_name meta.release_year  \\\n",
       "id                                                                           \n",
       "L1044      []             m0  10 things i hate about you              1999   \n",
       "L984       []             m0  10 things i hate about you              1999   \n",
       "L924       []             m0  10 things i hate about you              1999   \n",
       "L870       []             m0  10 things i hate about you              1999   \n",
       "L866       []             m0  10 things i hate about you              1999   \n",
       "\n",
       "      meta.rating meta.votes             meta.genre  \n",
       "id                                                   \n",
       "L1044        6.90      62847  ['comedy', 'romance']  \n",
       "L984         6.90      62847  ['comedy', 'romance']  \n",
       "L924         6.90      62847  ['comedy', 'romance']  \n",
       "L870         6.90      62847  ['comedy', 'romance']  \n",
       "L866         6.90      62847  ['comedy', 'romance']  "
      ]
     },
     "execution_count": 10,
     "metadata": {},
     "output_type": "execute_result"
    }
   ],
   "source": [
    "conversations.head()"
   ]
  },
  {
   "cell_type": "code",
   "execution_count": 11,
   "metadata": {},
   "outputs": [
    {
     "name": "stdout",
     "output_type": "stream",
     "text": [
      "<class 'pandas.core.frame.DataFrame'>\n",
      "Index: 83097 entries, L1044 to L666256\n",
      "Data columns (total 7 columns):\n",
      " #   Column             Non-Null Count  Dtype \n",
      "---  ------             --------------  ----- \n",
      " 0   vectors            83097 non-null  object\n",
      " 1   meta.movie_idx     83097 non-null  object\n",
      " 2   meta.movie_name    83097 non-null  object\n",
      " 3   meta.release_year  83097 non-null  object\n",
      " 4   meta.rating        83097 non-null  object\n",
      " 5   meta.votes         83097 non-null  object\n",
      " 6   meta.genre         83097 non-null  object\n",
      "dtypes: object(7)\n",
      "memory usage: 5.1+ MB\n"
     ]
    }
   ],
   "source": [
    "conversations.info()"
   ]
  },
  {
   "cell_type": "code",
   "execution_count": 12,
   "metadata": {},
   "outputs": [
    {
     "data": {
      "text/html": [
       "<div>\n",
       "<style scoped>\n",
       "    .dataframe tbody tr th:only-of-type {\n",
       "        vertical-align: middle;\n",
       "    }\n",
       "\n",
       "    .dataframe tbody tr th {\n",
       "        vertical-align: top;\n",
       "    }\n",
       "\n",
       "    .dataframe thead th {\n",
       "        text-align: right;\n",
       "    }\n",
       "</style>\n",
       "<table border=\"1\" class=\"dataframe\">\n",
       "  <thead>\n",
       "    <tr style=\"text-align: right;\">\n",
       "      <th></th>\n",
       "      <th>vectors</th>\n",
       "      <th>meta.movie_idx</th>\n",
       "      <th>meta.movie_name</th>\n",
       "      <th>meta.release_year</th>\n",
       "      <th>meta.rating</th>\n",
       "      <th>meta.votes</th>\n",
       "      <th>meta.genre</th>\n",
       "    </tr>\n",
       "  </thead>\n",
       "  <tbody>\n",
       "    <tr>\n",
       "      <th>count</th>\n",
       "      <td>83097</td>\n",
       "      <td>83097</td>\n",
       "      <td>83097</td>\n",
       "      <td>83097</td>\n",
       "      <td>83097</td>\n",
       "      <td>83097</td>\n",
       "      <td>83097</td>\n",
       "    </tr>\n",
       "    <tr>\n",
       "      <th>unique</th>\n",
       "      <td>1</td>\n",
       "      <td>617</td>\n",
       "      <td>617</td>\n",
       "      <td>88</td>\n",
       "      <td>62</td>\n",
       "      <td>614</td>\n",
       "      <td>290</td>\n",
       "    </tr>\n",
       "    <tr>\n",
       "      <th>top</th>\n",
       "      <td>[]</td>\n",
       "      <td>m289</td>\n",
       "      <td>casino</td>\n",
       "      <td>1999</td>\n",
       "      <td>7.20</td>\n",
       "      <td>111223</td>\n",
       "      <td>['drama']</td>\n",
       "    </tr>\n",
       "    <tr>\n",
       "      <th>freq</th>\n",
       "      <td>83097</td>\n",
       "      <td>338</td>\n",
       "      <td>338</td>\n",
       "      <td>6646</td>\n",
       "      <td>3694</td>\n",
       "      <td>338</td>\n",
       "      <td>5027</td>\n",
       "    </tr>\n",
       "  </tbody>\n",
       "</table>\n",
       "</div>"
      ],
      "text/plain": [
       "       vectors meta.movie_idx meta.movie_name meta.release_year meta.rating  \\\n",
       "count    83097          83097           83097             83097       83097   \n",
       "unique       1            617             617                88          62   \n",
       "top         []           m289          casino              1999        7.20   \n",
       "freq     83097            338             338              6646        3694   \n",
       "\n",
       "       meta.votes meta.genre  \n",
       "count       83097      83097  \n",
       "unique        614        290  \n",
       "top        111223  ['drama']  \n",
       "freq          338       5027  "
      ]
     },
     "execution_count": 12,
     "metadata": {},
     "output_type": "execute_result"
    }
   ],
   "source": [
    "conversations.describe()"
   ]
  },
  {
   "cell_type": "code",
   "execution_count": 13,
   "metadata": {},
   "outputs": [],
   "source": [
    "characters = corpus.get_speakers_dataframe() # name and gender of speaker "
   ]
  },
  {
   "cell_type": "code",
   "execution_count": 14,
   "metadata": {},
   "outputs": [
    {
     "data": {
      "text/html": [
       "<div>\n",
       "<style scoped>\n",
       "    .dataframe tbody tr th:only-of-type {\n",
       "        vertical-align: middle;\n",
       "    }\n",
       "\n",
       "    .dataframe tbody tr th {\n",
       "        vertical-align: top;\n",
       "    }\n",
       "\n",
       "    .dataframe thead th {\n",
       "        text-align: right;\n",
       "    }\n",
       "</style>\n",
       "<table border=\"1\" class=\"dataframe\">\n",
       "  <thead>\n",
       "    <tr style=\"text-align: right;\">\n",
       "      <th></th>\n",
       "      <th>vectors</th>\n",
       "      <th>meta.character_name</th>\n",
       "      <th>meta.movie_idx</th>\n",
       "      <th>meta.movie_name</th>\n",
       "      <th>meta.gender</th>\n",
       "      <th>meta.credit_pos</th>\n",
       "    </tr>\n",
       "    <tr>\n",
       "      <th>id</th>\n",
       "      <th></th>\n",
       "      <th></th>\n",
       "      <th></th>\n",
       "      <th></th>\n",
       "      <th></th>\n",
       "      <th></th>\n",
       "    </tr>\n",
       "  </thead>\n",
       "  <tbody>\n",
       "    <tr>\n",
       "      <th>u0</th>\n",
       "      <td>[]</td>\n",
       "      <td>BIANCA</td>\n",
       "      <td>m0</td>\n",
       "      <td>10 things i hate about you</td>\n",
       "      <td>f</td>\n",
       "      <td>4</td>\n",
       "    </tr>\n",
       "    <tr>\n",
       "      <th>u2</th>\n",
       "      <td>[]</td>\n",
       "      <td>CAMERON</td>\n",
       "      <td>m0</td>\n",
       "      <td>10 things i hate about you</td>\n",
       "      <td>m</td>\n",
       "      <td>3</td>\n",
       "    </tr>\n",
       "    <tr>\n",
       "      <th>u3</th>\n",
       "      <td>[]</td>\n",
       "      <td>CHASTITY</td>\n",
       "      <td>m0</td>\n",
       "      <td>10 things i hate about you</td>\n",
       "      <td>?</td>\n",
       "      <td>?</td>\n",
       "    </tr>\n",
       "    <tr>\n",
       "      <th>u4</th>\n",
       "      <td>[]</td>\n",
       "      <td>JOEY</td>\n",
       "      <td>m0</td>\n",
       "      <td>10 things i hate about you</td>\n",
       "      <td>m</td>\n",
       "      <td>6</td>\n",
       "    </tr>\n",
       "    <tr>\n",
       "      <th>u5</th>\n",
       "      <td>[]</td>\n",
       "      <td>KAT</td>\n",
       "      <td>m0</td>\n",
       "      <td>10 things i hate about you</td>\n",
       "      <td>f</td>\n",
       "      <td>2</td>\n",
       "    </tr>\n",
       "  </tbody>\n",
       "</table>\n",
       "</div>"
      ],
      "text/plain": [
       "   vectors meta.character_name meta.movie_idx             meta.movie_name  \\\n",
       "id                                                                          \n",
       "u0      []              BIANCA             m0  10 things i hate about you   \n",
       "u2      []             CAMERON             m0  10 things i hate about you   \n",
       "u3      []            CHASTITY             m0  10 things i hate about you   \n",
       "u4      []                JOEY             m0  10 things i hate about you   \n",
       "u5      []                 KAT             m0  10 things i hate about you   \n",
       "\n",
       "   meta.gender meta.credit_pos  \n",
       "id                              \n",
       "u0           f               4  \n",
       "u2           m               3  \n",
       "u3           ?               ?  \n",
       "u4           m               6  \n",
       "u5           f               2  "
      ]
     },
     "execution_count": 14,
     "metadata": {},
     "output_type": "execute_result"
    }
   ],
   "source": [
    "characters.head()"
   ]
  },
  {
   "cell_type": "code",
   "execution_count": 15,
   "metadata": {},
   "outputs": [
    {
     "data": {
      "text/plain": [
       "?    6020\n",
       "m    1899\n",
       "f     921\n",
       "M     150\n",
       "F      45\n",
       "Name: meta.gender, dtype: int64"
      ]
     },
     "execution_count": 15,
     "metadata": {},
     "output_type": "execute_result"
    }
   ],
   "source": [
    "characters['meta.gender'].value_counts()"
   ]
  },
  {
   "cell_type": "code",
   "execution_count": 16,
   "metadata": {},
   "outputs": [
    {
     "data": {
      "text/plain": [
       "?    6020\n",
       "m    2049\n",
       "f     966\n",
       "Name: meta.gender, dtype: int64"
      ]
     },
     "execution_count": 16,
     "metadata": {},
     "output_type": "execute_result"
    }
   ],
   "source": [
    "# Clean the gender column\n",
    "characters['meta.gender'] = characters['meta.gender'].str.lower()\n",
    "characters['meta.gender'].value_counts()"
   ]
  },
  {
   "cell_type": "code",
   "execution_count": 17,
   "metadata": {},
   "outputs": [
    {
     "name": "stdout",
     "output_type": "stream",
     "text": [
      "['f' 'm' '?']\n"
     ]
    }
   ],
   "source": [
    "print(characters['meta.gender'].unique())"
   ]
  },
  {
   "cell_type": "code",
   "execution_count": 18,
   "metadata": {},
   "outputs": [
    {
     "data": {
      "text/plain": [
       "m    2049\n",
       "f     966\n",
       "Name: meta.gender, dtype: int64"
      ]
     },
     "execution_count": 18,
     "metadata": {},
     "output_type": "execute_result"
    }
   ],
   "source": [
    "# Drop the ? value\n",
    "rows_to_drop = characters[characters['meta.gender'] == '?'].index\n",
    "characters = characters.drop(rows_to_drop)\n",
    "characters['meta.gender'].value_counts()"
   ]
  },
  {
   "cell_type": "markdown",
   "metadata": {},
   "source": [
    "## Merge the Dataframes"
   ]
  },
  {
   "cell_type": "code",
   "execution_count": 19,
   "metadata": {},
   "outputs": [
    {
     "data": {
      "text/html": [
       "<div>\n",
       "<style scoped>\n",
       "    .dataframe tbody tr th:only-of-type {\n",
       "        vertical-align: middle;\n",
       "    }\n",
       "\n",
       "    .dataframe tbody tr th {\n",
       "        vertical-align: top;\n",
       "    }\n",
       "\n",
       "    .dataframe thead th {\n",
       "        text-align: right;\n",
       "    }\n",
       "</style>\n",
       "<table border=\"1\" class=\"dataframe\">\n",
       "  <thead>\n",
       "    <tr style=\"text-align: right;\">\n",
       "      <th></th>\n",
       "      <th>timestamp</th>\n",
       "      <th>text</th>\n",
       "      <th>speaker</th>\n",
       "      <th>reply_to</th>\n",
       "      <th>conversation_id</th>\n",
       "      <th>meta.movie_id</th>\n",
       "      <th>meta.parsed</th>\n",
       "      <th>vectors_utterance</th>\n",
       "      <th>vectors_conversation</th>\n",
       "      <th>meta.movie_idx</th>\n",
       "      <th>meta.movie_name</th>\n",
       "      <th>meta.release_year</th>\n",
       "      <th>meta.rating</th>\n",
       "      <th>meta.votes</th>\n",
       "      <th>meta.genre</th>\n",
       "    </tr>\n",
       "  </thead>\n",
       "  <tbody>\n",
       "    <tr>\n",
       "      <th>0</th>\n",
       "      <td>None</td>\n",
       "      <td>They do not!</td>\n",
       "      <td>u0</td>\n",
       "      <td>L1044</td>\n",
       "      <td>L1044</td>\n",
       "      <td>m0</td>\n",
       "      <td>[{'rt': 1, 'toks': [{'tok': 'They', 'tag': 'PR...</td>\n",
       "      <td>[]</td>\n",
       "      <td>[]</td>\n",
       "      <td>m0</td>\n",
       "      <td>10 things i hate about you</td>\n",
       "      <td>1999</td>\n",
       "      <td>6.90</td>\n",
       "      <td>62847</td>\n",
       "      <td>['comedy', 'romance']</td>\n",
       "    </tr>\n",
       "    <tr>\n",
       "      <th>1</th>\n",
       "      <td>None</td>\n",
       "      <td>They do to!</td>\n",
       "      <td>u2</td>\n",
       "      <td>None</td>\n",
       "      <td>L1044</td>\n",
       "      <td>m0</td>\n",
       "      <td>[{'rt': 1, 'toks': [{'tok': 'They', 'tag': 'PR...</td>\n",
       "      <td>[]</td>\n",
       "      <td>[]</td>\n",
       "      <td>m0</td>\n",
       "      <td>10 things i hate about you</td>\n",
       "      <td>1999</td>\n",
       "      <td>6.90</td>\n",
       "      <td>62847</td>\n",
       "      <td>['comedy', 'romance']</td>\n",
       "    </tr>\n",
       "    <tr>\n",
       "      <th>2</th>\n",
       "      <td>None</td>\n",
       "      <td>I hope so.</td>\n",
       "      <td>u0</td>\n",
       "      <td>L984</td>\n",
       "      <td>L984</td>\n",
       "      <td>m0</td>\n",
       "      <td>[{'rt': 1, 'toks': [{'tok': 'I', 'tag': 'PRP',...</td>\n",
       "      <td>[]</td>\n",
       "      <td>[]</td>\n",
       "      <td>m0</td>\n",
       "      <td>10 things i hate about you</td>\n",
       "      <td>1999</td>\n",
       "      <td>6.90</td>\n",
       "      <td>62847</td>\n",
       "      <td>['comedy', 'romance']</td>\n",
       "    </tr>\n",
       "    <tr>\n",
       "      <th>3</th>\n",
       "      <td>None</td>\n",
       "      <td>She okay?</td>\n",
       "      <td>u2</td>\n",
       "      <td>None</td>\n",
       "      <td>L984</td>\n",
       "      <td>m0</td>\n",
       "      <td>[{'rt': 1, 'toks': [{'tok': 'She', 'tag': 'PRP...</td>\n",
       "      <td>[]</td>\n",
       "      <td>[]</td>\n",
       "      <td>m0</td>\n",
       "      <td>10 things i hate about you</td>\n",
       "      <td>1999</td>\n",
       "      <td>6.90</td>\n",
       "      <td>62847</td>\n",
       "      <td>['comedy', 'romance']</td>\n",
       "    </tr>\n",
       "    <tr>\n",
       "      <th>4</th>\n",
       "      <td>None</td>\n",
       "      <td>Let's go.</td>\n",
       "      <td>u0</td>\n",
       "      <td>L924</td>\n",
       "      <td>L924</td>\n",
       "      <td>m0</td>\n",
       "      <td>[{'rt': 0, 'toks': [{'tok': 'Let', 'tag': 'VB'...</td>\n",
       "      <td>[]</td>\n",
       "      <td>[]</td>\n",
       "      <td>m0</td>\n",
       "      <td>10 things i hate about you</td>\n",
       "      <td>1999</td>\n",
       "      <td>6.90</td>\n",
       "      <td>62847</td>\n",
       "      <td>['comedy', 'romance']</td>\n",
       "    </tr>\n",
       "  </tbody>\n",
       "</table>\n",
       "</div>"
      ],
      "text/plain": [
       "  timestamp          text speaker reply_to conversation_id meta.movie_id  \\\n",
       "0      None  They do not!      u0    L1044           L1044            m0   \n",
       "1      None   They do to!      u2     None           L1044            m0   \n",
       "2      None    I hope so.      u0     L984            L984            m0   \n",
       "3      None     She okay?      u2     None            L984            m0   \n",
       "4      None     Let's go.      u0     L924            L924            m0   \n",
       "\n",
       "                                         meta.parsed vectors_utterance  \\\n",
       "0  [{'rt': 1, 'toks': [{'tok': 'They', 'tag': 'PR...                []   \n",
       "1  [{'rt': 1, 'toks': [{'tok': 'They', 'tag': 'PR...                []   \n",
       "2  [{'rt': 1, 'toks': [{'tok': 'I', 'tag': 'PRP',...                []   \n",
       "3  [{'rt': 1, 'toks': [{'tok': 'She', 'tag': 'PRP...                []   \n",
       "4  [{'rt': 0, 'toks': [{'tok': 'Let', 'tag': 'VB'...                []   \n",
       "\n",
       "  vectors_conversation meta.movie_idx             meta.movie_name  \\\n",
       "0                   []             m0  10 things i hate about you   \n",
       "1                   []             m0  10 things i hate about you   \n",
       "2                   []             m0  10 things i hate about you   \n",
       "3                   []             m0  10 things i hate about you   \n",
       "4                   []             m0  10 things i hate about you   \n",
       "\n",
       "  meta.release_year meta.rating meta.votes             meta.genre  \n",
       "0              1999        6.90      62847  ['comedy', 'romance']  \n",
       "1              1999        6.90      62847  ['comedy', 'romance']  \n",
       "2              1999        6.90      62847  ['comedy', 'romance']  \n",
       "3              1999        6.90      62847  ['comedy', 'romance']  \n",
       "4              1999        6.90      62847  ['comedy', 'romance']  "
      ]
     },
     "execution_count": 19,
     "metadata": {},
     "output_type": "execute_result"
    }
   ],
   "source": [
    "# Merge the DataFrames on 'conversation_id' from utterances and 'id' from conversations\n",
    "merged_df = pd.merge(utterances, conversations, left_on='conversation_id', right_on='id', suffixes=('_utterance', '_conversation'))\n",
    "merged_df.head()"
   ]
  },
  {
   "cell_type": "code",
   "execution_count": 20,
   "metadata": {},
   "outputs": [
    {
     "data": {
      "text/html": [
       "<div>\n",
       "<style scoped>\n",
       "    .dataframe tbody tr th:only-of-type {\n",
       "        vertical-align: middle;\n",
       "    }\n",
       "\n",
       "    .dataframe tbody tr th {\n",
       "        vertical-align: top;\n",
       "    }\n",
       "\n",
       "    .dataframe thead th {\n",
       "        text-align: right;\n",
       "    }\n",
       "</style>\n",
       "<table border=\"1\" class=\"dataframe\">\n",
       "  <thead>\n",
       "    <tr style=\"text-align: right;\">\n",
       "      <th></th>\n",
       "      <th>timestamp</th>\n",
       "      <th>text</th>\n",
       "      <th>speaker</th>\n",
       "      <th>reply_to</th>\n",
       "      <th>conversation_id</th>\n",
       "      <th>meta.movie_id</th>\n",
       "      <th>meta.parsed</th>\n",
       "      <th>vectors_utterance</th>\n",
       "      <th>vectors_conversation</th>\n",
       "      <th>meta.movie_idx_merged</th>\n",
       "      <th>...</th>\n",
       "      <th>meta.release_year</th>\n",
       "      <th>meta.rating</th>\n",
       "      <th>meta.votes</th>\n",
       "      <th>meta.genre</th>\n",
       "      <th>vectors</th>\n",
       "      <th>meta.character_name</th>\n",
       "      <th>meta.movie_idx_character</th>\n",
       "      <th>meta.movie_name_character</th>\n",
       "      <th>meta.gender</th>\n",
       "      <th>meta.credit_pos</th>\n",
       "    </tr>\n",
       "  </thead>\n",
       "  <tbody>\n",
       "    <tr>\n",
       "      <th>0</th>\n",
       "      <td>None</td>\n",
       "      <td>They do not!</td>\n",
       "      <td>u0</td>\n",
       "      <td>L1044</td>\n",
       "      <td>L1044</td>\n",
       "      <td>m0</td>\n",
       "      <td>[{'rt': 1, 'toks': [{'tok': 'They', 'tag': 'PR...</td>\n",
       "      <td>[]</td>\n",
       "      <td>[]</td>\n",
       "      <td>m0</td>\n",
       "      <td>...</td>\n",
       "      <td>1999</td>\n",
       "      <td>6.90</td>\n",
       "      <td>62847</td>\n",
       "      <td>['comedy', 'romance']</td>\n",
       "      <td>[]</td>\n",
       "      <td>BIANCA</td>\n",
       "      <td>m0</td>\n",
       "      <td>10 things i hate about you</td>\n",
       "      <td>f</td>\n",
       "      <td>4</td>\n",
       "    </tr>\n",
       "    <tr>\n",
       "      <th>1</th>\n",
       "      <td>None</td>\n",
       "      <td>They do to!</td>\n",
       "      <td>u2</td>\n",
       "      <td>None</td>\n",
       "      <td>L1044</td>\n",
       "      <td>m0</td>\n",
       "      <td>[{'rt': 1, 'toks': [{'tok': 'They', 'tag': 'PR...</td>\n",
       "      <td>[]</td>\n",
       "      <td>[]</td>\n",
       "      <td>m0</td>\n",
       "      <td>...</td>\n",
       "      <td>1999</td>\n",
       "      <td>6.90</td>\n",
       "      <td>62847</td>\n",
       "      <td>['comedy', 'romance']</td>\n",
       "      <td>[]</td>\n",
       "      <td>CAMERON</td>\n",
       "      <td>m0</td>\n",
       "      <td>10 things i hate about you</td>\n",
       "      <td>m</td>\n",
       "      <td>3</td>\n",
       "    </tr>\n",
       "    <tr>\n",
       "      <th>2</th>\n",
       "      <td>None</td>\n",
       "      <td>I hope so.</td>\n",
       "      <td>u0</td>\n",
       "      <td>L984</td>\n",
       "      <td>L984</td>\n",
       "      <td>m0</td>\n",
       "      <td>[{'rt': 1, 'toks': [{'tok': 'I', 'tag': 'PRP',...</td>\n",
       "      <td>[]</td>\n",
       "      <td>[]</td>\n",
       "      <td>m0</td>\n",
       "      <td>...</td>\n",
       "      <td>1999</td>\n",
       "      <td>6.90</td>\n",
       "      <td>62847</td>\n",
       "      <td>['comedy', 'romance']</td>\n",
       "      <td>[]</td>\n",
       "      <td>BIANCA</td>\n",
       "      <td>m0</td>\n",
       "      <td>10 things i hate about you</td>\n",
       "      <td>f</td>\n",
       "      <td>4</td>\n",
       "    </tr>\n",
       "    <tr>\n",
       "      <th>3</th>\n",
       "      <td>None</td>\n",
       "      <td>She okay?</td>\n",
       "      <td>u2</td>\n",
       "      <td>None</td>\n",
       "      <td>L984</td>\n",
       "      <td>m0</td>\n",
       "      <td>[{'rt': 1, 'toks': [{'tok': 'She', 'tag': 'PRP...</td>\n",
       "      <td>[]</td>\n",
       "      <td>[]</td>\n",
       "      <td>m0</td>\n",
       "      <td>...</td>\n",
       "      <td>1999</td>\n",
       "      <td>6.90</td>\n",
       "      <td>62847</td>\n",
       "      <td>['comedy', 'romance']</td>\n",
       "      <td>[]</td>\n",
       "      <td>CAMERON</td>\n",
       "      <td>m0</td>\n",
       "      <td>10 things i hate about you</td>\n",
       "      <td>m</td>\n",
       "      <td>3</td>\n",
       "    </tr>\n",
       "    <tr>\n",
       "      <th>4</th>\n",
       "      <td>None</td>\n",
       "      <td>Let's go.</td>\n",
       "      <td>u0</td>\n",
       "      <td>L924</td>\n",
       "      <td>L924</td>\n",
       "      <td>m0</td>\n",
       "      <td>[{'rt': 0, 'toks': [{'tok': 'Let', 'tag': 'VB'...</td>\n",
       "      <td>[]</td>\n",
       "      <td>[]</td>\n",
       "      <td>m0</td>\n",
       "      <td>...</td>\n",
       "      <td>1999</td>\n",
       "      <td>6.90</td>\n",
       "      <td>62847</td>\n",
       "      <td>['comedy', 'romance']</td>\n",
       "      <td>[]</td>\n",
       "      <td>BIANCA</td>\n",
       "      <td>m0</td>\n",
       "      <td>10 things i hate about you</td>\n",
       "      <td>f</td>\n",
       "      <td>4</td>\n",
       "    </tr>\n",
       "  </tbody>\n",
       "</table>\n",
       "<p>5 rows × 21 columns</p>\n",
       "</div>"
      ],
      "text/plain": [
       "  timestamp          text speaker reply_to conversation_id meta.movie_id  \\\n",
       "0      None  They do not!      u0    L1044           L1044            m0   \n",
       "1      None   They do to!      u2     None           L1044            m0   \n",
       "2      None    I hope so.      u0     L984            L984            m0   \n",
       "3      None     She okay?      u2     None            L984            m0   \n",
       "4      None     Let's go.      u0     L924            L924            m0   \n",
       "\n",
       "                                         meta.parsed vectors_utterance  \\\n",
       "0  [{'rt': 1, 'toks': [{'tok': 'They', 'tag': 'PR...                []   \n",
       "1  [{'rt': 1, 'toks': [{'tok': 'They', 'tag': 'PR...                []   \n",
       "2  [{'rt': 1, 'toks': [{'tok': 'I', 'tag': 'PRP',...                []   \n",
       "3  [{'rt': 1, 'toks': [{'tok': 'She', 'tag': 'PRP...                []   \n",
       "4  [{'rt': 0, 'toks': [{'tok': 'Let', 'tag': 'VB'...                []   \n",
       "\n",
       "  vectors_conversation meta.movie_idx_merged  ... meta.release_year  \\\n",
       "0                   []                    m0  ...              1999   \n",
       "1                   []                    m0  ...              1999   \n",
       "2                   []                    m0  ...              1999   \n",
       "3                   []                    m0  ...              1999   \n",
       "4                   []                    m0  ...              1999   \n",
       "\n",
       "  meta.rating meta.votes             meta.genre vectors meta.character_name  \\\n",
       "0        6.90      62847  ['comedy', 'romance']      []              BIANCA   \n",
       "1        6.90      62847  ['comedy', 'romance']      []             CAMERON   \n",
       "2        6.90      62847  ['comedy', 'romance']      []              BIANCA   \n",
       "3        6.90      62847  ['comedy', 'romance']      []             CAMERON   \n",
       "4        6.90      62847  ['comedy', 'romance']      []              BIANCA   \n",
       "\n",
       "  meta.movie_idx_character   meta.movie_name_character meta.gender  \\\n",
       "0                       m0  10 things i hate about you           f   \n",
       "1                       m0  10 things i hate about you           m   \n",
       "2                       m0  10 things i hate about you           f   \n",
       "3                       m0  10 things i hate about you           m   \n",
       "4                       m0  10 things i hate about you           f   \n",
       "\n",
       "  meta.credit_pos  \n",
       "0               4  \n",
       "1               3  \n",
       "2               4  \n",
       "3               3  \n",
       "4               4  \n",
       "\n",
       "[5 rows x 21 columns]"
      ]
     },
     "execution_count": 20,
     "metadata": {},
     "output_type": "execute_result"
    }
   ],
   "source": [
    "# # Merge the DataFrames on 'speaker' from merged and 'id' from character\n",
    "final_df = pd.merge(merged_df, characters, left_on='speaker', right_on='id', how='left', suffixes=('_merged', '_character'))\n",
    "final_df.head()"
   ]
  },
  {
   "cell_type": "code",
   "execution_count": 21,
   "metadata": {},
   "outputs": [
    {
     "data": {
      "text/plain": [
       "u4525    537\n",
       "u1169    489\n",
       "u1475    472\n",
       "u3681    467\n",
       "u4331    465\n",
       "        ... \n",
       "u7566      3\n",
       "u7562      3\n",
       "u8483      3\n",
       "u1840      3\n",
       "u8011      3\n",
       "Name: speaker, Length: 9035, dtype: int64"
      ]
     },
     "execution_count": 21,
     "metadata": {},
     "output_type": "execute_result"
    }
   ],
   "source": [
    "final_df['speaker'].value_counts() # how many times we see every speaker intervenes"
   ]
  },
  {
   "cell_type": "code",
   "execution_count": 22,
   "metadata": {},
   "outputs": [
    {
     "data": {
      "text/html": [
       "<div>\n",
       "<style scoped>\n",
       "    .dataframe tbody tr th:only-of-type {\n",
       "        vertical-align: middle;\n",
       "    }\n",
       "\n",
       "    .dataframe tbody tr th {\n",
       "        vertical-align: top;\n",
       "    }\n",
       "\n",
       "    .dataframe thead th {\n",
       "        text-align: right;\n",
       "    }\n",
       "</style>\n",
       "<table border=\"1\" class=\"dataframe\">\n",
       "  <thead>\n",
       "    <tr style=\"text-align: right;\">\n",
       "      <th></th>\n",
       "      <th>timestamp</th>\n",
       "      <th>text</th>\n",
       "      <th>speaker</th>\n",
       "      <th>reply_to</th>\n",
       "      <th>conversation_id</th>\n",
       "      <th>meta.movie_id</th>\n",
       "      <th>meta.parsed</th>\n",
       "      <th>vectors_utterance</th>\n",
       "      <th>vectors_conversation</th>\n",
       "      <th>meta.movie_idx_merged</th>\n",
       "      <th>...</th>\n",
       "      <th>meta.rating</th>\n",
       "      <th>meta.votes</th>\n",
       "      <th>meta.genre</th>\n",
       "      <th>vectors</th>\n",
       "      <th>meta.character_name</th>\n",
       "      <th>meta.movie_idx_character</th>\n",
       "      <th>meta.movie_name_character</th>\n",
       "      <th>meta.gender</th>\n",
       "      <th>meta.credit_pos</th>\n",
       "      <th>line_count</th>\n",
       "    </tr>\n",
       "  </thead>\n",
       "  <tbody>\n",
       "    <tr>\n",
       "      <th>0</th>\n",
       "      <td>None</td>\n",
       "      <td>They do not!</td>\n",
       "      <td>u0</td>\n",
       "      <td>L1044</td>\n",
       "      <td>L1044</td>\n",
       "      <td>m0</td>\n",
       "      <td>[{'rt': 1, 'toks': [{'tok': 'They', 'tag': 'PR...</td>\n",
       "      <td>[]</td>\n",
       "      <td>[]</td>\n",
       "      <td>m0</td>\n",
       "      <td>...</td>\n",
       "      <td>6.90</td>\n",
       "      <td>62847</td>\n",
       "      <td>['comedy', 'romance']</td>\n",
       "      <td>[]</td>\n",
       "      <td>BIANCA</td>\n",
       "      <td>m0</td>\n",
       "      <td>10 things i hate about you</td>\n",
       "      <td>f</td>\n",
       "      <td>4</td>\n",
       "      <td>98</td>\n",
       "    </tr>\n",
       "    <tr>\n",
       "      <th>1</th>\n",
       "      <td>None</td>\n",
       "      <td>They do to!</td>\n",
       "      <td>u2</td>\n",
       "      <td>None</td>\n",
       "      <td>L1044</td>\n",
       "      <td>m0</td>\n",
       "      <td>[{'rt': 1, 'toks': [{'tok': 'They', 'tag': 'PR...</td>\n",
       "      <td>[]</td>\n",
       "      <td>[]</td>\n",
       "      <td>m0</td>\n",
       "      <td>...</td>\n",
       "      <td>6.90</td>\n",
       "      <td>62847</td>\n",
       "      <td>['comedy', 'romance']</td>\n",
       "      <td>[]</td>\n",
       "      <td>CAMERON</td>\n",
       "      <td>m0</td>\n",
       "      <td>10 things i hate about you</td>\n",
       "      <td>m</td>\n",
       "      <td>3</td>\n",
       "      <td>78</td>\n",
       "    </tr>\n",
       "    <tr>\n",
       "      <th>2</th>\n",
       "      <td>None</td>\n",
       "      <td>I hope so.</td>\n",
       "      <td>u0</td>\n",
       "      <td>L984</td>\n",
       "      <td>L984</td>\n",
       "      <td>m0</td>\n",
       "      <td>[{'rt': 1, 'toks': [{'tok': 'I', 'tag': 'PRP',...</td>\n",
       "      <td>[]</td>\n",
       "      <td>[]</td>\n",
       "      <td>m0</td>\n",
       "      <td>...</td>\n",
       "      <td>6.90</td>\n",
       "      <td>62847</td>\n",
       "      <td>['comedy', 'romance']</td>\n",
       "      <td>[]</td>\n",
       "      <td>BIANCA</td>\n",
       "      <td>m0</td>\n",
       "      <td>10 things i hate about you</td>\n",
       "      <td>f</td>\n",
       "      <td>4</td>\n",
       "      <td>98</td>\n",
       "    </tr>\n",
       "    <tr>\n",
       "      <th>3</th>\n",
       "      <td>None</td>\n",
       "      <td>She okay?</td>\n",
       "      <td>u2</td>\n",
       "      <td>None</td>\n",
       "      <td>L984</td>\n",
       "      <td>m0</td>\n",
       "      <td>[{'rt': 1, 'toks': [{'tok': 'She', 'tag': 'PRP...</td>\n",
       "      <td>[]</td>\n",
       "      <td>[]</td>\n",
       "      <td>m0</td>\n",
       "      <td>...</td>\n",
       "      <td>6.90</td>\n",
       "      <td>62847</td>\n",
       "      <td>['comedy', 'romance']</td>\n",
       "      <td>[]</td>\n",
       "      <td>CAMERON</td>\n",
       "      <td>m0</td>\n",
       "      <td>10 things i hate about you</td>\n",
       "      <td>m</td>\n",
       "      <td>3</td>\n",
       "      <td>78</td>\n",
       "    </tr>\n",
       "    <tr>\n",
       "      <th>4</th>\n",
       "      <td>None</td>\n",
       "      <td>Let's go.</td>\n",
       "      <td>u0</td>\n",
       "      <td>L924</td>\n",
       "      <td>L924</td>\n",
       "      <td>m0</td>\n",
       "      <td>[{'rt': 0, 'toks': [{'tok': 'Let', 'tag': 'VB'...</td>\n",
       "      <td>[]</td>\n",
       "      <td>[]</td>\n",
       "      <td>m0</td>\n",
       "      <td>...</td>\n",
       "      <td>6.90</td>\n",
       "      <td>62847</td>\n",
       "      <td>['comedy', 'romance']</td>\n",
       "      <td>[]</td>\n",
       "      <td>BIANCA</td>\n",
       "      <td>m0</td>\n",
       "      <td>10 things i hate about you</td>\n",
       "      <td>f</td>\n",
       "      <td>4</td>\n",
       "      <td>98</td>\n",
       "    </tr>\n",
       "  </tbody>\n",
       "</table>\n",
       "<p>5 rows × 22 columns</p>\n",
       "</div>"
      ],
      "text/plain": [
       "  timestamp          text speaker reply_to conversation_id meta.movie_id  \\\n",
       "0      None  They do not!      u0    L1044           L1044            m0   \n",
       "1      None   They do to!      u2     None           L1044            m0   \n",
       "2      None    I hope so.      u0     L984            L984            m0   \n",
       "3      None     She okay?      u2     None            L984            m0   \n",
       "4      None     Let's go.      u0     L924            L924            m0   \n",
       "\n",
       "                                         meta.parsed vectors_utterance  \\\n",
       "0  [{'rt': 1, 'toks': [{'tok': 'They', 'tag': 'PR...                []   \n",
       "1  [{'rt': 1, 'toks': [{'tok': 'They', 'tag': 'PR...                []   \n",
       "2  [{'rt': 1, 'toks': [{'tok': 'I', 'tag': 'PRP',...                []   \n",
       "3  [{'rt': 1, 'toks': [{'tok': 'She', 'tag': 'PRP...                []   \n",
       "4  [{'rt': 0, 'toks': [{'tok': 'Let', 'tag': 'VB'...                []   \n",
       "\n",
       "  vectors_conversation meta.movie_idx_merged  ... meta.rating meta.votes  \\\n",
       "0                   []                    m0  ...        6.90      62847   \n",
       "1                   []                    m0  ...        6.90      62847   \n",
       "2                   []                    m0  ...        6.90      62847   \n",
       "3                   []                    m0  ...        6.90      62847   \n",
       "4                   []                    m0  ...        6.90      62847   \n",
       "\n",
       "              meta.genre vectors meta.character_name meta.movie_idx_character  \\\n",
       "0  ['comedy', 'romance']      []              BIANCA                       m0   \n",
       "1  ['comedy', 'romance']      []             CAMERON                       m0   \n",
       "2  ['comedy', 'romance']      []              BIANCA                       m0   \n",
       "3  ['comedy', 'romance']      []             CAMERON                       m0   \n",
       "4  ['comedy', 'romance']      []              BIANCA                       m0   \n",
       "\n",
       "    meta.movie_name_character meta.gender meta.credit_pos line_count  \n",
       "0  10 things i hate about you           f               4         98  \n",
       "1  10 things i hate about you           m               3         78  \n",
       "2  10 things i hate about you           f               4         98  \n",
       "3  10 things i hate about you           m               3         78  \n",
       "4  10 things i hate about you           f               4         98  \n",
       "\n",
       "[5 rows x 22 columns]"
      ]
     },
     "execution_count": 22,
     "metadata": {},
     "output_type": "execute_result"
    }
   ],
   "source": [
    "# Add a column with the number of line each character has\n",
    "final_df['line_count'] = final_df.groupby('speaker')['speaker'].transform('size')\n",
    "final_df.head()"
   ]
  },
  {
   "cell_type": "code",
   "execution_count": 25,
   "metadata": {},
   "outputs": [
    {
     "data": {
      "text/plain": [
       "(304713, 22)"
      ]
     },
     "execution_count": 25,
     "metadata": {},
     "output_type": "execute_result"
    }
   ],
   "source": [
    "final_df.shape"
   ]
  },
  {
   "cell_type": "code",
   "execution_count": 24,
   "metadata": {},
   "outputs": [
    {
     "name": "stdout",
     "output_type": "stream",
     "text": [
      "timestamp                    304713\n",
      "text                              0\n",
      "speaker                           0\n",
      "reply_to                      83097\n",
      "conversation_id                   0\n",
      "meta.movie_id                     0\n",
      "meta.parsed                       0\n",
      "vectors_utterance                 0\n",
      "vectors_conversation              0\n",
      "meta.movie_idx_merged             0\n",
      "meta.movie_name_merged            0\n",
      "meta.release_year                 0\n",
      "meta.rating                       0\n",
      "meta.votes                        0\n",
      "meta.genre                        0\n",
      "vectors                       62690\n",
      "meta.character_name           62690\n",
      "meta.movie_idx_character      62690\n",
      "meta.movie_name_character     62690\n",
      "meta.gender                   62690\n",
      "meta.credit_pos               62690\n",
      "line_count                        0\n",
      "dtype: int64\n"
     ]
    }
   ],
   "source": [
    "# Check all null values\n",
    "print(final_df.isnull().sum())"
   ]
  },
  {
   "cell_type": "code",
   "execution_count": 26,
   "metadata": {},
   "outputs": [
    {
     "data": {
      "text/plain": [
       "0"
      ]
     },
     "execution_count": 26,
     "metadata": {},
     "output_type": "execute_result"
    }
   ],
   "source": [
    "# Drop null values in gender after the mergin of datasets\n",
    "final_df = final_df.dropna(subset=['meta.gender'])\n",
    "final_df['meta.gender'].isnull().sum()"
   ]
  },
  {
   "cell_type": "code",
   "execution_count": 27,
   "metadata": {},
   "outputs": [
    {
     "data": {
      "text/plain": [
       "m    170768\n",
       "f     71255\n",
       "Name: meta.gender, dtype: int64"
      ]
     },
     "execution_count": 27,
     "metadata": {},
     "output_type": "execute_result"
    }
   ],
   "source": [
    "final_df['meta.gender'].value_counts()"
   ]
  },
  {
   "cell_type": "code",
   "execution_count": 29,
   "metadata": {},
   "outputs": [
    {
     "ename": "KeyError",
     "evalue": "\"['timestamp'] not found in axis\"",
     "output_type": "error",
     "traceback": [
      "\u001b[0;31m---------------------------------------------------------------------------\u001b[0m",
      "\u001b[0;31mKeyError\u001b[0m                                  Traceback (most recent call last)",
      "Cell \u001b[0;32mIn[29], line 1\u001b[0m\n\u001b[0;32m----> 1\u001b[0m final_df \u001b[38;5;241m=\u001b[39m final_df\u001b[38;5;241m.\u001b[39mdrop(columns\u001b[38;5;241m=\u001b[39m[\u001b[38;5;124m'\u001b[39m\u001b[38;5;124mtimestamp\u001b[39m\u001b[38;5;124m'\u001b[39m])\n\u001b[1;32m      2\u001b[0m \u001b[38;5;28mprint\u001b[39m(final_df\u001b[38;5;241m.\u001b[39misnull()\u001b[38;5;241m.\u001b[39msum())\n",
      "File \u001b[0;32m~/anaconda3/lib/python3.11/site-packages/pandas/util/_decorators.py:331\u001b[0m, in \u001b[0;36mdeprecate_nonkeyword_arguments.<locals>.decorate.<locals>.wrapper\u001b[0;34m(*args, **kwargs)\u001b[0m\n\u001b[1;32m    325\u001b[0m \u001b[38;5;28;01mif\u001b[39;00m \u001b[38;5;28mlen\u001b[39m(args) \u001b[38;5;241m>\u001b[39m num_allow_args:\n\u001b[1;32m    326\u001b[0m     warnings\u001b[38;5;241m.\u001b[39mwarn(\n\u001b[1;32m    327\u001b[0m         msg\u001b[38;5;241m.\u001b[39mformat(arguments\u001b[38;5;241m=\u001b[39m_format_argument_list(allow_args)),\n\u001b[1;32m    328\u001b[0m         \u001b[38;5;167;01mFutureWarning\u001b[39;00m,\n\u001b[1;32m    329\u001b[0m         stacklevel\u001b[38;5;241m=\u001b[39mfind_stack_level(),\n\u001b[1;32m    330\u001b[0m     )\n\u001b[0;32m--> 331\u001b[0m \u001b[38;5;28;01mreturn\u001b[39;00m func(\u001b[38;5;241m*\u001b[39margs, \u001b[38;5;241m*\u001b[39m\u001b[38;5;241m*\u001b[39mkwargs)\n",
      "File \u001b[0;32m~/anaconda3/lib/python3.11/site-packages/pandas/core/frame.py:5399\u001b[0m, in \u001b[0;36mDataFrame.drop\u001b[0;34m(self, labels, axis, index, columns, level, inplace, errors)\u001b[0m\n\u001b[1;32m   5251\u001b[0m \u001b[38;5;129m@deprecate_nonkeyword_arguments\u001b[39m(version\u001b[38;5;241m=\u001b[39m\u001b[38;5;28;01mNone\u001b[39;00m, allowed_args\u001b[38;5;241m=\u001b[39m[\u001b[38;5;124m\"\u001b[39m\u001b[38;5;124mself\u001b[39m\u001b[38;5;124m\"\u001b[39m, \u001b[38;5;124m\"\u001b[39m\u001b[38;5;124mlabels\u001b[39m\u001b[38;5;124m\"\u001b[39m])\n\u001b[1;32m   5252\u001b[0m \u001b[38;5;28;01mdef\u001b[39;00m \u001b[38;5;21mdrop\u001b[39m(  \u001b[38;5;66;03m# type: ignore[override]\u001b[39;00m\n\u001b[1;32m   5253\u001b[0m     \u001b[38;5;28mself\u001b[39m,\n\u001b[0;32m   (...)\u001b[0m\n\u001b[1;32m   5260\u001b[0m     errors: IgnoreRaise \u001b[38;5;241m=\u001b[39m \u001b[38;5;124m\"\u001b[39m\u001b[38;5;124mraise\u001b[39m\u001b[38;5;124m\"\u001b[39m,\n\u001b[1;32m   5261\u001b[0m ) \u001b[38;5;241m-\u001b[39m\u001b[38;5;241m>\u001b[39m DataFrame \u001b[38;5;241m|\u001b[39m \u001b[38;5;28;01mNone\u001b[39;00m:\n\u001b[1;32m   5262\u001b[0m \u001b[38;5;250m    \u001b[39m\u001b[38;5;124;03m\"\"\"\u001b[39;00m\n\u001b[1;32m   5263\u001b[0m \u001b[38;5;124;03m    Drop specified labels from rows or columns.\u001b[39;00m\n\u001b[1;32m   5264\u001b[0m \n\u001b[0;32m   (...)\u001b[0m\n\u001b[1;32m   5397\u001b[0m \u001b[38;5;124;03m            weight  1.0     0.8\u001b[39;00m\n\u001b[1;32m   5398\u001b[0m \u001b[38;5;124;03m    \"\"\"\u001b[39;00m\n\u001b[0;32m-> 5399\u001b[0m     \u001b[38;5;28;01mreturn\u001b[39;00m \u001b[38;5;28msuper\u001b[39m()\u001b[38;5;241m.\u001b[39mdrop(\n\u001b[1;32m   5400\u001b[0m         labels\u001b[38;5;241m=\u001b[39mlabels,\n\u001b[1;32m   5401\u001b[0m         axis\u001b[38;5;241m=\u001b[39maxis,\n\u001b[1;32m   5402\u001b[0m         index\u001b[38;5;241m=\u001b[39mindex,\n\u001b[1;32m   5403\u001b[0m         columns\u001b[38;5;241m=\u001b[39mcolumns,\n\u001b[1;32m   5404\u001b[0m         level\u001b[38;5;241m=\u001b[39mlevel,\n\u001b[1;32m   5405\u001b[0m         inplace\u001b[38;5;241m=\u001b[39minplace,\n\u001b[1;32m   5406\u001b[0m         errors\u001b[38;5;241m=\u001b[39merrors,\n\u001b[1;32m   5407\u001b[0m     )\n",
      "File \u001b[0;32m~/anaconda3/lib/python3.11/site-packages/pandas/util/_decorators.py:331\u001b[0m, in \u001b[0;36mdeprecate_nonkeyword_arguments.<locals>.decorate.<locals>.wrapper\u001b[0;34m(*args, **kwargs)\u001b[0m\n\u001b[1;32m    325\u001b[0m \u001b[38;5;28;01mif\u001b[39;00m \u001b[38;5;28mlen\u001b[39m(args) \u001b[38;5;241m>\u001b[39m num_allow_args:\n\u001b[1;32m    326\u001b[0m     warnings\u001b[38;5;241m.\u001b[39mwarn(\n\u001b[1;32m    327\u001b[0m         msg\u001b[38;5;241m.\u001b[39mformat(arguments\u001b[38;5;241m=\u001b[39m_format_argument_list(allow_args)),\n\u001b[1;32m    328\u001b[0m         \u001b[38;5;167;01mFutureWarning\u001b[39;00m,\n\u001b[1;32m    329\u001b[0m         stacklevel\u001b[38;5;241m=\u001b[39mfind_stack_level(),\n\u001b[1;32m    330\u001b[0m     )\n\u001b[0;32m--> 331\u001b[0m \u001b[38;5;28;01mreturn\u001b[39;00m func(\u001b[38;5;241m*\u001b[39margs, \u001b[38;5;241m*\u001b[39m\u001b[38;5;241m*\u001b[39mkwargs)\n",
      "File \u001b[0;32m~/anaconda3/lib/python3.11/site-packages/pandas/core/generic.py:4505\u001b[0m, in \u001b[0;36mNDFrame.drop\u001b[0;34m(self, labels, axis, index, columns, level, inplace, errors)\u001b[0m\n\u001b[1;32m   4503\u001b[0m \u001b[38;5;28;01mfor\u001b[39;00m axis, labels \u001b[38;5;129;01min\u001b[39;00m axes\u001b[38;5;241m.\u001b[39mitems():\n\u001b[1;32m   4504\u001b[0m     \u001b[38;5;28;01mif\u001b[39;00m labels \u001b[38;5;129;01mis\u001b[39;00m \u001b[38;5;129;01mnot\u001b[39;00m \u001b[38;5;28;01mNone\u001b[39;00m:\n\u001b[0;32m-> 4505\u001b[0m         obj \u001b[38;5;241m=\u001b[39m obj\u001b[38;5;241m.\u001b[39m_drop_axis(labels, axis, level\u001b[38;5;241m=\u001b[39mlevel, errors\u001b[38;5;241m=\u001b[39merrors)\n\u001b[1;32m   4507\u001b[0m \u001b[38;5;28;01mif\u001b[39;00m inplace:\n\u001b[1;32m   4508\u001b[0m     \u001b[38;5;28mself\u001b[39m\u001b[38;5;241m.\u001b[39m_update_inplace(obj)\n",
      "File \u001b[0;32m~/anaconda3/lib/python3.11/site-packages/pandas/core/generic.py:4546\u001b[0m, in \u001b[0;36mNDFrame._drop_axis\u001b[0;34m(self, labels, axis, level, errors, only_slice)\u001b[0m\n\u001b[1;32m   4544\u001b[0m         new_axis \u001b[38;5;241m=\u001b[39m axis\u001b[38;5;241m.\u001b[39mdrop(labels, level\u001b[38;5;241m=\u001b[39mlevel, errors\u001b[38;5;241m=\u001b[39merrors)\n\u001b[1;32m   4545\u001b[0m     \u001b[38;5;28;01melse\u001b[39;00m:\n\u001b[0;32m-> 4546\u001b[0m         new_axis \u001b[38;5;241m=\u001b[39m axis\u001b[38;5;241m.\u001b[39mdrop(labels, errors\u001b[38;5;241m=\u001b[39merrors)\n\u001b[1;32m   4547\u001b[0m     indexer \u001b[38;5;241m=\u001b[39m axis\u001b[38;5;241m.\u001b[39mget_indexer(new_axis)\n\u001b[1;32m   4549\u001b[0m \u001b[38;5;66;03m# Case for non-unique axis\u001b[39;00m\n\u001b[1;32m   4550\u001b[0m \u001b[38;5;28;01melse\u001b[39;00m:\n",
      "File \u001b[0;32m~/anaconda3/lib/python3.11/site-packages/pandas/core/indexes/base.py:6934\u001b[0m, in \u001b[0;36mIndex.drop\u001b[0;34m(self, labels, errors)\u001b[0m\n\u001b[1;32m   6932\u001b[0m \u001b[38;5;28;01mif\u001b[39;00m mask\u001b[38;5;241m.\u001b[39many():\n\u001b[1;32m   6933\u001b[0m     \u001b[38;5;28;01mif\u001b[39;00m errors \u001b[38;5;241m!=\u001b[39m \u001b[38;5;124m\"\u001b[39m\u001b[38;5;124mignore\u001b[39m\u001b[38;5;124m\"\u001b[39m:\n\u001b[0;32m-> 6934\u001b[0m         \u001b[38;5;28;01mraise\u001b[39;00m \u001b[38;5;167;01mKeyError\u001b[39;00m(\u001b[38;5;124mf\u001b[39m\u001b[38;5;124m\"\u001b[39m\u001b[38;5;132;01m{\u001b[39;00m\u001b[38;5;28mlist\u001b[39m(labels[mask])\u001b[38;5;132;01m}\u001b[39;00m\u001b[38;5;124m not found in axis\u001b[39m\u001b[38;5;124m\"\u001b[39m)\n\u001b[1;32m   6935\u001b[0m     indexer \u001b[38;5;241m=\u001b[39m indexer[\u001b[38;5;241m~\u001b[39mmask]\n\u001b[1;32m   6936\u001b[0m \u001b[38;5;28;01mreturn\u001b[39;00m \u001b[38;5;28mself\u001b[39m\u001b[38;5;241m.\u001b[39mdelete(indexer)\n",
      "\u001b[0;31mKeyError\u001b[0m: \"['timestamp'] not found in axis\""
     ]
    }
   ],
   "source": [
    "final_df = final_df.drop(columns=['timestamp'])\n",
    "final_df = final_df.drop(columns=['reply_to'])\n",
    "print(final_df.isnull().sum()) # no null values present"
   ]
  },
  {
   "cell_type": "code",
   "execution_count": 37,
   "metadata": {},
   "outputs": [
    {
     "data": {
      "text/plain": [
       "1      79624\n",
       "2      46521\n",
       "10+    42853\n",
       "3      26075\n",
       "4      15423\n",
       "5      10518\n",
       "6       8533\n",
       "8       4726\n",
       "7       4675\n",
       "9       3075\n",
       "Name: meta.credit_pos, dtype: int64"
      ]
     },
     "execution_count": 37,
     "metadata": {},
     "output_type": "execute_result"
    }
   ],
   "source": [
    "# Credit column\n",
    "final_df['meta.credit_pos'].value_counts()"
   ]
  },
  {
   "cell_type": "code",
   "execution_count": 38,
   "metadata": {},
   "outputs": [
    {
     "data": {
      "text/plain": [
       "1      79624\n",
       "2      46521\n",
       "10+    42853\n",
       "3      26075\n",
       "4      15423\n",
       "5      10518\n",
       "6       8533\n",
       "8       4726\n",
       "7       4675\n",
       "9       3075\n",
       "Name: meta.credit_pos, dtype: int64"
      ]
     },
     "execution_count": 38,
     "metadata": {},
     "output_type": "execute_result"
    }
   ],
   "source": [
    "# Aggregate all the Credit that are 10 or more\n",
    "final_df['meta.credit_pos'] = final_df['meta.credit_pos'].apply(lambda p: '10+' if not p in ['1', '2', '3', '4', '5', '6', '7', '8', '9'] else p)  ## Label encoding\n",
    "final_df['meta.credit_pos'].value_counts()"
   ]
  },
  {
   "cell_type": "code",
   "execution_count": 39,
   "metadata": {},
   "outputs": [
    {
     "data": {
      "text/html": [
       "<div>\n",
       "<style scoped>\n",
       "    .dataframe tbody tr th:only-of-type {\n",
       "        vertical-align: middle;\n",
       "    }\n",
       "\n",
       "    .dataframe tbody tr th {\n",
       "        vertical-align: top;\n",
       "    }\n",
       "\n",
       "    .dataframe thead th {\n",
       "        text-align: right;\n",
       "    }\n",
       "</style>\n",
       "<table border=\"1\" class=\"dataframe\">\n",
       "  <thead>\n",
       "    <tr style=\"text-align: right;\">\n",
       "      <th></th>\n",
       "      <th>text</th>\n",
       "      <th>speaker</th>\n",
       "      <th>conversation_id</th>\n",
       "      <th>meta.movie_id</th>\n",
       "      <th>meta.parsed</th>\n",
       "      <th>vectors_utterance</th>\n",
       "      <th>vectors_conversation</th>\n",
       "      <th>meta.movie_idx_merged</th>\n",
       "      <th>meta.movie_name_merged</th>\n",
       "      <th>meta.release_year</th>\n",
       "      <th>...</th>\n",
       "      <th>meta.character_name</th>\n",
       "      <th>meta.movie_idx_character</th>\n",
       "      <th>meta.movie_name_character</th>\n",
       "      <th>meta.gender</th>\n",
       "      <th>meta.credit_pos</th>\n",
       "      <th>line_count</th>\n",
       "      <th>lineLength</th>\n",
       "      <th>wordCountLine</th>\n",
       "      <th>medianLineLength</th>\n",
       "      <th>medianWordCountLine</th>\n",
       "    </tr>\n",
       "  </thead>\n",
       "  <tbody>\n",
       "    <tr>\n",
       "      <th>0</th>\n",
       "      <td>They do not!</td>\n",
       "      <td>u0</td>\n",
       "      <td>L1044</td>\n",
       "      <td>m0</td>\n",
       "      <td>[{'rt': 1, 'toks': [{'tok': 'They', 'tag': 'PR...</td>\n",
       "      <td>[]</td>\n",
       "      <td>[]</td>\n",
       "      <td>m0</td>\n",
       "      <td>10 things i hate about you</td>\n",
       "      <td>1999</td>\n",
       "      <td>...</td>\n",
       "      <td>BIANCA</td>\n",
       "      <td>m0</td>\n",
       "      <td>10 things i hate about you</td>\n",
       "      <td>f</td>\n",
       "      <td>4</td>\n",
       "      <td>98</td>\n",
       "      <td>12</td>\n",
       "      <td>3</td>\n",
       "      <td>36.0</td>\n",
       "      <td>7.5</td>\n",
       "    </tr>\n",
       "    <tr>\n",
       "      <th>1</th>\n",
       "      <td>They do to!</td>\n",
       "      <td>u2</td>\n",
       "      <td>L1044</td>\n",
       "      <td>m0</td>\n",
       "      <td>[{'rt': 1, 'toks': [{'tok': 'They', 'tag': 'PR...</td>\n",
       "      <td>[]</td>\n",
       "      <td>[]</td>\n",
       "      <td>m0</td>\n",
       "      <td>10 things i hate about you</td>\n",
       "      <td>1999</td>\n",
       "      <td>...</td>\n",
       "      <td>CAMERON</td>\n",
       "      <td>m0</td>\n",
       "      <td>10 things i hate about you</td>\n",
       "      <td>m</td>\n",
       "      <td>3</td>\n",
       "      <td>78</td>\n",
       "      <td>11</td>\n",
       "      <td>3</td>\n",
       "      <td>29.5</td>\n",
       "      <td>6.0</td>\n",
       "    </tr>\n",
       "    <tr>\n",
       "      <th>2</th>\n",
       "      <td>I hope so.</td>\n",
       "      <td>u0</td>\n",
       "      <td>L984</td>\n",
       "      <td>m0</td>\n",
       "      <td>[{'rt': 1, 'toks': [{'tok': 'I', 'tag': 'PRP',...</td>\n",
       "      <td>[]</td>\n",
       "      <td>[]</td>\n",
       "      <td>m0</td>\n",
       "      <td>10 things i hate about you</td>\n",
       "      <td>1999</td>\n",
       "      <td>...</td>\n",
       "      <td>BIANCA</td>\n",
       "      <td>m0</td>\n",
       "      <td>10 things i hate about you</td>\n",
       "      <td>f</td>\n",
       "      <td>4</td>\n",
       "      <td>98</td>\n",
       "      <td>10</td>\n",
       "      <td>3</td>\n",
       "      <td>36.0</td>\n",
       "      <td>7.5</td>\n",
       "    </tr>\n",
       "    <tr>\n",
       "      <th>3</th>\n",
       "      <td>She okay?</td>\n",
       "      <td>u2</td>\n",
       "      <td>L984</td>\n",
       "      <td>m0</td>\n",
       "      <td>[{'rt': 1, 'toks': [{'tok': 'She', 'tag': 'PRP...</td>\n",
       "      <td>[]</td>\n",
       "      <td>[]</td>\n",
       "      <td>m0</td>\n",
       "      <td>10 things i hate about you</td>\n",
       "      <td>1999</td>\n",
       "      <td>...</td>\n",
       "      <td>CAMERON</td>\n",
       "      <td>m0</td>\n",
       "      <td>10 things i hate about you</td>\n",
       "      <td>m</td>\n",
       "      <td>3</td>\n",
       "      <td>78</td>\n",
       "      <td>9</td>\n",
       "      <td>2</td>\n",
       "      <td>29.5</td>\n",
       "      <td>6.0</td>\n",
       "    </tr>\n",
       "    <tr>\n",
       "      <th>4</th>\n",
       "      <td>Let's go.</td>\n",
       "      <td>u0</td>\n",
       "      <td>L924</td>\n",
       "      <td>m0</td>\n",
       "      <td>[{'rt': 0, 'toks': [{'tok': 'Let', 'tag': 'VB'...</td>\n",
       "      <td>[]</td>\n",
       "      <td>[]</td>\n",
       "      <td>m0</td>\n",
       "      <td>10 things i hate about you</td>\n",
       "      <td>1999</td>\n",
       "      <td>...</td>\n",
       "      <td>BIANCA</td>\n",
       "      <td>m0</td>\n",
       "      <td>10 things i hate about you</td>\n",
       "      <td>f</td>\n",
       "      <td>4</td>\n",
       "      <td>98</td>\n",
       "      <td>9</td>\n",
       "      <td>2</td>\n",
       "      <td>36.0</td>\n",
       "      <td>7.5</td>\n",
       "    </tr>\n",
       "  </tbody>\n",
       "</table>\n",
       "<p>5 rows × 24 columns</p>\n",
       "</div>"
      ],
      "text/plain": [
       "           text speaker conversation_id meta.movie_id  \\\n",
       "0  They do not!      u0           L1044            m0   \n",
       "1   They do to!      u2           L1044            m0   \n",
       "2    I hope so.      u0            L984            m0   \n",
       "3     She okay?      u2            L984            m0   \n",
       "4     Let's go.      u0            L924            m0   \n",
       "\n",
       "                                         meta.parsed vectors_utterance  \\\n",
       "0  [{'rt': 1, 'toks': [{'tok': 'They', 'tag': 'PR...                []   \n",
       "1  [{'rt': 1, 'toks': [{'tok': 'They', 'tag': 'PR...                []   \n",
       "2  [{'rt': 1, 'toks': [{'tok': 'I', 'tag': 'PRP',...                []   \n",
       "3  [{'rt': 1, 'toks': [{'tok': 'She', 'tag': 'PRP...                []   \n",
       "4  [{'rt': 0, 'toks': [{'tok': 'Let', 'tag': 'VB'...                []   \n",
       "\n",
       "  vectors_conversation meta.movie_idx_merged      meta.movie_name_merged  \\\n",
       "0                   []                    m0  10 things i hate about you   \n",
       "1                   []                    m0  10 things i hate about you   \n",
       "2                   []                    m0  10 things i hate about you   \n",
       "3                   []                    m0  10 things i hate about you   \n",
       "4                   []                    m0  10 things i hate about you   \n",
       "\n",
       "  meta.release_year  ... meta.character_name meta.movie_idx_character  \\\n",
       "0              1999  ...              BIANCA                       m0   \n",
       "1              1999  ...             CAMERON                       m0   \n",
       "2              1999  ...              BIANCA                       m0   \n",
       "3              1999  ...             CAMERON                       m0   \n",
       "4              1999  ...              BIANCA                       m0   \n",
       "\n",
       "    meta.movie_name_character meta.gender meta.credit_pos line_count  \\\n",
       "0  10 things i hate about you           f               4         98   \n",
       "1  10 things i hate about you           m               3         78   \n",
       "2  10 things i hate about you           f               4         98   \n",
       "3  10 things i hate about you           m               3         78   \n",
       "4  10 things i hate about you           f               4         98   \n",
       "\n",
       "  lineLength wordCountLine medianLineLength  medianWordCountLine  \n",
       "0         12             3             36.0                  7.5  \n",
       "1         11             3             29.5                  6.0  \n",
       "2         10             3             36.0                  7.5  \n",
       "3          9             2             29.5                  6.0  \n",
       "4          9             2             36.0                  7.5  \n",
       "\n",
       "[5 rows x 24 columns]"
      ]
     },
     "execution_count": 39,
     "metadata": {},
     "output_type": "execute_result"
    }
   ],
   "source": [
    "# Create two columns with the lenght of each line by characters and by words\n",
    "final_df['lineLength'] = final_df['text'].str.len()             # length of each line by characters\n",
    "final_df['wordCountLine'] = final_df['text'].str.count(' ') + 1 # length of each line by words\n",
    "final_df.head()"
   ]
  },
  {
   "cell_type": "code",
   "execution_count": 40,
   "metadata": {},
   "outputs": [],
   "source": [
    "# Calculate the median of the line lengths for each speaker\n",
    "final_df['medianLineLength'] = final_df.groupby('speaker')['lineLength'].transform('median')\n",
    "\n",
    "# Calculate the median word count for each speaker\n",
    "final_df['medianWordCountLine'] = final_df.groupby('speaker')['wordCountLine'].transform('median')"
   ]
  },
  {
   "cell_type": "code",
   "execution_count": 53,
   "metadata": {},
   "outputs": [
    {
     "name": "stdout",
     "output_type": "stream",
     "text": [
      "<class 'pandas.core.frame.DataFrame'>\n",
      "Int64Index: 142023 entries, 249012 to 304627\n",
      "Data columns (total 24 columns):\n",
      " #   Column                     Non-Null Count   Dtype  \n",
      "---  ------                     --------------   -----  \n",
      " 0   text                       142023 non-null  object \n",
      " 1   speaker                    142023 non-null  object \n",
      " 2   conversation_id            142023 non-null  object \n",
      " 3   meta.movie_id              142023 non-null  object \n",
      " 4   meta.parsed                142023 non-null  object \n",
      " 5   vectors_utterance          142023 non-null  object \n",
      " 6   vectors_conversation       142023 non-null  object \n",
      " 7   meta.movie_idx_merged      142023 non-null  object \n",
      " 8   meta.movie_name_merged     142023 non-null  object \n",
      " 9   meta.release_year          138771 non-null  Int64  \n",
      " 10  meta.rating                142023 non-null  float64\n",
      " 11  meta.votes                 142023 non-null  int64  \n",
      " 12  meta.genre                 142023 non-null  object \n",
      " 13  vectors                    142023 non-null  object \n",
      " 14  meta.character_name        142023 non-null  object \n",
      " 15  meta.movie_idx_character   142023 non-null  object \n",
      " 16  meta.movie_name_character  142023 non-null  object \n",
      " 17  meta.gender                142023 non-null  object \n",
      " 18  meta.credit_pos            142023 non-null  object \n",
      " 19  line_count                 142023 non-null  int64  \n",
      " 20  lineLength                 142023 non-null  int64  \n",
      " 21  wordCountLine              142023 non-null  int64  \n",
      " 22  medianLineLength           142023 non-null  float64\n",
      " 23  medianWordCountLine        142023 non-null  float64\n",
      "dtypes: Int64(1), float64(3), int64(4), object(16)\n",
      "memory usage: 27.2+ MB\n"
     ]
    }
   ],
   "source": [
    "# Making sure all columns are in the correct type\n",
    "final_df['meta.rating'] = pd.to_numeric(final_df['meta.rating'], errors='coerce')\n",
    "final_df['meta.votes'] = pd.to_numeric(final_df['meta.votes'], errors='coerce')\n",
    "final_df['meta.release_year'] = pd.to_numeric(final_df['meta.release_year'], errors='coerce').astype('Int64')\n",
    "\n",
    "final_df.info()"
   ]
  },
  {
   "cell_type": "markdown",
   "metadata": {},
   "source": [
    "## Correct the imbalance "
   ]
  },
  {
   "cell_type": "code",
   "execution_count": 54,
   "metadata": {},
   "outputs": [
    {
     "data": {
      "text/plain": [
       "(142023, 24)"
      ]
     },
     "execution_count": 54,
     "metadata": {},
     "output_type": "execute_result"
    }
   ],
   "source": [
    "final_df.shape"
   ]
  },
  {
   "cell_type": "code",
   "execution_count": 55,
   "metadata": {},
   "outputs": [],
   "source": [
    "# Filter rows with 'meta.gender' equal to 'm'\n",
    "m_rows = final_df[final_df['meta.gender'] == 'm']\n",
    "\n",
    "# Filter rows with 'meta.gender' different from 'm'\n",
    "non_m_rows = final_df[final_df['meta.gender'] != 'm']\n",
    "\n",
    "# Randomize and remove 100,000 rows from subset with 'm'\n",
    "m_rows_sampled = m_rows.sample(n=70768, random_state=42)\n",
    "\n",
    "# Combine the remaining subsets\n",
    "final_df = pd.concat([m_rows_sampled, non_m_rows])"
   ]
  },
  {
   "cell_type": "code",
   "execution_count": 56,
   "metadata": {},
   "outputs": [
    {
     "data": {
      "text/plain": [
       "(142023, 24)"
      ]
     },
     "execution_count": 56,
     "metadata": {},
     "output_type": "execute_result"
    }
   ],
   "source": [
    "final_df.shape"
   ]
  },
  {
   "cell_type": "code",
   "execution_count": 57,
   "metadata": {},
   "outputs": [
    {
     "data": {
      "text/plain": [
       "f    71255\n",
       "m    70768\n",
       "Name: meta.gender, dtype: int64"
      ]
     },
     "execution_count": 57,
     "metadata": {},
     "output_type": "execute_result"
    }
   ],
   "source": [
    "# Now male and female speakers number is more or less equal, compared with before where a huge gap would cause a biased analysis\n",
    "final_df['meta.gender'].value_counts()"
   ]
  },
  {
   "cell_type": "markdown",
   "metadata": {},
   "source": [
    "## Visualizations of the Data"
   ]
  },
  {
   "cell_type": "code",
   "execution_count": 58,
   "metadata": {},
   "outputs": [
    {
     "name": "stdout",
     "output_type": "stream",
     "text": [
      "  meta.gender  total_lines  avg_word_count\n",
      "0           f      9276513       10.269581\n",
      "1           m     11086171       10.995591\n"
     ]
    },
    {
     "data": {
      "image/png": "[encoded data removed]",
      "text/plain": [
       "<Figure size 1200x600 with 2 Axes>"
      ]
     },
     "metadata": {},
     "output_type": "display_data"
    }
   ],
   "source": [
    "# Calculate the total number of lines and the average word count per line for each gender\n",
    "gender_stats = final_df.groupby('meta.gender').agg(\n",
    "    total_lines=('line_count', 'sum'),\n",
    "    avg_word_count=('wordCountLine', 'mean')\n",
    ").reset_index()\n",
    "\n",
    "# Show statistics per gender\n",
    "print(gender_stats)\n",
    "\n",
    "fig, axes = plt.subplots(nrows=1, ncols=2, figsize=(12, 6))\n",
    "\n",
    "# Plot the total number of lines per gender\n",
    "axes[0].bar(gender_stats['meta.gender'], gender_stats['total_lines'], color=['blue', 'pink'])\n",
    "axes[0].set_title('Total Number of Lines per Gender')\n",
    "axes[0].set_xlabel('Gender')\n",
    "axes[0].set_ylabel('Total Number of Lines')\n",
    "\n",
    "# Plot the average word count per line per gender\n",
    "axes[1].bar(gender_stats['meta.gender'], gender_stats['avg_word_count'], color=['blue', 'pink'])\n",
    "axes[1].set_title('Average Word Count per Line per Gender')\n",
    "axes[1].set_xlabel('Gender')\n",
    "axes[1].set_ylabel('Average Word Count per Line')\n",
    "\n",
    "# Show the plots\n",
    "plt.tight_layout()\n",
    "plt.show()"
   ]
  },
  {
   "cell_type": "code",
   "execution_count": 73,
   "metadata": {},
   "outputs": [
    {
     "data": {
      "image/png": "[encoded data removed]",
      "text/plain": [
       "<Figure size 1400x800 with 1 Axes>"
      ]
     },
     "metadata": {},
     "output_type": "display_data"
    }
   ],
   "source": [
    "# Line Lenght Distribution by Gender\n",
    "plt.figure(figsize=(14, 8))\n",
    "sns.boxplot(x='meta.gender', y='lineLength', data=final_df, palette={\"m\": \"pink\", \"f\": \"blue\"})\n",
    "plt.title('Line Length Distribution by Gender', fontsize=16)\n",
    "plt.xlabel('Gender', fontsize=14)\n",
    "plt.ylabel('Line Length', fontsize=14)\n",
    "plt.ylim(0, 500)  \n",
    "plt.show()"
   ]
  },
  {
   "cell_type": "code",
   "execution_count": 59,
   "metadata": {},
   "outputs": [
    {
     "name": "stdout",
     "output_type": "stream",
     "text": [
      "meta.gender          f      m\n",
      "meta.credit_pos              \n",
      "1                13367  27592\n",
      "10+              12891  12219\n",
      "2                22598   9911\n",
      "3                 8745   7164\n",
      "4                 5203   4251\n",
      "5                 2401   3426\n",
      "6                 2295   2528\n",
      "7                 1288   1426\n",
      "8                 1321   1432\n",
      "9                 1146    819\n"
     ]
    },
    {
     "data": {
      "image/png": "[encoded data removed]",
      "text/plain": [
       "<Figure size 1000x600 with 1 Axes>"
      ]
     },
     "metadata": {},
     "output_type": "display_data"
    }
   ],
   "source": [
    "# Calculate the number of characters per posCredit and gender\n",
    "posCredit_gender_counts = final_df.groupby(['meta.credit_pos', 'meta.gender']).size().unstack(fill_value=0)\n",
    "\n",
    "# Show the count per Credit and gender\n",
    "print(posCredit_gender_counts)\n",
    "\n",
    "# Plot the data\n",
    "posCredit_gender_counts.plot(kind='bar', figsize=(10, 6), color=['blue', 'pink'])\n",
    "plt.title('Count of Characters by posCredit and Gender')\n",
    "plt.xlabel('posCredit')\n",
    "plt.ylabel('Count of Characters')\n",
    "plt.legend(title='Gender')\n",
    "plt.xticks(rotation=0)  # Mantiene le etichette sull'asse x orizzontali\n",
    "plt.tight_layout()\n",
    "plt.show()"
   ]
  },
  {
   "cell_type": "code",
   "execution_count": 48,
   "metadata": {},
   "outputs": [
    {
     "data": {
      "image/png": "[encoded data removed]",
      "text/plain": [
       "<Figure size 3000x1500 with 1 Axes>"
      ]
     },
     "metadata": {},
     "output_type": "display_data"
    }
   ],
   "source": [
    "# Ratings Distribution \n",
    "plt.figure(figsize=(30, 15))\n",
    "sns.histplot(final_df['meta.rating'], bins=20, kde=True)\n",
    "plt.title('Distribution of Movie Ratings')\n",
    "plt.xlabel('Rating')\n",
    "plt.ylabel('Frequency')\n",
    "plt.show()"
   ]
  },
  {
   "cell_type": "code",
   "execution_count": 49,
   "metadata": {},
   "outputs": [
    {
     "data": {
      "image/png": "[encoded data removed]",
      "text/plain": [
       "<Figure size 2000x1200 with 1 Axes>"
      ]
     },
     "metadata": {},
     "output_type": "display_data"
    }
   ],
   "source": [
    "# Conversations lenghts\n",
    "conversation_lengths = final_df['conversation_id'].value_counts()\n",
    "\n",
    "plt.figure(figsize=(20, 12))\n",
    "sns.histplot(conversation_lengths, bins=30, kde=True)\n",
    "plt.title('Distribution of Conversation Lengths')\n",
    "plt.xlabel('Number of Utterances per Conversation')\n",
    "plt.ylabel('Frequency')\n",
    "plt.show()\n"
   ]
  },
  {
   "cell_type": "code",
   "execution_count": 63,
   "metadata": {},
   "outputs": [
    {
     "data": {
      "text/plain": [
       "<seaborn.axisgrid.PairGrid at 0x2b0de74e1d0>"
      ]
     },
     "execution_count": 63,
     "metadata": {},
     "output_type": "execute_result"
    },
    {
     "data": {
      "image/png": "[encoded data removed]",
      "text/plain": [
       "<Figure size 750x750 with 12 Axes>"
      ]
     },
     "metadata": {},
     "output_type": "display_data"
    }
   ],
   "source": [
    "# Pairplot about lines features\n",
    "sns.pairplot(final_df[['line_count', 'lineLength',\t'wordCountLine']])\n",
    "plt.show()"
   ]
  },
  {
   "cell_type": "code",
   "execution_count": 65,
   "metadata": {},
   "outputs": [
    {
     "name": "stdout",
     "output_type": "stream",
     "text": [
      "{'f': 0, 'm': 1}\n"
     ]
    }
   ],
   "source": [
    "# Create Labelcoder\n",
    "label_encoder = LabelEncoder()\n",
    "\n",
    "# Applied to meta.gender\n",
    "final_df['gender_encoded'] = label_encoder.fit_transform(final_df['meta.gender'])\n",
    "\n",
    "category_mapping = dict(zip(label_encoder.classes_, label_encoder.transform(label_encoder.classes_)))\n",
    "print(category_mapping)"
   ]
  },
  {
   "cell_type": "markdown",
   "metadata": {},
   "source": [
    "## Pre-processing"
   ]
  },
  {
   "cell_type": "code",
   "execution_count": 66,
   "metadata": {},
   "outputs": [],
   "source": [
    "# Extend stopwords list\n",
    "stop_words = set(stopwords.words('english'))\n",
    "stop_words.update([',', '.', '?', ':', ';', \"'\", '“', '”', '!', '’', '...', '....', '--', '_'])\n",
    "\n",
    "# Initialize lemmatizer and stemmer\n",
    "lemmatizer = WordNetLemmatizer()\n",
    "stemmer = PorterStemmer()\n",
    "\n",
    "def preprocess_text(text):\n",
    "    text = text.lower()\n",
    "    text = re.sub(r'\\d+', '', text)\n",
    "    text = re.sub(r'\\s+', ' ', text)\n",
    "    text = re.sub(r'[^\\w\\s]', '', text)\n",
    "    words = word_tokenize(text)\n",
    "    words = [lemmatizer.lemmatize(word) for word in words if word not in stop_words]\n",
    "    words = [stemmer.stem(word) for word in words if word not in stop_words]\n",
    "    return ' '.join(words)"
   ]
  },
  {
   "cell_type": "code",
   "execution_count": 67,
   "metadata": {},
   "outputs": [],
   "source": [
    "# Apply preprocessing\n",
    "final_df['processed_text'] = final_df['text'].apply(preprocess_text)"
   ]
  },
  {
   "cell_type": "markdown",
   "metadata": {},
   "source": [
    "## Pre - Models"
   ]
  },
  {
   "cell_type": "markdown",
   "metadata": {},
   "source": [
    "Vectorization"
   ]
  },
  {
   "cell_type": "code",
   "execution_count": 68,
   "metadata": {},
   "outputs": [],
   "source": [
    "# Vectorization using TF-IDF\n",
    "vectorizer = TfidfVectorizer(max_features=5000) \n",
    "X_text = vectorizer.fit_transform(final_df['processed_text'])"
   ]
  },
  {
   "cell_type": "markdown",
   "metadata": {},
   "source": [
    "Encoding"
   ]
  },
  {
   "cell_type": "code",
   "execution_count": 69,
   "metadata": {},
   "outputs": [],
   "source": [
    "# Encoding the labels\n",
    "le = LabelEncoder()\n",
    "final_df['gender_label'] = le.fit_transform(final_df['meta.gender'])\n",
    "y = final_df['gender_label']"
   ]
  },
  {
   "cell_type": "code",
   "execution_count": 70,
   "metadata": {},
   "outputs": [],
   "source": [
    "# Apply LabelEncoder to meta.credit_pos\n",
    "credit_pos_encoder = LabelEncoder()\n",
    "final_df['encoded_credit_pos'] = credit_pos_encoder.fit_transform(final_df['meta.credit_pos'])"
   ]
  },
  {
   "cell_type": "markdown",
   "metadata": {},
   "source": [
    "Train the Model"
   ]
  },
  {
   "cell_type": "code",
   "execution_count": 55,
   "metadata": {},
   "outputs": [],
   "source": [
    "# Combine the text features with the other features\n",
    "X_other = final_df[['line_count', 'encoded_credit_pos', 'medianLineLength', 'medianWordCountLine']]\n",
    "\n",
    "# Convert X_other to a sparse matrix and combine with X_text\n",
    "X_other_sparse = csr_matrix(X_other.values)\n",
    "X_combined = hstack([X_text, X_other_sparse])"
   ]
  },
  {
   "cell_type": "code",
   "execution_count": 56,
   "metadata": {},
   "outputs": [],
   "source": [
    "# Split the data into 80% training and 20% testing sets\n",
    "X_train, X_test, y_train, y_test = train_test_split(X_combined, y, test_size=0.2, random_state=42)"
   ]
  },
  {
   "cell_type": "markdown",
   "metadata": {},
   "source": [
    "## Naive Bayers"
   ]
  },
  {
   "cell_type": "code",
   "execution_count": 57,
   "metadata": {},
   "outputs": [
    {
     "name": "stdout",
     "output_type": "stream",
     "text": [
      "Accuracy: 0.54\n",
      "Classification Report:\n",
      "               precision    recall  f1-score   support\n",
      "\n",
      "           f       0.54      0.58      0.56     14280\n",
      "           m       0.55      0.51      0.52     14125\n",
      "\n",
      "    accuracy                           0.54     28405\n",
      "   macro avg       0.54      0.54      0.54     28405\n",
      "weighted avg       0.54      0.54      0.54     28405\n",
      "\n",
      "Total Execution Time: 0.06267285346984863 seconds\n"
     ]
    }
   ],
   "source": [
    "# Start the timer for the entire process\n",
    "start_time = time.time()\n",
    "# Initialize the Multinomial Naive Bayes classifier\n",
    "nb_clf = MultinomialNB()\n",
    "# Train the classifier\n",
    "nb_clf.fit(X_train, y_train)\n",
    "\n",
    "# Make predictions on the test set\n",
    "nb_y_pred = nb_clf.predict(X_test)\n",
    "\n",
    "# Calculate accuracy, precision, recall, and F1-score of the model\n",
    "accuracy = accuracy_score(y_test, nb_y_pred)\n",
    "report = classification_report(y_test, nb_y_pred, target_names=le.classes_)\n",
    "\n",
    "print(f\"Accuracy: {accuracy:.2f}\")\n",
    "print(\"Classification Report:\\n\", report)\n",
    "\n",
    "# End the timer for the entire process\n",
    "end_time = time.time()\n",
    "\n",
    "# Calculate the total elapsed time\n",
    "total_time = end_time - start_time\n",
    "print(f\"Total Execution Time: {total_time} seconds\")"
   ]
  },
  {
   "cell_type": "code",
   "execution_count": null,
   "metadata": {},
   "outputs": [],
   "source": [
    "# Vectorization using TF-IDF\n",
    "vectorizer = TfidfVectorizer(max_features=5000) \n",
    "X_text_1 = vectorizer.fit_transform(final_df['processed_text'])\n",
    "\n",
    "# Binarizzazione dei dati TF-IDF\n",
    "binarizer = Binarizer()\n",
    "X_binary = binarizer.fit_transform(X_text_1.toarray())"
   ]
  },
  {
   "cell_type": "code",
   "execution_count": null,
   "metadata": {},
   "outputs": [],
   "source": [
    "# Combine the text features with the other features\n",
    "X_other_1 = final_df[['line_count', 'encoded_credit_pos', 'medianLineLength', 'medianWordCountLine']]\n",
    "\n",
    "# Convert X_other to a sparse matrix and combine with X_text\n",
    "X_other_sparse_1 = csr_matrix(X_other_1.values)\n",
    "X_combined_1 = hstack([X_text_1, X_other_sparse_1])\n",
    "\n",
    "# Split the data into 80% training and 20% testing sets\n",
    "X_train_1, X_test_1, y_train_1, y_test_1 = train_test_split(X_combined_1, y, test_size=0.2, random_state=42)"
   ]
  },
  {
   "cell_type": "code",
   "execution_count": null,
   "metadata": {},
   "outputs": [],
   "source": [
    "# Start the timer for the entire process\n",
    "start_time = time.time()\n",
    "\n",
    "# Inizializzazione del Bernoulli Naive Bayes\n",
    "bnb = BernoulliNB()\n",
    "\n",
    "# Addestramento del modello\n",
    "bnb.fit(X_train_1, y_train_1)\n",
    "\n",
    "# Predizione\n",
    "y_pred = bnb.predict(X_test_1)\n",
    "\n",
    "# Valutazione del modello\n",
    "accuracy = accuracy_score(y_test_1, y_pred)\n",
    "report = classification_report(y_test_1, y_pred)\n",
    "\n",
    "print(f\"Accuracy: {accuracy:.2f}\")\n",
    "print(\"Classification Report:\\n\", report)\n",
    "\n",
    "# End the timer for the entire process\n",
    "end_time = time.time()\n",
    "\n",
    "# Calculate the total elapsed time\n",
    "total_time = end_time - start_time\n",
    "print(f\"Total Execution Time: {total_time} seconds\")"
   ]
  },
  {
   "cell_type": "markdown",
   "metadata": {},
   "source": [
    "## Logistic Regression"
   ]
  },
  {
   "cell_type": "code",
   "execution_count": 58,
   "metadata": {},
   "outputs": [
    {
     "name": "stdout",
     "output_type": "stream",
     "text": [
      "Accuracy: 0.60\n",
      "Classification Report:\n",
      "               precision    recall  f1-score   support\n",
      "\n",
      "           f       0.60      0.59      0.60     14280\n",
      "           m       0.60      0.61      0.60     14125\n",
      "\n",
      "    accuracy                           0.60     28405\n",
      "   macro avg       0.60      0.60      0.60     28405\n",
      "weighted avg       0.60      0.60      0.60     28405\n",
      "\n",
      "Total Execution Time: 3.9223568439483643 seconds\n"
     ]
    }
   ],
   "source": [
    "# On full dataset\n",
    "# Start the timer for the entire process\n",
    "start_time = time.time()\n",
    "\n",
    "# Logistic Regression classifier\n",
    "lr_clr = LogisticRegression(solver = 'lbfgs', n_jobs=-1) \n",
    "lr_clr.fit(X_train, y_train)\n",
    "\n",
    "# Predictions\n",
    "lr_y_pred = lr_clr.predict(X_test)\n",
    "\n",
    "# Calculate accuracy, precision, recall, and F1-score of the model\n",
    "accuracy = accuracy_score(y_test, lr_y_pred)\n",
    "report = classification_report(y_test, lr_y_pred, target_names=le.classes_)\n",
    "\n",
    "print(f\"Accuracy: {accuracy:.2f}\")\n",
    "print(\"Classification Report:\\n\", report)\n",
    "\n",
    "# End the timer for the entire process\n",
    "end_time = time.time()\n",
    "\n",
    "# Calculate the total elapsed time\n",
    "total_time = end_time - start_time\n",
    "print(f\"Total Execution Time: {total_time} seconds\")"
   ]
  },
  {
   "cell_type": "markdown",
   "metadata": {},
   "source": [
    "## SVM"
   ]
  },
  {
   "cell_type": "code",
   "execution_count": 59,
   "metadata": {},
   "outputs": [
    {
     "data": {
      "text/plain": [
       "'\\nI haven\\'t run this yet, might take too long\\n\\n# svm model Johanna\\nfrom sklearn.svm import SVC\\nsvm = SVC(kernel=\\'linear\\', C=1, random_state=42)\\nsvm.fit(X_train, y_train)\\n\\n# Predictions\\nsvm_y_pred = svm.predict(X_test)\\n\\n# Calculate accuracy, precision, recall, and F1-score of the model\\naccuracy = accuracy_score(y_test, y_pred)\\nreport = classification_report(y_test, y_pred, target_names=le.classes_)\\n\\nprint(f\"Accuracy: {accuracy:.2f}\")\\nprint(\"Classification Report:\\n\", report)'"
      ]
     },
     "execution_count": 59,
     "metadata": {},
     "output_type": "execute_result"
    }
   ],
   "source": [
    "'''\n",
    "I haven't run this yet, might take too long\n",
    "\n",
    "# svm model Johanna\n",
    "from sklearn.svm import SVC\n",
    "svm = SVC(kernel='linear', C=1, random_state=42)\n",
    "svm.fit(X_train, y_train)\n",
    "\n",
    "# Predictions\n",
    "svm_y_pred = svm.predict(X_test)\n",
    "\n",
    "# Calculate accuracy, precision, recall, and F1-score of the model\n",
    "accuracy = accuracy_score(y_test, y_pred)\n",
    "report = classification_report(y_test, y_pred, target_names=le.classes_)\n",
    "\n",
    "print(f\"Accuracy: {accuracy:.2f}\")\n",
    "print(\"Classification Report:\\n\", report)'''"
   ]
  },
  {
   "cell_type": "code",
   "execution_count": 60,
   "metadata": {},
   "outputs": [],
   "source": [
    "# Take a 1% sample of the dataset\n",
    "sample_size = 0.20\n",
    "df_sample = final_df.sample(frac=sample_size, random_state=42)\n",
    "\n",
    "# Recreate the combined features for the sample\n",
    "X_text_sample = vectorizer.transform(df_sample['processed_text'])\n",
    "X_other_sample = df_sample[['line_count', 'medianWordCountLine', 'encoded_credit_pos', 'medianLineLength']]\n",
    "X_other_sparse_sample = csr_matrix(X_other_sample.values)\n",
    "X_combined_sample = hstack([X_text_sample, X_other_sparse_sample])\n",
    "y_sample = df_sample['gender_label']\n",
    "\n",
    "# Split the sample into 80% training and 20% testing sets\n",
    "X_train_sample, X_test_sample, y_train_sample, y_test_sample = train_test_split(X_combined_sample, y_sample, test_size=0.2, random_state=42)"
   ]
  },
  {
   "cell_type": "code",
   "execution_count": 61,
   "metadata": {},
   "outputs": [
    {
     "ename": "ValueError",
     "evalue": "\nAll the 15 fits failed.\nIt is very likely that your model is misconfigured.\nYou can try to debug the error by setting error_score='raise'.\n\nBelow are more details about the failures:\n--------------------------------------------------------------------------------\n15 fits failed with the following error:\nTraceback (most recent call last):\n  File \"C:\\Users\\joda\\AppData\\Roaming\\Python\\Python311\\site-packages\\sklearn\\model_selection\\_validation.py\", line 895, in _fit_and_score\n    estimator.fit(X_train, y_train, **fit_params)\n  File \"C:\\Users\\joda\\AppData\\Roaming\\Python\\Python311\\site-packages\\sklearn\\base.py\", line 1474, in wrapper\n    return fit_method(estimator, *args, **kwargs)\n           ^^^^^^^^^^^^^^^^^^^^^^^^^^^^^^^^^^^^^^\n  File \"C:\\Users\\joda\\AppData\\Roaming\\Python\\Python311\\site-packages\\sklearn\\pipeline.py\", line 471, in fit\n    Xt = self._fit(X, y, routed_params)\n         ^^^^^^^^^^^^^^^^^^^^^^^^^^^^^^\n  File \"C:\\Users\\joda\\AppData\\Roaming\\Python\\Python311\\site-packages\\sklearn\\pipeline.py\", line 408, in _fit\n    X, fitted_transformer = fit_transform_one_cached(\n                            ^^^^^^^^^^^^^^^^^^^^^^^^^\n  File \"C:\\Users\\joda\\AppData\\Roaming\\Python\\Python311\\site-packages\\joblib\\memory.py\", line 312, in __call__\n    return self.func(*args, **kwargs)\n           ^^^^^^^^^^^^^^^^^^^^^^^^^^\n  File \"C:\\Users\\joda\\AppData\\Roaming\\Python\\Python311\\site-packages\\sklearn\\pipeline.py\", line 1303, in _fit_transform_one\n    res = transformer.fit_transform(X, y, **params.get(\"fit_transform\", {}))\n          ^^^^^^^^^^^^^^^^^^^^^^^^^^^^^^^^^^^^^^^^^^^^^^^^^^^^^^^^^^^^^^^^^^\n  File \"C:\\Users\\joda\\AppData\\Roaming\\Python\\Python311\\site-packages\\sklearn\\utils\\_set_output.py\", line 295, in wrapped\n    data_to_wrap = f(self, X, *args, **kwargs)\n                   ^^^^^^^^^^^^^^^^^^^^^^^^^^^\n  File \"C:\\Users\\joda\\AppData\\Roaming\\Python\\Python311\\site-packages\\sklearn\\base.py\", line 1474, in wrapper\n    return fit_method(estimator, *args, **kwargs)\n           ^^^^^^^^^^^^^^^^^^^^^^^^^^^^^^^^^^^^^^\n  File \"C:\\Users\\joda\\AppData\\Roaming\\Python\\Python311\\site-packages\\sklearn\\decomposition\\_pca.py\", line 454, in fit_transform\n    U, S, Vt = self._fit(X)\n               ^^^^^^^^^^^^\n  File \"C:\\Users\\joda\\AppData\\Roaming\\Python\\Python311\\site-packages\\sklearn\\decomposition\\_pca.py\", line 472, in _fit\n    raise TypeError(\nTypeError: PCA only support sparse inputs with the \"arpack\" solver, while \"auto\" was passed. See TruncatedSVD for a possible alternative.\n",
     "output_type": "error",
     "traceback": [
      "\u001b[1;31m---------------------------------------------------------------------------\u001b[0m",
      "\u001b[1;31mValueError\u001b[0m                                Traceback (most recent call last)",
      "Cell \u001b[1;32mIn[61], line 25\u001b[0m\n\u001b[0;32m     23\u001b[0m \u001b[38;5;66;03m# GridSearchCV with parallelism\u001b[39;00m\n\u001b[0;32m     24\u001b[0m grid_search \u001b[38;5;241m=\u001b[39m GridSearchCV(pipeline, param_grid, cv\u001b[38;5;241m=\u001b[39mcv, n_jobs\u001b[38;5;241m=\u001b[39m\u001b[38;5;241m-\u001b[39m\u001b[38;5;241m1\u001b[39m)\n\u001b[1;32m---> 25\u001b[0m \u001b[43mgrid_search\u001b[49m\u001b[38;5;241;43m.\u001b[39;49m\u001b[43mfit\u001b[49m\u001b[43m(\u001b[49m\u001b[43mX_train_sample\u001b[49m\u001b[43m,\u001b[49m\u001b[43m \u001b[49m\u001b[43my_train_sample\u001b[49m\u001b[43m)\u001b[49m\n\u001b[0;32m     26\u001b[0m execution_time \u001b[38;5;241m=\u001b[39m time\u001b[38;5;241m.\u001b[39mtime() \u001b[38;5;241m-\u001b[39m start_time\n\u001b[0;32m     28\u001b[0m \u001b[38;5;66;03m# Best estimator\u001b[39;00m\n",
      "File \u001b[1;32m~\\AppData\\Roaming\\Python\\Python311\\site-packages\\sklearn\\base.py:1474\u001b[0m, in \u001b[0;36m_fit_context.<locals>.decorator.<locals>.wrapper\u001b[1;34m(estimator, *args, **kwargs)\u001b[0m\n\u001b[0;32m   1467\u001b[0m     estimator\u001b[38;5;241m.\u001b[39m_validate_params()\n\u001b[0;32m   1469\u001b[0m \u001b[38;5;28;01mwith\u001b[39;00m config_context(\n\u001b[0;32m   1470\u001b[0m     skip_parameter_validation\u001b[38;5;241m=\u001b[39m(\n\u001b[0;32m   1471\u001b[0m         prefer_skip_nested_validation \u001b[38;5;129;01mor\u001b[39;00m global_skip_validation\n\u001b[0;32m   1472\u001b[0m     )\n\u001b[0;32m   1473\u001b[0m ):\n\u001b[1;32m-> 1474\u001b[0m     \u001b[38;5;28;01mreturn\u001b[39;00m \u001b[43mfit_method\u001b[49m\u001b[43m(\u001b[49m\u001b[43mestimator\u001b[49m\u001b[43m,\u001b[49m\u001b[43m \u001b[49m\u001b[38;5;241;43m*\u001b[39;49m\u001b[43margs\u001b[49m\u001b[43m,\u001b[49m\u001b[43m \u001b[49m\u001b[38;5;241;43m*\u001b[39;49m\u001b[38;5;241;43m*\u001b[39;49m\u001b[43mkwargs\u001b[49m\u001b[43m)\u001b[49m\n",
      "File \u001b[1;32m~\\AppData\\Roaming\\Python\\Python311\\site-packages\\sklearn\\model_selection\\_search.py:970\u001b[0m, in \u001b[0;36mBaseSearchCV.fit\u001b[1;34m(self, X, y, **params)\u001b[0m\n\u001b[0;32m    964\u001b[0m     results \u001b[38;5;241m=\u001b[39m \u001b[38;5;28mself\u001b[39m\u001b[38;5;241m.\u001b[39m_format_results(\n\u001b[0;32m    965\u001b[0m         all_candidate_params, n_splits, all_out, all_more_results\n\u001b[0;32m    966\u001b[0m     )\n\u001b[0;32m    968\u001b[0m     \u001b[38;5;28;01mreturn\u001b[39;00m results\n\u001b[1;32m--> 970\u001b[0m \u001b[38;5;28;43mself\u001b[39;49m\u001b[38;5;241;43m.\u001b[39;49m\u001b[43m_run_search\u001b[49m\u001b[43m(\u001b[49m\u001b[43mevaluate_candidates\u001b[49m\u001b[43m)\u001b[49m\n\u001b[0;32m    972\u001b[0m \u001b[38;5;66;03m# multimetric is determined here because in the case of a callable\u001b[39;00m\n\u001b[0;32m    973\u001b[0m \u001b[38;5;66;03m# self.scoring the return type is only known after calling\u001b[39;00m\n\u001b[0;32m    974\u001b[0m first_test_score \u001b[38;5;241m=\u001b[39m all_out[\u001b[38;5;241m0\u001b[39m][\u001b[38;5;124m\"\u001b[39m\u001b[38;5;124mtest_scores\u001b[39m\u001b[38;5;124m\"\u001b[39m]\n",
      "File \u001b[1;32m~\\AppData\\Roaming\\Python\\Python311\\site-packages\\sklearn\\model_selection\\_search.py:1527\u001b[0m, in \u001b[0;36mGridSearchCV._run_search\u001b[1;34m(self, evaluate_candidates)\u001b[0m\n\u001b[0;32m   1525\u001b[0m \u001b[38;5;28;01mdef\u001b[39;00m \u001b[38;5;21m_run_search\u001b[39m(\u001b[38;5;28mself\u001b[39m, evaluate_candidates):\n\u001b[0;32m   1526\u001b[0m \u001b[38;5;250m    \u001b[39m\u001b[38;5;124;03m\"\"\"Search all candidates in param_grid\"\"\"\u001b[39;00m\n\u001b[1;32m-> 1527\u001b[0m     \u001b[43mevaluate_candidates\u001b[49m\u001b[43m(\u001b[49m\u001b[43mParameterGrid\u001b[49m\u001b[43m(\u001b[49m\u001b[38;5;28;43mself\u001b[39;49m\u001b[38;5;241;43m.\u001b[39;49m\u001b[43mparam_grid\u001b[49m\u001b[43m)\u001b[49m\u001b[43m)\u001b[49m\n",
      "File \u001b[1;32m~\\AppData\\Roaming\\Python\\Python311\\site-packages\\sklearn\\model_selection\\_search.py:947\u001b[0m, in \u001b[0;36mBaseSearchCV.fit.<locals>.evaluate_candidates\u001b[1;34m(candidate_params, cv, more_results)\u001b[0m\n\u001b[0;32m    940\u001b[0m \u001b[38;5;28;01melif\u001b[39;00m \u001b[38;5;28mlen\u001b[39m(out) \u001b[38;5;241m!=\u001b[39m n_candidates \u001b[38;5;241m*\u001b[39m n_splits:\n\u001b[0;32m    941\u001b[0m     \u001b[38;5;28;01mraise\u001b[39;00m \u001b[38;5;167;01mValueError\u001b[39;00m(\n\u001b[0;32m    942\u001b[0m         \u001b[38;5;124m\"\u001b[39m\u001b[38;5;124mcv.split and cv.get_n_splits returned \u001b[39m\u001b[38;5;124m\"\u001b[39m\n\u001b[0;32m    943\u001b[0m         \u001b[38;5;124m\"\u001b[39m\u001b[38;5;124minconsistent results. Expected \u001b[39m\u001b[38;5;132;01m{}\u001b[39;00m\u001b[38;5;124m \u001b[39m\u001b[38;5;124m\"\u001b[39m\n\u001b[0;32m    944\u001b[0m         \u001b[38;5;124m\"\u001b[39m\u001b[38;5;124msplits, got \u001b[39m\u001b[38;5;132;01m{}\u001b[39;00m\u001b[38;5;124m\"\u001b[39m\u001b[38;5;241m.\u001b[39mformat(n_splits, \u001b[38;5;28mlen\u001b[39m(out) \u001b[38;5;241m/\u001b[39m\u001b[38;5;241m/\u001b[39m n_candidates)\n\u001b[0;32m    945\u001b[0m     )\n\u001b[1;32m--> 947\u001b[0m \u001b[43m_warn_or_raise_about_fit_failures\u001b[49m\u001b[43m(\u001b[49m\u001b[43mout\u001b[49m\u001b[43m,\u001b[49m\u001b[43m \u001b[49m\u001b[38;5;28;43mself\u001b[39;49m\u001b[38;5;241;43m.\u001b[39;49m\u001b[43merror_score\u001b[49m\u001b[43m)\u001b[49m\n\u001b[0;32m    949\u001b[0m \u001b[38;5;66;03m# For callable self.scoring, the return type is only know after\u001b[39;00m\n\u001b[0;32m    950\u001b[0m \u001b[38;5;66;03m# calling. If the return type is a dictionary, the error scores\u001b[39;00m\n\u001b[0;32m    951\u001b[0m \u001b[38;5;66;03m# can now be inserted with the correct key. The type checking\u001b[39;00m\n\u001b[0;32m    952\u001b[0m \u001b[38;5;66;03m# of out will be done in `_insert_error_scores`.\u001b[39;00m\n\u001b[0;32m    953\u001b[0m \u001b[38;5;28;01mif\u001b[39;00m \u001b[38;5;28mcallable\u001b[39m(\u001b[38;5;28mself\u001b[39m\u001b[38;5;241m.\u001b[39mscoring):\n",
      "File \u001b[1;32m~\\AppData\\Roaming\\Python\\Python311\\site-packages\\sklearn\\model_selection\\_validation.py:536\u001b[0m, in \u001b[0;36m_warn_or_raise_about_fit_failures\u001b[1;34m(results, error_score)\u001b[0m\n\u001b[0;32m    529\u001b[0m \u001b[38;5;28;01mif\u001b[39;00m num_failed_fits \u001b[38;5;241m==\u001b[39m num_fits:\n\u001b[0;32m    530\u001b[0m     all_fits_failed_message \u001b[38;5;241m=\u001b[39m (\n\u001b[0;32m    531\u001b[0m         \u001b[38;5;124mf\u001b[39m\u001b[38;5;124m\"\u001b[39m\u001b[38;5;130;01m\\n\u001b[39;00m\u001b[38;5;124mAll the \u001b[39m\u001b[38;5;132;01m{\u001b[39;00mnum_fits\u001b[38;5;132;01m}\u001b[39;00m\u001b[38;5;124m fits failed.\u001b[39m\u001b[38;5;130;01m\\n\u001b[39;00m\u001b[38;5;124m\"\u001b[39m\n\u001b[0;32m    532\u001b[0m         \u001b[38;5;124m\"\u001b[39m\u001b[38;5;124mIt is very likely that your model is misconfigured.\u001b[39m\u001b[38;5;130;01m\\n\u001b[39;00m\u001b[38;5;124m\"\u001b[39m\n\u001b[0;32m    533\u001b[0m         \u001b[38;5;124m\"\u001b[39m\u001b[38;5;124mYou can try to debug the error by setting error_score=\u001b[39m\u001b[38;5;124m'\u001b[39m\u001b[38;5;124mraise\u001b[39m\u001b[38;5;124m'\u001b[39m\u001b[38;5;124m.\u001b[39m\u001b[38;5;130;01m\\n\u001b[39;00m\u001b[38;5;130;01m\\n\u001b[39;00m\u001b[38;5;124m\"\u001b[39m\n\u001b[0;32m    534\u001b[0m         \u001b[38;5;124mf\u001b[39m\u001b[38;5;124m\"\u001b[39m\u001b[38;5;124mBelow are more details about the failures:\u001b[39m\u001b[38;5;130;01m\\n\u001b[39;00m\u001b[38;5;132;01m{\u001b[39;00mfit_errors_summary\u001b[38;5;132;01m}\u001b[39;00m\u001b[38;5;124m\"\u001b[39m\n\u001b[0;32m    535\u001b[0m     )\n\u001b[1;32m--> 536\u001b[0m     \u001b[38;5;28;01mraise\u001b[39;00m \u001b[38;5;167;01mValueError\u001b[39;00m(all_fits_failed_message)\n\u001b[0;32m    538\u001b[0m \u001b[38;5;28;01melse\u001b[39;00m:\n\u001b[0;32m    539\u001b[0m     some_fits_failed_message \u001b[38;5;241m=\u001b[39m (\n\u001b[0;32m    540\u001b[0m         \u001b[38;5;124mf\u001b[39m\u001b[38;5;124m\"\u001b[39m\u001b[38;5;130;01m\\n\u001b[39;00m\u001b[38;5;132;01m{\u001b[39;00mnum_failed_fits\u001b[38;5;132;01m}\u001b[39;00m\u001b[38;5;124m fits failed out of a total of \u001b[39m\u001b[38;5;132;01m{\u001b[39;00mnum_fits\u001b[38;5;132;01m}\u001b[39;00m\u001b[38;5;124m.\u001b[39m\u001b[38;5;130;01m\\n\u001b[39;00m\u001b[38;5;124m\"\u001b[39m\n\u001b[0;32m    541\u001b[0m         \u001b[38;5;124m\"\u001b[39m\u001b[38;5;124mThe score on these train-test partitions for these parameters\u001b[39m\u001b[38;5;124m\"\u001b[39m\n\u001b[1;32m   (...)\u001b[0m\n\u001b[0;32m    545\u001b[0m         \u001b[38;5;124mf\u001b[39m\u001b[38;5;124m\"\u001b[39m\u001b[38;5;124mBelow are more details about the failures:\u001b[39m\u001b[38;5;130;01m\\n\u001b[39;00m\u001b[38;5;132;01m{\u001b[39;00mfit_errors_summary\u001b[38;5;132;01m}\u001b[39;00m\u001b[38;5;124m\"\u001b[39m\n\u001b[0;32m    546\u001b[0m     )\n",
      "\u001b[1;31mValueError\u001b[0m: \nAll the 15 fits failed.\nIt is very likely that your model is misconfigured.\nYou can try to debug the error by setting error_score='raise'.\n\nBelow are more details about the failures:\n--------------------------------------------------------------------------------\n15 fits failed with the following error:\nTraceback (most recent call last):\n  File \"C:\\Users\\joda\\AppData\\Roaming\\Python\\Python311\\site-packages\\sklearn\\model_selection\\_validation.py\", line 895, in _fit_and_score\n    estimator.fit(X_train, y_train, **fit_params)\n  File \"C:\\Users\\joda\\AppData\\Roaming\\Python\\Python311\\site-packages\\sklearn\\base.py\", line 1474, in wrapper\n    return fit_method(estimator, *args, **kwargs)\n           ^^^^^^^^^^^^^^^^^^^^^^^^^^^^^^^^^^^^^^\n  File \"C:\\Users\\joda\\AppData\\Roaming\\Python\\Python311\\site-packages\\sklearn\\pipeline.py\", line 471, in fit\n    Xt = self._fit(X, y, routed_params)\n         ^^^^^^^^^^^^^^^^^^^^^^^^^^^^^^\n  File \"C:\\Users\\joda\\AppData\\Roaming\\Python\\Python311\\site-packages\\sklearn\\pipeline.py\", line 408, in _fit\n    X, fitted_transformer = fit_transform_one_cached(\n                            ^^^^^^^^^^^^^^^^^^^^^^^^^\n  File \"C:\\Users\\joda\\AppData\\Roaming\\Python\\Python311\\site-packages\\joblib\\memory.py\", line 312, in __call__\n    return self.func(*args, **kwargs)\n           ^^^^^^^^^^^^^^^^^^^^^^^^^^\n  File \"C:\\Users\\joda\\AppData\\Roaming\\Python\\Python311\\site-packages\\sklearn\\pipeline.py\", line 1303, in _fit_transform_one\n    res = transformer.fit_transform(X, y, **params.get(\"fit_transform\", {}))\n          ^^^^^^^^^^^^^^^^^^^^^^^^^^^^^^^^^^^^^^^^^^^^^^^^^^^^^^^^^^^^^^^^^^\n  File \"C:\\Users\\joda\\AppData\\Roaming\\Python\\Python311\\site-packages\\sklearn\\utils\\_set_output.py\", line 295, in wrapped\n    data_to_wrap = f(self, X, *args, **kwargs)\n                   ^^^^^^^^^^^^^^^^^^^^^^^^^^^\n  File \"C:\\Users\\joda\\AppData\\Roaming\\Python\\Python311\\site-packages\\sklearn\\base.py\", line 1474, in wrapper\n    return fit_method(estimator, *args, **kwargs)\n           ^^^^^^^^^^^^^^^^^^^^^^^^^^^^^^^^^^^^^^\n  File \"C:\\Users\\joda\\AppData\\Roaming\\Python\\Python311\\site-packages\\sklearn\\decomposition\\_pca.py\", line 454, in fit_transform\n    U, S, Vt = self._fit(X)\n               ^^^^^^^^^^^^\n  File \"C:\\Users\\joda\\AppData\\Roaming\\Python\\Python311\\site-packages\\sklearn\\decomposition\\_pca.py\", line 472, in _fit\n    raise TypeError(\nTypeError: PCA only support sparse inputs with the \"arpack\" solver, while \"auto\" was passed. See TruncatedSVD for a possible alternative.\n"
     ]
    }
   ],
   "source": [
    "# SVM with PCA 50 components -- SAMPLE\n",
    "\n",
    "from sklearn.model_selection import train_test_split, GridSearchCV, StratifiedKFold\n",
    "from sklearn.svm import SVC\n",
    "import time\n",
    "from sklearn.decomposition import PCA\n",
    "from sklearn.pipeline import Pipeline\n",
    "\n",
    "# Start the timer for the entire process\n",
    "start_time = time.time()\n",
    "\n",
    "# Define the PCA and SVM pipeline\n",
    "pca = PCA(n_components=50)  # Preserve 95% of variance\n",
    "svm = SVC(kernel='rbf', random_state=42)\n",
    "pipeline = Pipeline([('pca', pca), ('svm', svm)])\n",
    "\n",
    "# Define the parameter grid for GridSearch\n",
    "param_grid = {'svm__C': [0.1, 1, 10, 100, 1000]}\n",
    "\n",
    "# Define the cross-validation strategy\n",
    "cv = StratifiedKFold(n_splits=3, shuffle=True, random_state=42)\n",
    "\n",
    "# GridSearchCV with parallelism\n",
    "grid_search = GridSearchCV(pipeline, param_grid, cv=cv, n_jobs=-1)\n",
    "grid_search.fit(X_train_sample, y_train_sample)\n",
    "execution_time = time.time() - start_time\n",
    "\n",
    "# Best estimator\n",
    "best_svm = grid_search.best_estimator_\n",
    "\n",
    "# Predictions\n",
    "svm_y_pred = best_svm.predict(X_test_sample)\n",
    "\n",
    "# Evaluate the model\n",
    "accuracy = accuracy_score(y_test_sample, svm_y_pred)\n",
    "report = classification_report(y_test_sample, svm_y_pred, target_names=le.classes_)\n",
    "\n",
    "print(f\"Accuracy: {accuracy:.2f}\")\n",
    "print(\"Classification Report:\\n\", report)\n",
    "\n",
    "# End the timer for the entire process\n",
    "end_time = time.time()\n",
    "\n",
    "# Calculate the total elapsed time\n",
    "total_time = end_time - start_time\n",
    "print(f\"Total Execution Time: {total_time} seconds\")"
   ]
  },
  {
   "cell_type": "code",
   "execution_count": null,
   "metadata": {},
   "outputs": [
    {
     "data": {
      "text/plain": [
       "'# SVM without PCA with linear\\n\\nfrom sklearn.model_selection import train_test_split, GridSearchCV\\nfrom sklearn.svm import SVC\\nimport time\\n\\n# Start the timer for the entire process\\nstart_time = time.time()\\n\\n# Define the SVM model\\nfrom sklearn.svm import SVC\\nsvm = SVC(kernel=\\'linear\\', random_state=42)\\n\\n# Define the parameter grid for GridSearch\\nparam_grid = {\\'C\\': [0.1, 1, 10, 100, 1000]}\\n\\n# GridSearchCV with parallelism\\ngrid_search = GridSearchCV(svm, param_grid, cv=3, n_jobs=-1)\\ngrid_search.fit(X_train_sample, y_train_sample)\\n\\n# Best estimator\\nbest_svm = grid_search.best_estimator_\\n\\n# Predictions\\nsvm_y_pred = best_svm.predict(X_test_sample)\\n\\n# Evaluate the model\\naccuracy = accuracy_score(y_test_sample, svm_y_pred)\\nreport = classification_report(y_test_sample, svm_y_pred, target_names=le.classes_)\\n\\nprint(f\"Accuracy: {accuracy:.2f}\")\\nprint(\"Classification Report:\\n\", report)\\n\\n# End the timer for the entire process\\nend_time = time.time()\\n\\n# Calculate the total elapsed time\\ntotal_time = end_time - start_time\\nprint(f\"Total Execution Time: {total_time} seconds\")'"
      ]
     },
     "execution_count": 50,
     "metadata": {},
     "output_type": "execute_result"
    }
   ],
   "source": [
    "'''# SVM without PCA with linear\n",
    "\n",
    "from sklearn.model_selection import train_test_split, GridSearchCV\n",
    "from sklearn.svm import SVC\n",
    "import time\n",
    "\n",
    "# Start the timer for the entire process\n",
    "start_time = time.time()\n",
    "\n",
    "# Define the SVM model\n",
    "from sklearn.svm import SVC\n",
    "svm = SVC(kernel='linear', random_state=42)\n",
    "\n",
    "# Define the parameter grid for GridSearch\n",
    "param_grid = {'C': [0.1, 1, 10, 100, 1000]}\n",
    "\n",
    "# GridSearchCV with parallelism\n",
    "grid_search = GridSearchCV(svm, param_grid, cv=3, n_jobs=-1)\n",
    "grid_search.fit(X_train_sample, y_train_sample)\n",
    "\n",
    "# Best estimator\n",
    "best_svm = grid_search.best_estimator_\n",
    "\n",
    "# Predictions\n",
    "svm_y_pred = best_svm.predict(X_test_sample)\n",
    "\n",
    "# Evaluate the model\n",
    "accuracy = accuracy_score(y_test_sample, svm_y_pred)\n",
    "report = classification_report(y_test_sample, svm_y_pred, target_names=le.classes_)\n",
    "\n",
    "print(f\"Accuracy: {accuracy:.2f}\")\n",
    "print(\"Classification Report:\\n\", report)\n",
    "\n",
    "# End the timer for the entire process\n",
    "end_time = time.time()\n",
    "\n",
    "# Calculate the total elapsed time\n",
    "total_time = end_time - start_time\n",
    "print(f\"Total Execution Time: {total_time} seconds\")'''"
   ]
  },
  {
   "cell_type": "code",
   "execution_count": null,
   "metadata": {},
   "outputs": [
    {
     "name": "stdout",
     "output_type": "stream",
     "text": [
      "Accuracy: 0.64\n",
      "Classification Report:\n",
      "               precision    recall  f1-score   support\n",
      "\n",
      "           f       0.62      0.72      0.67      2848\n",
      "           m       0.67      0.57      0.61      2833\n",
      "\n",
      "    accuracy                           0.64      5681\n",
      "   macro avg       0.64      0.64      0.64      5681\n",
      "weighted avg       0.64      0.64      0.64      5681\n",
      "\n",
      "Total Execution Time: 101.348459482193 seconds\n"
     ]
    }
   ],
   "source": [
    "# SVM without PCA with rbg -- SAMPLE\n",
    "\n",
    "from sklearn.model_selection import train_test_split, GridSearchCV\n",
    "from sklearn.svm import SVC\n",
    "import time\n",
    "\n",
    "# Start the timer for the entire process\n",
    "start_time = time.time()\n",
    "\n",
    "# Define the SVM model\n",
    "from sklearn.svm import SVC\n",
    "svm = SVC(kernel='rbf', random_state=42)\n",
    "\n",
    "# Define the parameter grid for GridSearch\n",
    "param_grid = {'C': [0.1, 1, 10, 100, 1000]}\n",
    "\n",
    "# GridSearchCV with parallelism\n",
    "grid_search = GridSearchCV(svm, param_grid, cv=3, n_jobs=-1)\n",
    "grid_search.fit(X_train_sample, y_train_sample)\n",
    "\n",
    "# Best estimator\n",
    "best_svm = grid_search.best_estimator_\n",
    "\n",
    "# Predictions\n",
    "svm_y_pred = best_svm.predict(X_test_sample)\n",
    "\n",
    "# Evaluate the model\n",
    "accuracy = accuracy_score(y_test_sample, svm_y_pred)\n",
    "report = classification_report(y_test_sample, svm_y_pred, target_names=le.classes_)\n",
    "\n",
    "print(f\"Accuracy: {accuracy:.2f}\")\n",
    "print(\"Classification Report:\\n\", report)\n",
    "\n",
    "# End the timer for the entire process\n",
    "end_time = time.time()\n",
    "\n",
    "# Calculate the total elapsed time\n",
    "total_time = end_time - start_time\n",
    "print(f\"Total Execution Time: {total_time} seconds\")"
   ]
  },
  {
   "cell_type": "markdown",
   "metadata": {},
   "source": [
    "# Random Forest "
   ]
  },
  {
   "cell_type": "code",
   "execution_count": null,
   "metadata": {},
   "outputs": [
    {
     "name": "stdout",
     "output_type": "stream",
     "text": [
      "Accuracy: 0.92\n",
      "Classification Report:\n",
      "               precision    recall  f1-score   support\n",
      "\n",
      "           f       0.91      0.94      0.92     14280\n",
      "           m       0.94      0.90      0.92     14125\n",
      "\n",
      "    accuracy                           0.92     28405\n",
      "   macro avg       0.92      0.92      0.92     28405\n",
      "weighted avg       0.92      0.92      0.92     28405\n",
      "\n",
      "Total Execution Time: 10.954237222671509 seconds\n"
     ]
    }
   ],
   "source": [
    "# Random Forest\n",
    "from sklearn.ensemble import RandomForestClassifier\n",
    "\n",
    "# Start the timer for the entire process\n",
    "start_time = time.time()\n",
    "\n",
    "# Random Forest with all CPUs\n",
    "rf = RandomForestClassifier(n_estimators=100, random_state=42, n_jobs=-1)\n",
    "rf.fit(X_train, y_train)\n",
    "\n",
    "# Predictions\n",
    "rf_y_pred = rf.predict(X_test)\n",
    "\n",
    "# Calculate accuracy, precision, recall, and F1-score of the model\n",
    "accuracy = accuracy_score(y_test, rf_y_pred)\n",
    "report = classification_report(y_test, rf_y_pred, target_names=le.classes_)\n",
    "\n",
    "print(f\"Accuracy: {accuracy:.2f}\")\n",
    "print(\"Classification Report:\\n\", report)\n",
    "\n",
    "# End the timer for the entire process\n",
    "end_time = time.time()\n",
    "\n",
    "# Calculate the total elapsed time\n",
    "total_time = end_time - start_time\n",
    "print(f\"Total Execution Time: {total_time} seconds\")"
   ]
  },
  {
   "cell_type": "markdown",
   "metadata": {},
   "source": [
    "# MLP CLassifier"
   ]
  },
  {
   "cell_type": "code",
   "execution_count": null,
   "metadata": {},
   "outputs": [],
   "source": [
    "# Take a 20% sample of the dataset\n",
    "sample_size = 0.20\n",
    "df_sample = final_df.sample(frac=sample_size, random_state=42)\n",
    "\n",
    "# Recreate the combined features for the sample\n",
    "X_text_sample = vectorizer.transform(df_sample['processed_text'])\n",
    "X_other_sample = df_sample[['line_count', 'medianWordCountLine', 'encoded_credit_pos', 'medianLineLength']]\n",
    "X_other_sparse_sample = csr_matrix(X_other_sample.values)\n",
    "X_combined_sample = hstack([X_text_sample, X_other_sparse_sample])\n",
    "y_sample = df_sample['gender_label']\n",
    "\n",
    "# Split the sample into 80% training and 20% testing sets\n",
    "X_train_sample, X_test_sample, y_train_sample, y_test_sample = train_test_split(X_combined_sample, y_sample, test_size=0.2, random_state=42)"
   ]
  },
  {
   "cell_type": "code",
   "execution_count": null,
   "metadata": {},
   "outputs": [
    {
     "name": "stdout",
     "output_type": "stream",
     "text": [
      "Accuracy: 0.61\n",
      "Classification Report:\n",
      "               precision    recall  f1-score   support\n",
      "\n",
      "           f       0.62      0.58      0.60      2848\n",
      "           m       0.60      0.64      0.62      2833\n",
      "\n",
      "    accuracy                           0.61      5681\n",
      "   macro avg       0.61      0.61      0.61      5681\n",
      "weighted avg       0.61      0.61      0.61      5681\n",
      "\n",
      "Total Execution Time: 348.8934259414673 seconds\n"
     ]
    }
   ],
   "source": [
    "# MLP Classifier\n",
    "from sklearn.neural_network import MLPClassifier\n",
    "from joblib import parallel_backend\n",
    "\n",
    "# Start the timer for the entire process\n",
    "start_time = time.time()\n",
    "\n",
    "# MLP Classifier with parallel backend\n",
    "mlp = MLPClassifier(hidden_layer_sizes=(100, 50), max_iter=500, random_state=42)\n",
    "\n",
    "# Use joblib to parallelize the fit method\n",
    "with parallel_backend('threading', n_jobs=-1):\n",
    "    mlp.fit(X_train_sample, y_train_sample)\n",
    "\n",
    "# Predictions\n",
    "mlp_y_pred = mlp.predict(X_test_sample)\n",
    "\n",
    "\n",
    "# Evaluate the model\n",
    "accuracy = accuracy_score(y_test_sample, mlp_y_pred)\n",
    "report = classification_report(y_test_sample, mlp_y_pred, target_names=le.classes_)\n",
    "\n",
    "print(f\"Accuracy: {accuracy:.2f}\")\n",
    "print(\"Classification Report:\\n\", report)\n",
    "\n",
    "# End the timer for the entire process\n",
    "end_time = time.time()\n",
    "\n",
    "# Calculate the total elapsed time\n",
    "total_time = end_time - start_time\n",
    "print(f\"Total Execution Time: {total_time} seconds\")"
   ]
  },
  {
   "cell_type": "code",
   "execution_count": null,
   "metadata": {},
   "outputs": [],
   "source": [
    "'''\n",
    "I haven't run this yet, It will take a lot :(\n",
    "\n",
    "# MLP Classifier\n",
    "from sklearn.neural_network import MLPClassifier\n",
    "from joblib import parallel_backend\n",
    "\n",
    "# MLP Classifier with parallel backend\n",
    "mlp = MLPClassifier(hidden_layer_sizes=(100, 50), max_iter=500, random_state=42)\n",
    "\n",
    "# Use joblib to parallelize the fit method\n",
    "with parallel_backend('threading', n_jobs=-1):\n",
    "    mlp.fit(X_train, y_train)\n",
    "\n",
    "# Predictions\n",
    "mlp_y_pred = mlp.predict(X_test)\n",
    "\n",
    "# Calculate accuracy, precision, recall, and F1-score of the model\n",
    "accuracy = accuracy_score(y_test, mlp_y_pred)\n",
    "precision = precision_score(y_test, mlp_y_pred, average='weighted')\n",
    "recall = recall_score(y_test, mlp_y_pred, average='weighted')\n",
    "f1 = f1_score(y_test, mlp_y_pred, average='weighted')\n",
    "print(f\"Model Accuracy: {accuracy}\")\n",
    "print(f\"Precision: {precision}\")\n",
    "print(f\"Recall: {recall}\")\n",
    "print(f\"F1-Score: {f1}\")'''"
   ]
  },
  {
   "cell_type": "code",
   "execution_count": null,
   "metadata": {},
   "outputs": [],
   "source": []
  }
 ],
 "metadata": {
  "kernelspec": {
   "display_name": "Python 3 ",
   "language": "python",
   "name": "python3"
  },
  "language_info": {
   "codemirror_mode": {
    "name": "ipython",
    "version": 3
   },
   "file_extension": ".py",
   "mimetype": "text/x-python",
   "name": "python",
   "nbconvert_exporter": "python",
   "pygments_lexer": "ipython3",
   "version": "3.11.4"
  }
 },
 "nbformat": 4,
 "nbformat_minor": 4
}
