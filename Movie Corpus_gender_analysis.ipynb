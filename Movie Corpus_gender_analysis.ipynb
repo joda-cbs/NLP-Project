{
 "cells": [
  {
   "cell_type": "markdown",
   "metadata": {},
   "source": [
    "## Pip Installs and Imports"
   ]
  },
  {
   "cell_type": "code",
   "execution_count": 76,
   "metadata": {},
   "outputs": [
    {
     "name": "stdout",
     "output_type": "stream",
     "text": [
      "Requirement already satisfied: convokit in /Users/francescasalute/anaconda3/lib/python3.11/site-packages (3.0.0)\n",
      "Requirement already satisfied: matplotlib>=3.0.0 in /Users/francescasalute/anaconda3/lib/python3.11/site-packages (from convokit) (3.7.1)\n",
      "Requirement already satisfied: pandas>=0.23.4 in /Users/francescasalute/anaconda3/lib/python3.11/site-packages (from convokit) (1.5.3)\n",
      "Requirement already satisfied: msgpack-numpy>=0.4.3.2 in /Users/francescasalute/anaconda3/lib/python3.11/site-packages (from convokit) (0.4.8)\n",
      "Requirement already satisfied: spacy>=2.3.5 in /Users/francescasalute/anaconda3/lib/python3.11/site-packages (from convokit) (3.7.4)\n",
      "Requirement already satisfied: scipy>=1.1.0 in /Users/francescasalute/anaconda3/lib/python3.11/site-packages (from convokit) (1.10.1)\n",
      "Requirement already satisfied: scikit-learn>=0.20.0 in /Users/francescasalute/anaconda3/lib/python3.11/site-packages (from convokit) (1.3.0)\n",
      "Requirement already satisfied: nltk>=3.4 in /Users/francescasalute/anaconda3/lib/python3.11/site-packages (from convokit) (3.8.1)\n",
      "Requirement already satisfied: dill>=0.2.9 in /Users/francescasalute/anaconda3/lib/python3.11/site-packages (from convokit) (0.3.6)\n",
      "Requirement already satisfied: joblib>=0.13.2 in /Users/francescasalute/anaconda3/lib/python3.11/site-packages (from convokit) (1.2.0)\n",
      "Requirement already satisfied: clean-text>=0.6.0 in /Users/francescasalute/anaconda3/lib/python3.11/site-packages (from convokit) (0.6.0)\n",
      "Requirement already satisfied: unidecode>=1.1.1 in /Users/francescasalute/anaconda3/lib/python3.11/site-packages (from convokit) (1.2.0)\n",
      "Requirement already satisfied: tqdm>=4.64.0 in /Users/francescasalute/anaconda3/lib/python3.11/site-packages (from convokit) (4.65.0)\n",
      "Requirement already satisfied: pymongo>=4.0 in /Users/francescasalute/anaconda3/lib/python3.11/site-packages (from convokit) (4.7.2)\n",
      "Requirement already satisfied: pyyaml>=5.4.1 in /Users/francescasalute/anaconda3/lib/python3.11/site-packages (from convokit) (6.0)\n",
      "Requirement already satisfied: dnspython>=1.16.0 in /Users/francescasalute/anaconda3/lib/python3.11/site-packages (from convokit) (2.6.1)\n",
      "Requirement already satisfied: emoji<2.0.0,>=1.0.0 in /Users/francescasalute/anaconda3/lib/python3.11/site-packages (from clean-text>=0.6.0->convokit) (1.7.0)\n",
      "Requirement already satisfied: ftfy<7.0,>=6.0 in /Users/francescasalute/anaconda3/lib/python3.11/site-packages (from clean-text>=0.6.0->convokit) (6.2.0)\n",
      "Requirement already satisfied: contourpy>=1.0.1 in /Users/francescasalute/anaconda3/lib/python3.11/site-packages (from matplotlib>=3.0.0->convokit) (1.0.5)\n",
      "Requirement already satisfied: cycler>=0.10 in /Users/francescasalute/anaconda3/lib/python3.11/site-packages (from matplotlib>=3.0.0->convokit) (0.11.0)\n",
      "Requirement already satisfied: fonttools>=4.22.0 in /Users/francescasalute/anaconda3/lib/python3.11/site-packages (from matplotlib>=3.0.0->convokit) (4.25.0)\n",
      "Requirement already satisfied: kiwisolver>=1.0.1 in /Users/francescasalute/anaconda3/lib/python3.11/site-packages (from matplotlib>=3.0.0->convokit) (1.4.4)\n",
      "Requirement already satisfied: numpy>=1.20 in /Users/francescasalute/anaconda3/lib/python3.11/site-packages (from matplotlib>=3.0.0->convokit) (1.24.3)\n",
      "Requirement already satisfied: packaging>=20.0 in /Users/francescasalute/anaconda3/lib/python3.11/site-packages (from matplotlib>=3.0.0->convokit) (23.0)\n",
      "Requirement already satisfied: pillow>=6.2.0 in /Users/francescasalute/anaconda3/lib/python3.11/site-packages (from matplotlib>=3.0.0->convokit) (9.4.0)\n",
      "Requirement already satisfied: pyparsing>=2.3.1 in /Users/francescasalute/anaconda3/lib/python3.11/site-packages (from matplotlib>=3.0.0->convokit) (3.0.9)\n",
      "Requirement already satisfied: python-dateutil>=2.7 in /Users/francescasalute/anaconda3/lib/python3.11/site-packages (from matplotlib>=3.0.0->convokit) (2.8.2)\n",
      "Requirement already satisfied: msgpack>=0.5.2 in /Users/francescasalute/anaconda3/lib/python3.11/site-packages (from msgpack-numpy>=0.4.3.2->convokit) (1.0.3)\n",
      "Requirement already satisfied: click in /Users/francescasalute/anaconda3/lib/python3.11/site-packages (from nltk>=3.4->convokit) (8.0.4)\n",
      "Requirement already satisfied: regex>=2021.8.3 in /Users/francescasalute/anaconda3/lib/python3.11/site-packages (from nltk>=3.4->convokit) (2022.7.9)\n",
      "Requirement already satisfied: pytz>=2020.1 in /Users/francescasalute/anaconda3/lib/python3.11/site-packages (from pandas>=0.23.4->convokit) (2022.7)\n",
      "Requirement already satisfied: threadpoolctl>=2.0.0 in /Users/francescasalute/anaconda3/lib/python3.11/site-packages (from scikit-learn>=0.20.0->convokit) (2.2.0)\n",
      "Requirement already satisfied: spacy-legacy<3.1.0,>=3.0.11 in /Users/francescasalute/anaconda3/lib/python3.11/site-packages (from spacy>=2.3.5->convokit) (3.0.12)\n",
      "Requirement already satisfied: spacy-loggers<2.0.0,>=1.0.0 in /Users/francescasalute/anaconda3/lib/python3.11/site-packages (from spacy>=2.3.5->convokit) (1.0.5)\n",
      "Requirement already satisfied: murmurhash<1.1.0,>=0.28.0 in /Users/francescasalute/anaconda3/lib/python3.11/site-packages (from spacy>=2.3.5->convokit) (1.0.10)\n",
      "Requirement already satisfied: cymem<2.1.0,>=2.0.2 in /Users/francescasalute/anaconda3/lib/python3.11/site-packages (from spacy>=2.3.5->convokit) (2.0.8)\n",
      "Requirement already satisfied: preshed<3.1.0,>=3.0.2 in /Users/francescasalute/anaconda3/lib/python3.11/site-packages (from spacy>=2.3.5->convokit) (3.0.9)\n",
      "Requirement already satisfied: thinc<8.3.0,>=8.2.2 in /Users/francescasalute/anaconda3/lib/python3.11/site-packages (from spacy>=2.3.5->convokit) (8.2.3)\n",
      "Requirement already satisfied: wasabi<1.2.0,>=0.9.1 in /Users/francescasalute/anaconda3/lib/python3.11/site-packages (from spacy>=2.3.5->convokit) (1.1.2)\n",
      "Requirement already satisfied: srsly<3.0.0,>=2.4.3 in /Users/francescasalute/anaconda3/lib/python3.11/site-packages (from spacy>=2.3.5->convokit) (2.4.8)\n",
      "Requirement already satisfied: catalogue<2.1.0,>=2.0.6 in /Users/francescasalute/anaconda3/lib/python3.11/site-packages (from spacy>=2.3.5->convokit) (2.0.10)\n",
      "Requirement already satisfied: weasel<0.4.0,>=0.1.0 in /Users/francescasalute/anaconda3/lib/python3.11/site-packages (from spacy>=2.3.5->convokit) (0.3.4)\n",
      "Requirement already satisfied: typer<0.10.0,>=0.3.0 in /Users/francescasalute/anaconda3/lib/python3.11/site-packages (from spacy>=2.3.5->convokit) (0.9.0)\n",
      "Requirement already satisfied: smart-open<7.0.0,>=5.2.1 in /Users/francescasalute/anaconda3/lib/python3.11/site-packages (from spacy>=2.3.5->convokit) (5.2.1)\n",
      "Requirement already satisfied: requests<3.0.0,>=2.13.0 in /Users/francescasalute/anaconda3/lib/python3.11/site-packages (from spacy>=2.3.5->convokit) (2.31.0)\n",
      "Requirement already satisfied: pydantic!=1.8,!=1.8.1,<3.0.0,>=1.7.4 in /Users/francescasalute/anaconda3/lib/python3.11/site-packages (from spacy>=2.3.5->convokit) (2.6.2)\n",
      "Requirement already satisfied: jinja2 in /Users/francescasalute/anaconda3/lib/python3.11/site-packages (from spacy>=2.3.5->convokit) (3.1.2)\n",
      "Requirement already satisfied: setuptools in /Users/francescasalute/anaconda3/lib/python3.11/site-packages (from spacy>=2.3.5->convokit) (68.0.0)\n",
      "Requirement already satisfied: langcodes<4.0.0,>=3.2.0 in /Users/francescasalute/anaconda3/lib/python3.11/site-packages (from spacy>=2.3.5->convokit) (3.3.0)\n",
      "Requirement already satisfied: wcwidth<0.3.0,>=0.2.12 in /Users/francescasalute/anaconda3/lib/python3.11/site-packages (from ftfy<7.0,>=6.0->clean-text>=0.6.0->convokit) (0.2.13)\n",
      "Requirement already satisfied: annotated-types>=0.4.0 in /Users/francescasalute/anaconda3/lib/python3.11/site-packages (from pydantic!=1.8,!=1.8.1,<3.0.0,>=1.7.4->spacy>=2.3.5->convokit) (0.6.0)\n",
      "Requirement already satisfied: pydantic-core==2.16.3 in /Users/francescasalute/anaconda3/lib/python3.11/site-packages (from pydantic!=1.8,!=1.8.1,<3.0.0,>=1.7.4->spacy>=2.3.5->convokit) (2.16.3)\n",
      "Requirement already satisfied: typing-extensions>=4.6.1 in /Users/francescasalute/anaconda3/lib/python3.11/site-packages (from pydantic!=1.8,!=1.8.1,<3.0.0,>=1.7.4->spacy>=2.3.5->convokit) (4.7.1)\n",
      "Requirement already satisfied: six>=1.5 in /Users/francescasalute/anaconda3/lib/python3.11/site-packages (from python-dateutil>=2.7->matplotlib>=3.0.0->convokit) (1.16.0)\n",
      "Requirement already satisfied: charset-normalizer<4,>=2 in /Users/francescasalute/anaconda3/lib/python3.11/site-packages (from requests<3.0.0,>=2.13.0->spacy>=2.3.5->convokit) (2.0.4)\n",
      "Requirement already satisfied: idna<4,>=2.5 in /Users/francescasalute/anaconda3/lib/python3.11/site-packages (from requests<3.0.0,>=2.13.0->spacy>=2.3.5->convokit) (3.4)\n",
      "Requirement already satisfied: urllib3<3,>=1.21.1 in /Users/francescasalute/anaconda3/lib/python3.11/site-packages (from requests<3.0.0,>=2.13.0->spacy>=2.3.5->convokit) (1.26.16)\n",
      "Requirement already satisfied: certifi>=2017.4.17 in /Users/francescasalute/anaconda3/lib/python3.11/site-packages (from requests<3.0.0,>=2.13.0->spacy>=2.3.5->convokit) (2023.7.22)\n",
      "Requirement already satisfied: blis<0.8.0,>=0.7.8 in /Users/francescasalute/anaconda3/lib/python3.11/site-packages (from thinc<8.3.0,>=8.2.2->spacy>=2.3.5->convokit) (0.7.11)\n",
      "Requirement already satisfied: confection<1.0.0,>=0.0.1 in /Users/francescasalute/anaconda3/lib/python3.11/site-packages (from thinc<8.3.0,>=8.2.2->spacy>=2.3.5->convokit) (0.1.4)\n",
      "Requirement already satisfied: cloudpathlib<0.17.0,>=0.7.0 in /Users/francescasalute/anaconda3/lib/python3.11/site-packages (from weasel<0.4.0,>=0.1.0->spacy>=2.3.5->convokit) (0.16.0)\n",
      "Requirement already satisfied: MarkupSafe>=2.0 in /Users/francescasalute/anaconda3/lib/python3.11/site-packages (from jinja2->spacy>=2.3.5->convokit) (2.1.1)\n",
      "Note: you may need to restart the kernel to use updated packages.\n"
     ]
    }
   ],
   "source": [
    "pip install convokit"
   ]
  },
  {
   "cell_type": "code",
   "execution_count": 77,
   "metadata": {},
   "outputs": [
    {
     "name": "stdout",
     "output_type": "stream",
     "text": [
      "Requirement already satisfied: seaborn in /Users/francescasalute/anaconda3/lib/python3.11/site-packages (0.12.2)\n",
      "Requirement already satisfied: numpy!=1.24.0,>=1.17 in /Users/francescasalute/anaconda3/lib/python3.11/site-packages (from seaborn) (1.24.3)\n",
      "Requirement already satisfied: pandas>=0.25 in /Users/francescasalute/anaconda3/lib/python3.11/site-packages (from seaborn) (1.5.3)\n",
      "Requirement already satisfied: matplotlib!=3.6.1,>=3.1 in /Users/francescasalute/anaconda3/lib/python3.11/site-packages (from seaborn) (3.7.1)\n",
      "Requirement already satisfied: contourpy>=1.0.1 in /Users/francescasalute/anaconda3/lib/python3.11/site-packages (from matplotlib!=3.6.1,>=3.1->seaborn) (1.0.5)\n",
      "Requirement already satisfied: cycler>=0.10 in /Users/francescasalute/anaconda3/lib/python3.11/site-packages (from matplotlib!=3.6.1,>=3.1->seaborn) (0.11.0)\n",
      "Requirement already satisfied: fonttools>=4.22.0 in /Users/francescasalute/anaconda3/lib/python3.11/site-packages (from matplotlib!=3.6.1,>=3.1->seaborn) (4.25.0)\n",
      "Requirement already satisfied: kiwisolver>=1.0.1 in /Users/francescasalute/anaconda3/lib/python3.11/site-packages (from matplotlib!=3.6.1,>=3.1->seaborn) (1.4.4)\n",
      "Requirement already satisfied: packaging>=20.0 in /Users/francescasalute/anaconda3/lib/python3.11/site-packages (from matplotlib!=3.6.1,>=3.1->seaborn) (23.0)\n",
      "Requirement already satisfied: pillow>=6.2.0 in /Users/francescasalute/anaconda3/lib/python3.11/site-packages (from matplotlib!=3.6.1,>=3.1->seaborn) (9.4.0)\n",
      "Requirement already satisfied: pyparsing>=2.3.1 in /Users/francescasalute/anaconda3/lib/python3.11/site-packages (from matplotlib!=3.6.1,>=3.1->seaborn) (3.0.9)\n",
      "Requirement already satisfied: python-dateutil>=2.7 in /Users/francescasalute/anaconda3/lib/python3.11/site-packages (from matplotlib!=3.6.1,>=3.1->seaborn) (2.8.2)\n",
      "Requirement already satisfied: pytz>=2020.1 in /Users/francescasalute/anaconda3/lib/python3.11/site-packages (from pandas>=0.25->seaborn) (2022.7)\n",
      "Requirement already satisfied: six>=1.5 in /Users/francescasalute/anaconda3/lib/python3.11/site-packages (from python-dateutil>=2.7->matplotlib!=3.6.1,>=3.1->seaborn) (1.16.0)\n",
      "Note: you may need to restart the kernel to use updated packages.\n"
     ]
    }
   ],
   "source": [
    "pip install seaborn"
   ]
  },
  {
   "cell_type": "code",
   "execution_count": 78,
   "metadata": {},
   "outputs": [
    {
     "name": "stderr",
     "output_type": "stream",
     "text": [
      "[nltk_data] Downloading package punkt to\n",
      "[nltk_data]     /Users/francescasalute/nltk_data...\n",
      "[nltk_data]   Package punkt is already up-to-date!\n",
      "[nltk_data] Downloading package wordnet to\n",
      "[nltk_data]     /Users/francescasalute/nltk_data...\n",
      "[nltk_data]   Package wordnet is already up-to-date!\n",
      "[nltk_data] Downloading package stopwords to\n",
      "[nltk_data]     /Users/francescasalute/nltk_data...\n",
      "[nltk_data]   Package stopwords is already up-to-date!\n"
     ]
    },
    {
     "data": {
      "text/plain": [
       "True"
      ]
     },
     "execution_count": 78,
     "metadata": {},
     "output_type": "execute_result"
    }
   ],
   "source": [
    "from convokit import Corpus, download\n",
    "import pandas as pd\n",
    "import matplotlib.pyplot as plt\n",
    "import seaborn as sns\n",
    "import re\n",
    "import nltk\n",
    "import time\n",
    "\n",
    "from nltk.tokenize import word_tokenize\n",
    "from nltk.corpus import stopwords\n",
    "from nltk.stem import WordNetLemmatizer, PorterStemmer\n",
    "from sklearn.feature_extraction.text import TfidfVectorizer\n",
    "import re\n",
    "from sklearn.model_selection import train_test_split\n",
    "from sklearn.naive_bayes import MultinomialNB\n",
    "from sklearn.metrics import accuracy_score, classification_report, precision_score, recall_score, f1_score\n",
    "from sklearn.linear_model import LogisticRegression\n",
    "from sklearn.preprocessing import LabelEncoder\n",
    "from scipy.sparse import hstack, csr_matrix\n",
    "from sklearn.preprocessing import Binarizer\n",
    "from sklearn.naive_bayes import BernoulliNB\n",
    "from sklearn.ensemble import RandomForestClassifier\n",
    "nltk.download('punkt')\n",
    "nltk.download('wordnet')\n",
    "nltk.download('stopwords')"
   ]
  },
  {
   "cell_type": "markdown",
   "metadata": {},
   "source": [
    "## Explorative Data Anlyses"
   ]
  },
  {
   "cell_type": "code",
   "execution_count": 79,
   "metadata": {},
   "outputs": [
    {
     "name": "stdout",
     "output_type": "stream",
     "text": [
      "Downloading movie-corpus to /Users/francescasalute/.convokit/downloads/movie-corpus\n",
      "Downloading movie-corpus from http://zissou.infosci.cornell.edu/convokit/datasets/movie-corpus/movie-corpus.zip (40.9MB)... Done\n"
     ]
    }
   ],
   "source": [
    "corpus = Corpus(filename=download(\"movie-corpus\"))"
   ]
  },
  {
   "cell_type": "code",
   "execution_count": 80,
   "metadata": {},
   "outputs": [
    {
     "name": "stdout",
     "output_type": "stream",
     "text": [
      "Number of Speakers: 9035\n",
      "Number of Utterances: 304713\n",
      "Number of Conversations: 83097\n"
     ]
    }
   ],
   "source": [
    "corpus.print_summary_stats()"
   ]
  },
  {
   "cell_type": "code",
   "execution_count": 81,
   "metadata": {},
   "outputs": [],
   "source": [
    "utterances = corpus.get_utterances_dataframe() # text of the conversations"
   ]
  },
  {
   "cell_type": "code",
   "execution_count": 82,
   "metadata": {},
   "outputs": [
    {
     "data": {
      "text/html": [
       "<div>\n",
       "<style scoped>\n",
       "    .dataframe tbody tr th:only-of-type {\n",
       "        vertical-align: middle;\n",
       "    }\n",
       "\n",
       "    .dataframe tbody tr th {\n",
       "        vertical-align: top;\n",
       "    }\n",
       "\n",
       "    .dataframe thead th {\n",
       "        text-align: right;\n",
       "    }\n",
       "</style>\n",
       "<table border=\"1\" class=\"dataframe\">\n",
       "  <thead>\n",
       "    <tr style=\"text-align: right;\">\n",
       "      <th></th>\n",
       "      <th>timestamp</th>\n",
       "      <th>text</th>\n",
       "      <th>speaker</th>\n",
       "      <th>reply_to</th>\n",
       "      <th>conversation_id</th>\n",
       "      <th>meta.movie_id</th>\n",
       "      <th>meta.parsed</th>\n",
       "      <th>vectors</th>\n",
       "    </tr>\n",
       "    <tr>\n",
       "      <th>id</th>\n",
       "      <th></th>\n",
       "      <th></th>\n",
       "      <th></th>\n",
       "      <th></th>\n",
       "      <th></th>\n",
       "      <th></th>\n",
       "      <th></th>\n",
       "      <th></th>\n",
       "    </tr>\n",
       "  </thead>\n",
       "  <tbody>\n",
       "    <tr>\n",
       "      <th>L1045</th>\n",
       "      <td>None</td>\n",
       "      <td>They do not!</td>\n",
       "      <td>u0</td>\n",
       "      <td>L1044</td>\n",
       "      <td>L1044</td>\n",
       "      <td>m0</td>\n",
       "      <td>[{'rt': 1, 'toks': [{'tok': 'They', 'tag': 'PR...</td>\n",
       "      <td>[]</td>\n",
       "    </tr>\n",
       "    <tr>\n",
       "      <th>L1044</th>\n",
       "      <td>None</td>\n",
       "      <td>They do to!</td>\n",
       "      <td>u2</td>\n",
       "      <td>None</td>\n",
       "      <td>L1044</td>\n",
       "      <td>m0</td>\n",
       "      <td>[{'rt': 1, 'toks': [{'tok': 'They', 'tag': 'PR...</td>\n",
       "      <td>[]</td>\n",
       "    </tr>\n",
       "    <tr>\n",
       "      <th>L985</th>\n",
       "      <td>None</td>\n",
       "      <td>I hope so.</td>\n",
       "      <td>u0</td>\n",
       "      <td>L984</td>\n",
       "      <td>L984</td>\n",
       "      <td>m0</td>\n",
       "      <td>[{'rt': 1, 'toks': [{'tok': 'I', 'tag': 'PRP',...</td>\n",
       "      <td>[]</td>\n",
       "    </tr>\n",
       "    <tr>\n",
       "      <th>L984</th>\n",
       "      <td>None</td>\n",
       "      <td>She okay?</td>\n",
       "      <td>u2</td>\n",
       "      <td>None</td>\n",
       "      <td>L984</td>\n",
       "      <td>m0</td>\n",
       "      <td>[{'rt': 1, 'toks': [{'tok': 'She', 'tag': 'PRP...</td>\n",
       "      <td>[]</td>\n",
       "    </tr>\n",
       "    <tr>\n",
       "      <th>L925</th>\n",
       "      <td>None</td>\n",
       "      <td>Let's go.</td>\n",
       "      <td>u0</td>\n",
       "      <td>L924</td>\n",
       "      <td>L924</td>\n",
       "      <td>m0</td>\n",
       "      <td>[{'rt': 0, 'toks': [{'tok': 'Let', 'tag': 'VB'...</td>\n",
       "      <td>[]</td>\n",
       "    </tr>\n",
       "  </tbody>\n",
       "</table>\n",
       "</div>"
      ],
      "text/plain": [
       "      timestamp          text speaker reply_to conversation_id meta.movie_id  \\\n",
       "id                                                                             \n",
       "L1045      None  They do not!      u0    L1044           L1044            m0   \n",
       "L1044      None   They do to!      u2     None           L1044            m0   \n",
       "L985       None    I hope so.      u0     L984            L984            m0   \n",
       "L984       None     She okay?      u2     None            L984            m0   \n",
       "L925       None     Let's go.      u0     L924            L924            m0   \n",
       "\n",
       "                                             meta.parsed vectors  \n",
       "id                                                                \n",
       "L1045  [{'rt': 1, 'toks': [{'tok': 'They', 'tag': 'PR...      []  \n",
       "L1044  [{'rt': 1, 'toks': [{'tok': 'They', 'tag': 'PR...      []  \n",
       "L985   [{'rt': 1, 'toks': [{'tok': 'I', 'tag': 'PRP',...      []  \n",
       "L984   [{'rt': 1, 'toks': [{'tok': 'She', 'tag': 'PRP...      []  \n",
       "L925   [{'rt': 0, 'toks': [{'tok': 'Let', 'tag': 'VB'...      []  "
      ]
     },
     "execution_count": 82,
     "metadata": {},
     "output_type": "execute_result"
    }
   ],
   "source": [
    "utterances.head()"
   ]
  },
  {
   "cell_type": "code",
   "execution_count": 83,
   "metadata": {},
   "outputs": [
    {
     "name": "stdout",
     "output_type": "stream",
     "text": [
      "<class 'pandas.core.frame.DataFrame'>\n",
      "Index: 304713 entries, L1045 to L666256\n",
      "Data columns (total 8 columns):\n",
      " #   Column           Non-Null Count   Dtype \n",
      "---  ------           --------------   ----- \n",
      " 0   timestamp        0 non-null       object\n",
      " 1   text             304713 non-null  object\n",
      " 2   speaker          304713 non-null  object\n",
      " 3   reply_to         221616 non-null  object\n",
      " 4   conversation_id  304713 non-null  object\n",
      " 5   meta.movie_id    304713 non-null  object\n",
      " 6   meta.parsed      304713 non-null  object\n",
      " 7   vectors          304713 non-null  object\n",
      "dtypes: object(8)\n",
      "memory usage: 20.9+ MB\n"
     ]
    }
   ],
   "source": [
    "utterances.info()"
   ]
  },
  {
   "cell_type": "code",
   "execution_count": 84,
   "metadata": {},
   "outputs": [],
   "source": [
    "conversations = corpus.get_conversations_dataframe() # movie genres linked to conversations"
   ]
  },
  {
   "cell_type": "code",
   "execution_count": 85,
   "metadata": {},
   "outputs": [
    {
     "data": {
      "text/html": [
       "<div>\n",
       "<style scoped>\n",
       "    .dataframe tbody tr th:only-of-type {\n",
       "        vertical-align: middle;\n",
       "    }\n",
       "\n",
       "    .dataframe tbody tr th {\n",
       "        vertical-align: top;\n",
       "    }\n",
       "\n",
       "    .dataframe thead th {\n",
       "        text-align: right;\n",
       "    }\n",
       "</style>\n",
       "<table border=\"1\" class=\"dataframe\">\n",
       "  <thead>\n",
       "    <tr style=\"text-align: right;\">\n",
       "      <th></th>\n",
       "      <th>vectors</th>\n",
       "      <th>meta.movie_idx</th>\n",
       "      <th>meta.movie_name</th>\n",
       "      <th>meta.release_year</th>\n",
       "      <th>meta.rating</th>\n",
       "      <th>meta.votes</th>\n",
       "      <th>meta.genre</th>\n",
       "    </tr>\n",
       "    <tr>\n",
       "      <th>id</th>\n",
       "      <th></th>\n",
       "      <th></th>\n",
       "      <th></th>\n",
       "      <th></th>\n",
       "      <th></th>\n",
       "      <th></th>\n",
       "      <th></th>\n",
       "    </tr>\n",
       "  </thead>\n",
       "  <tbody>\n",
       "    <tr>\n",
       "      <th>L1044</th>\n",
       "      <td>[]</td>\n",
       "      <td>m0</td>\n",
       "      <td>10 things i hate about you</td>\n",
       "      <td>1999</td>\n",
       "      <td>6.90</td>\n",
       "      <td>62847</td>\n",
       "      <td>['comedy', 'romance']</td>\n",
       "    </tr>\n",
       "    <tr>\n",
       "      <th>L984</th>\n",
       "      <td>[]</td>\n",
       "      <td>m0</td>\n",
       "      <td>10 things i hate about you</td>\n",
       "      <td>1999</td>\n",
       "      <td>6.90</td>\n",
       "      <td>62847</td>\n",
       "      <td>['comedy', 'romance']</td>\n",
       "    </tr>\n",
       "    <tr>\n",
       "      <th>L924</th>\n",
       "      <td>[]</td>\n",
       "      <td>m0</td>\n",
       "      <td>10 things i hate about you</td>\n",
       "      <td>1999</td>\n",
       "      <td>6.90</td>\n",
       "      <td>62847</td>\n",
       "      <td>['comedy', 'romance']</td>\n",
       "    </tr>\n",
       "    <tr>\n",
       "      <th>L870</th>\n",
       "      <td>[]</td>\n",
       "      <td>m0</td>\n",
       "      <td>10 things i hate about you</td>\n",
       "      <td>1999</td>\n",
       "      <td>6.90</td>\n",
       "      <td>62847</td>\n",
       "      <td>['comedy', 'romance']</td>\n",
       "    </tr>\n",
       "    <tr>\n",
       "      <th>L866</th>\n",
       "      <td>[]</td>\n",
       "      <td>m0</td>\n",
       "      <td>10 things i hate about you</td>\n",
       "      <td>1999</td>\n",
       "      <td>6.90</td>\n",
       "      <td>62847</td>\n",
       "      <td>['comedy', 'romance']</td>\n",
       "    </tr>\n",
       "  </tbody>\n",
       "</table>\n",
       "</div>"
      ],
      "text/plain": [
       "      vectors meta.movie_idx             meta.movie_name meta.release_year  \\\n",
       "id                                                                           \n",
       "L1044      []             m0  10 things i hate about you              1999   \n",
       "L984       []             m0  10 things i hate about you              1999   \n",
       "L924       []             m0  10 things i hate about you              1999   \n",
       "L870       []             m0  10 things i hate about you              1999   \n",
       "L866       []             m0  10 things i hate about you              1999   \n",
       "\n",
       "      meta.rating meta.votes             meta.genre  \n",
       "id                                                   \n",
       "L1044        6.90      62847  ['comedy', 'romance']  \n",
       "L984         6.90      62847  ['comedy', 'romance']  \n",
       "L924         6.90      62847  ['comedy', 'romance']  \n",
       "L870         6.90      62847  ['comedy', 'romance']  \n",
       "L866         6.90      62847  ['comedy', 'romance']  "
      ]
     },
     "execution_count": 85,
     "metadata": {},
     "output_type": "execute_result"
    }
   ],
   "source": [
    "conversations.head()"
   ]
  },
  {
   "cell_type": "code",
   "execution_count": 86,
   "metadata": {},
   "outputs": [
    {
     "name": "stdout",
     "output_type": "stream",
     "text": [
      "<class 'pandas.core.frame.DataFrame'>\n",
      "Index: 83097 entries, L1044 to L666256\n",
      "Data columns (total 7 columns):\n",
      " #   Column             Non-Null Count  Dtype \n",
      "---  ------             --------------  ----- \n",
      " 0   vectors            83097 non-null  object\n",
      " 1   meta.movie_idx     83097 non-null  object\n",
      " 2   meta.movie_name    83097 non-null  object\n",
      " 3   meta.release_year  83097 non-null  object\n",
      " 4   meta.rating        83097 non-null  object\n",
      " 5   meta.votes         83097 non-null  object\n",
      " 6   meta.genre         83097 non-null  object\n",
      "dtypes: object(7)\n",
      "memory usage: 5.1+ MB\n"
     ]
    }
   ],
   "source": [
    "conversations.info()"
   ]
  },
  {
   "cell_type": "code",
   "execution_count": 87,
   "metadata": {},
   "outputs": [
    {
     "data": {
      "text/html": [
       "<div>\n",
       "<style scoped>\n",
       "    .dataframe tbody tr th:only-of-type {\n",
       "        vertical-align: middle;\n",
       "    }\n",
       "\n",
       "    .dataframe tbody tr th {\n",
       "        vertical-align: top;\n",
       "    }\n",
       "\n",
       "    .dataframe thead th {\n",
       "        text-align: right;\n",
       "    }\n",
       "</style>\n",
       "<table border=\"1\" class=\"dataframe\">\n",
       "  <thead>\n",
       "    <tr style=\"text-align: right;\">\n",
       "      <th></th>\n",
       "      <th>vectors</th>\n",
       "      <th>meta.movie_idx</th>\n",
       "      <th>meta.movie_name</th>\n",
       "      <th>meta.release_year</th>\n",
       "      <th>meta.rating</th>\n",
       "      <th>meta.votes</th>\n",
       "      <th>meta.genre</th>\n",
       "    </tr>\n",
       "  </thead>\n",
       "  <tbody>\n",
       "    <tr>\n",
       "      <th>count</th>\n",
       "      <td>83097</td>\n",
       "      <td>83097</td>\n",
       "      <td>83097</td>\n",
       "      <td>83097</td>\n",
       "      <td>83097</td>\n",
       "      <td>83097</td>\n",
       "      <td>83097</td>\n",
       "    </tr>\n",
       "    <tr>\n",
       "      <th>unique</th>\n",
       "      <td>1</td>\n",
       "      <td>617</td>\n",
       "      <td>617</td>\n",
       "      <td>88</td>\n",
       "      <td>62</td>\n",
       "      <td>614</td>\n",
       "      <td>290</td>\n",
       "    </tr>\n",
       "    <tr>\n",
       "      <th>top</th>\n",
       "      <td>[]</td>\n",
       "      <td>m289</td>\n",
       "      <td>casino</td>\n",
       "      <td>1999</td>\n",
       "      <td>7.20</td>\n",
       "      <td>111223</td>\n",
       "      <td>['drama']</td>\n",
       "    </tr>\n",
       "    <tr>\n",
       "      <th>freq</th>\n",
       "      <td>83097</td>\n",
       "      <td>338</td>\n",
       "      <td>338</td>\n",
       "      <td>6646</td>\n",
       "      <td>3694</td>\n",
       "      <td>338</td>\n",
       "      <td>5027</td>\n",
       "    </tr>\n",
       "  </tbody>\n",
       "</table>\n",
       "</div>"
      ],
      "text/plain": [
       "       vectors meta.movie_idx meta.movie_name meta.release_year meta.rating  \\\n",
       "count    83097          83097           83097             83097       83097   \n",
       "unique       1            617             617                88          62   \n",
       "top         []           m289          casino              1999        7.20   \n",
       "freq     83097            338             338              6646        3694   \n",
       "\n",
       "       meta.votes meta.genre  \n",
       "count       83097      83097  \n",
       "unique        614        290  \n",
       "top        111223  ['drama']  \n",
       "freq          338       5027  "
      ]
     },
     "execution_count": 87,
     "metadata": {},
     "output_type": "execute_result"
    }
   ],
   "source": [
    "conversations.describe()"
   ]
  },
  {
   "cell_type": "code",
   "execution_count": 88,
   "metadata": {},
   "outputs": [],
   "source": [
    "characters = corpus.get_speakers_dataframe() # name and gender of speaker "
   ]
  },
  {
   "cell_type": "code",
   "execution_count": 89,
   "metadata": {},
   "outputs": [
    {
     "data": {
      "text/html": [
       "<div>\n",
       "<style scoped>\n",
       "    .dataframe tbody tr th:only-of-type {\n",
       "        vertical-align: middle;\n",
       "    }\n",
       "\n",
       "    .dataframe tbody tr th {\n",
       "        vertical-align: top;\n",
       "    }\n",
       "\n",
       "    .dataframe thead th {\n",
       "        text-align: right;\n",
       "    }\n",
       "</style>\n",
       "<table border=\"1\" class=\"dataframe\">\n",
       "  <thead>\n",
       "    <tr style=\"text-align: right;\">\n",
       "      <th></th>\n",
       "      <th>vectors</th>\n",
       "      <th>meta.character_name</th>\n",
       "      <th>meta.movie_idx</th>\n",
       "      <th>meta.movie_name</th>\n",
       "      <th>meta.gender</th>\n",
       "      <th>meta.credit_pos</th>\n",
       "    </tr>\n",
       "    <tr>\n",
       "      <th>id</th>\n",
       "      <th></th>\n",
       "      <th></th>\n",
       "      <th></th>\n",
       "      <th></th>\n",
       "      <th></th>\n",
       "      <th></th>\n",
       "    </tr>\n",
       "  </thead>\n",
       "  <tbody>\n",
       "    <tr>\n",
       "      <th>u0</th>\n",
       "      <td>[]</td>\n",
       "      <td>BIANCA</td>\n",
       "      <td>m0</td>\n",
       "      <td>10 things i hate about you</td>\n",
       "      <td>f</td>\n",
       "      <td>4</td>\n",
       "    </tr>\n",
       "    <tr>\n",
       "      <th>u2</th>\n",
       "      <td>[]</td>\n",
       "      <td>CAMERON</td>\n",
       "      <td>m0</td>\n",
       "      <td>10 things i hate about you</td>\n",
       "      <td>m</td>\n",
       "      <td>3</td>\n",
       "    </tr>\n",
       "    <tr>\n",
       "      <th>u3</th>\n",
       "      <td>[]</td>\n",
       "      <td>CHASTITY</td>\n",
       "      <td>m0</td>\n",
       "      <td>10 things i hate about you</td>\n",
       "      <td>?</td>\n",
       "      <td>?</td>\n",
       "    </tr>\n",
       "    <tr>\n",
       "      <th>u4</th>\n",
       "      <td>[]</td>\n",
       "      <td>JOEY</td>\n",
       "      <td>m0</td>\n",
       "      <td>10 things i hate about you</td>\n",
       "      <td>m</td>\n",
       "      <td>6</td>\n",
       "    </tr>\n",
       "    <tr>\n",
       "      <th>u5</th>\n",
       "      <td>[]</td>\n",
       "      <td>KAT</td>\n",
       "      <td>m0</td>\n",
       "      <td>10 things i hate about you</td>\n",
       "      <td>f</td>\n",
       "      <td>2</td>\n",
       "    </tr>\n",
       "  </tbody>\n",
       "</table>\n",
       "</div>"
      ],
      "text/plain": [
       "   vectors meta.character_name meta.movie_idx             meta.movie_name  \\\n",
       "id                                                                          \n",
       "u0      []              BIANCA             m0  10 things i hate about you   \n",
       "u2      []             CAMERON             m0  10 things i hate about you   \n",
       "u3      []            CHASTITY             m0  10 things i hate about you   \n",
       "u4      []                JOEY             m0  10 things i hate about you   \n",
       "u5      []                 KAT             m0  10 things i hate about you   \n",
       "\n",
       "   meta.gender meta.credit_pos  \n",
       "id                              \n",
       "u0           f               4  \n",
       "u2           m               3  \n",
       "u3           ?               ?  \n",
       "u4           m               6  \n",
       "u5           f               2  "
      ]
     },
     "execution_count": 89,
     "metadata": {},
     "output_type": "execute_result"
    }
   ],
   "source": [
    "characters.head()"
   ]
  },
  {
   "cell_type": "code",
   "execution_count": 90,
   "metadata": {},
   "outputs": [
    {
     "data": {
      "text/plain": [
       "?    6020\n",
       "m    1899\n",
       "f     921\n",
       "M     150\n",
       "F      45\n",
       "Name: meta.gender, dtype: int64"
      ]
     },
     "execution_count": 90,
     "metadata": {},
     "output_type": "execute_result"
    }
   ],
   "source": [
    "characters['meta.gender'].value_counts()"
   ]
  },
  {
   "cell_type": "code",
   "execution_count": 91,
   "metadata": {},
   "outputs": [
    {
     "data": {
      "text/plain": [
       "?    6020\n",
       "m    2049\n",
       "f     966\n",
       "Name: meta.gender, dtype: int64"
      ]
     },
     "execution_count": 91,
     "metadata": {},
     "output_type": "execute_result"
    }
   ],
   "source": [
    "# Clean the gender column\n",
    "characters['meta.gender'] = characters['meta.gender'].str.lower()\n",
    "characters['meta.gender'].value_counts()"
   ]
  },
  {
   "cell_type": "code",
   "execution_count": 92,
   "metadata": {},
   "outputs": [
    {
     "name": "stdout",
     "output_type": "stream",
     "text": [
      "['f' 'm' '?']\n"
     ]
    }
   ],
   "source": [
    "print(characters['meta.gender'].unique())"
   ]
  },
  {
   "cell_type": "code",
   "execution_count": 93,
   "metadata": {},
   "outputs": [
    {
     "data": {
      "text/plain": [
       "m    2049\n",
       "f     966\n",
       "Name: meta.gender, dtype: int64"
      ]
     },
     "execution_count": 93,
     "metadata": {},
     "output_type": "execute_result"
    }
   ],
   "source": [
    "# Drop the ? value\n",
    "rows_to_drop = characters[characters['meta.gender'] == '?'].index\n",
    "characters = characters.drop(rows_to_drop)\n",
    "characters['meta.gender'].value_counts()"
   ]
  },
  {
   "cell_type": "markdown",
   "metadata": {},
   "source": [
    "## Merge the Dataframes"
   ]
  },
  {
   "cell_type": "code",
   "execution_count": 94,
   "metadata": {},
   "outputs": [
    {
     "data": {
      "text/html": [
       "<div>\n",
       "<style scoped>\n",
       "    .dataframe tbody tr th:only-of-type {\n",
       "        vertical-align: middle;\n",
       "    }\n",
       "\n",
       "    .dataframe tbody tr th {\n",
       "        vertical-align: top;\n",
       "    }\n",
       "\n",
       "    .dataframe thead th {\n",
       "        text-align: right;\n",
       "    }\n",
       "</style>\n",
       "<table border=\"1\" class=\"dataframe\">\n",
       "  <thead>\n",
       "    <tr style=\"text-align: right;\">\n",
       "      <th></th>\n",
       "      <th>timestamp</th>\n",
       "      <th>text</th>\n",
       "      <th>speaker</th>\n",
       "      <th>reply_to</th>\n",
       "      <th>conversation_id</th>\n",
       "      <th>meta.movie_id</th>\n",
       "      <th>meta.parsed</th>\n",
       "      <th>vectors_utterance</th>\n",
       "      <th>vectors_conversation</th>\n",
       "      <th>meta.movie_idx</th>\n",
       "      <th>meta.movie_name</th>\n",
       "      <th>meta.release_year</th>\n",
       "      <th>meta.rating</th>\n",
       "      <th>meta.votes</th>\n",
       "      <th>meta.genre</th>\n",
       "    </tr>\n",
       "  </thead>\n",
       "  <tbody>\n",
       "    <tr>\n",
       "      <th>0</th>\n",
       "      <td>None</td>\n",
       "      <td>They do not!</td>\n",
       "      <td>u0</td>\n",
       "      <td>L1044</td>\n",
       "      <td>L1044</td>\n",
       "      <td>m0</td>\n",
       "      <td>[{'rt': 1, 'toks': [{'tok': 'They', 'tag': 'PR...</td>\n",
       "      <td>[]</td>\n",
       "      <td>[]</td>\n",
       "      <td>m0</td>\n",
       "      <td>10 things i hate about you</td>\n",
       "      <td>1999</td>\n",
       "      <td>6.90</td>\n",
       "      <td>62847</td>\n",
       "      <td>['comedy', 'romance']</td>\n",
       "    </tr>\n",
       "    <tr>\n",
       "      <th>1</th>\n",
       "      <td>None</td>\n",
       "      <td>They do to!</td>\n",
       "      <td>u2</td>\n",
       "      <td>None</td>\n",
       "      <td>L1044</td>\n",
       "      <td>m0</td>\n",
       "      <td>[{'rt': 1, 'toks': [{'tok': 'They', 'tag': 'PR...</td>\n",
       "      <td>[]</td>\n",
       "      <td>[]</td>\n",
       "      <td>m0</td>\n",
       "      <td>10 things i hate about you</td>\n",
       "      <td>1999</td>\n",
       "      <td>6.90</td>\n",
       "      <td>62847</td>\n",
       "      <td>['comedy', 'romance']</td>\n",
       "    </tr>\n",
       "    <tr>\n",
       "      <th>2</th>\n",
       "      <td>None</td>\n",
       "      <td>I hope so.</td>\n",
       "      <td>u0</td>\n",
       "      <td>L984</td>\n",
       "      <td>L984</td>\n",
       "      <td>m0</td>\n",
       "      <td>[{'rt': 1, 'toks': [{'tok': 'I', 'tag': 'PRP',...</td>\n",
       "      <td>[]</td>\n",
       "      <td>[]</td>\n",
       "      <td>m0</td>\n",
       "      <td>10 things i hate about you</td>\n",
       "      <td>1999</td>\n",
       "      <td>6.90</td>\n",
       "      <td>62847</td>\n",
       "      <td>['comedy', 'romance']</td>\n",
       "    </tr>\n",
       "    <tr>\n",
       "      <th>3</th>\n",
       "      <td>None</td>\n",
       "      <td>She okay?</td>\n",
       "      <td>u2</td>\n",
       "      <td>None</td>\n",
       "      <td>L984</td>\n",
       "      <td>m0</td>\n",
       "      <td>[{'rt': 1, 'toks': [{'tok': 'She', 'tag': 'PRP...</td>\n",
       "      <td>[]</td>\n",
       "      <td>[]</td>\n",
       "      <td>m0</td>\n",
       "      <td>10 things i hate about you</td>\n",
       "      <td>1999</td>\n",
       "      <td>6.90</td>\n",
       "      <td>62847</td>\n",
       "      <td>['comedy', 'romance']</td>\n",
       "    </tr>\n",
       "    <tr>\n",
       "      <th>4</th>\n",
       "      <td>None</td>\n",
       "      <td>Let's go.</td>\n",
       "      <td>u0</td>\n",
       "      <td>L924</td>\n",
       "      <td>L924</td>\n",
       "      <td>m0</td>\n",
       "      <td>[{'rt': 0, 'toks': [{'tok': 'Let', 'tag': 'VB'...</td>\n",
       "      <td>[]</td>\n",
       "      <td>[]</td>\n",
       "      <td>m0</td>\n",
       "      <td>10 things i hate about you</td>\n",
       "      <td>1999</td>\n",
       "      <td>6.90</td>\n",
       "      <td>62847</td>\n",
       "      <td>['comedy', 'romance']</td>\n",
       "    </tr>\n",
       "  </tbody>\n",
       "</table>\n",
       "</div>"
      ],
      "text/plain": [
       "  timestamp          text speaker reply_to conversation_id meta.movie_id  \\\n",
       "0      None  They do not!      u0    L1044           L1044            m0   \n",
       "1      None   They do to!      u2     None           L1044            m0   \n",
       "2      None    I hope so.      u0     L984            L984            m0   \n",
       "3      None     She okay?      u2     None            L984            m0   \n",
       "4      None     Let's go.      u0     L924            L924            m0   \n",
       "\n",
       "                                         meta.parsed vectors_utterance  \\\n",
       "0  [{'rt': 1, 'toks': [{'tok': 'They', 'tag': 'PR...                []   \n",
       "1  [{'rt': 1, 'toks': [{'tok': 'They', 'tag': 'PR...                []   \n",
       "2  [{'rt': 1, 'toks': [{'tok': 'I', 'tag': 'PRP',...                []   \n",
       "3  [{'rt': 1, 'toks': [{'tok': 'She', 'tag': 'PRP...                []   \n",
       "4  [{'rt': 0, 'toks': [{'tok': 'Let', 'tag': 'VB'...                []   \n",
       "\n",
       "  vectors_conversation meta.movie_idx             meta.movie_name  \\\n",
       "0                   []             m0  10 things i hate about you   \n",
       "1                   []             m0  10 things i hate about you   \n",
       "2                   []             m0  10 things i hate about you   \n",
       "3                   []             m0  10 things i hate about you   \n",
       "4                   []             m0  10 things i hate about you   \n",
       "\n",
       "  meta.release_year meta.rating meta.votes             meta.genre  \n",
       "0              1999        6.90      62847  ['comedy', 'romance']  \n",
       "1              1999        6.90      62847  ['comedy', 'romance']  \n",
       "2              1999        6.90      62847  ['comedy', 'romance']  \n",
       "3              1999        6.90      62847  ['comedy', 'romance']  \n",
       "4              1999        6.90      62847  ['comedy', 'romance']  "
      ]
     },
     "execution_count": 94,
     "metadata": {},
     "output_type": "execute_result"
    }
   ],
   "source": [
    "# Merge the DataFrames on 'conversation_id' from utterances and 'id' from conversations\n",
    "merged_df = pd.merge(utterances, conversations, left_on='conversation_id', right_on='id', suffixes=('_utterance', '_conversation'))\n",
    "merged_df.head()"
   ]
  },
  {
   "cell_type": "code",
   "execution_count": 95,
   "metadata": {},
   "outputs": [
    {
     "data": {
      "text/html": [
       "<div>\n",
       "<style scoped>\n",
       "    .dataframe tbody tr th:only-of-type {\n",
       "        vertical-align: middle;\n",
       "    }\n",
       "\n",
       "    .dataframe tbody tr th {\n",
       "        vertical-align: top;\n",
       "    }\n",
       "\n",
       "    .dataframe thead th {\n",
       "        text-align: right;\n",
       "    }\n",
       "</style>\n",
       "<table border=\"1\" class=\"dataframe\">\n",
       "  <thead>\n",
       "    <tr style=\"text-align: right;\">\n",
       "      <th></th>\n",
       "      <th>timestamp</th>\n",
       "      <th>text</th>\n",
       "      <th>speaker</th>\n",
       "      <th>reply_to</th>\n",
       "      <th>conversation_id</th>\n",
       "      <th>meta.movie_id</th>\n",
       "      <th>meta.parsed</th>\n",
       "      <th>vectors_utterance</th>\n",
       "      <th>vectors_conversation</th>\n",
       "      <th>meta.movie_idx_merged</th>\n",
       "      <th>...</th>\n",
       "      <th>meta.release_year</th>\n",
       "      <th>meta.rating</th>\n",
       "      <th>meta.votes</th>\n",
       "      <th>meta.genre</th>\n",
       "      <th>vectors</th>\n",
       "      <th>meta.character_name</th>\n",
       "      <th>meta.movie_idx_character</th>\n",
       "      <th>meta.movie_name_character</th>\n",
       "      <th>meta.gender</th>\n",
       "      <th>meta.credit_pos</th>\n",
       "    </tr>\n",
       "  </thead>\n",
       "  <tbody>\n",
       "    <tr>\n",
       "      <th>0</th>\n",
       "      <td>None</td>\n",
       "      <td>They do not!</td>\n",
       "      <td>u0</td>\n",
       "      <td>L1044</td>\n",
       "      <td>L1044</td>\n",
       "      <td>m0</td>\n",
       "      <td>[{'rt': 1, 'toks': [{'tok': 'They', 'tag': 'PR...</td>\n",
       "      <td>[]</td>\n",
       "      <td>[]</td>\n",
       "      <td>m0</td>\n",
       "      <td>...</td>\n",
       "      <td>1999</td>\n",
       "      <td>6.90</td>\n",
       "      <td>62847</td>\n",
       "      <td>['comedy', 'romance']</td>\n",
       "      <td>[]</td>\n",
       "      <td>BIANCA</td>\n",
       "      <td>m0</td>\n",
       "      <td>10 things i hate about you</td>\n",
       "      <td>f</td>\n",
       "      <td>4</td>\n",
       "    </tr>\n",
       "    <tr>\n",
       "      <th>1</th>\n",
       "      <td>None</td>\n",
       "      <td>They do to!</td>\n",
       "      <td>u2</td>\n",
       "      <td>None</td>\n",
       "      <td>L1044</td>\n",
       "      <td>m0</td>\n",
       "      <td>[{'rt': 1, 'toks': [{'tok': 'They', 'tag': 'PR...</td>\n",
       "      <td>[]</td>\n",
       "      <td>[]</td>\n",
       "      <td>m0</td>\n",
       "      <td>...</td>\n",
       "      <td>1999</td>\n",
       "      <td>6.90</td>\n",
       "      <td>62847</td>\n",
       "      <td>['comedy', 'romance']</td>\n",
       "      <td>[]</td>\n",
       "      <td>CAMERON</td>\n",
       "      <td>m0</td>\n",
       "      <td>10 things i hate about you</td>\n",
       "      <td>m</td>\n",
       "      <td>3</td>\n",
       "    </tr>\n",
       "    <tr>\n",
       "      <th>2</th>\n",
       "      <td>None</td>\n",
       "      <td>I hope so.</td>\n",
       "      <td>u0</td>\n",
       "      <td>L984</td>\n",
       "      <td>L984</td>\n",
       "      <td>m0</td>\n",
       "      <td>[{'rt': 1, 'toks': [{'tok': 'I', 'tag': 'PRP',...</td>\n",
       "      <td>[]</td>\n",
       "      <td>[]</td>\n",
       "      <td>m0</td>\n",
       "      <td>...</td>\n",
       "      <td>1999</td>\n",
       "      <td>6.90</td>\n",
       "      <td>62847</td>\n",
       "      <td>['comedy', 'romance']</td>\n",
       "      <td>[]</td>\n",
       "      <td>BIANCA</td>\n",
       "      <td>m0</td>\n",
       "      <td>10 things i hate about you</td>\n",
       "      <td>f</td>\n",
       "      <td>4</td>\n",
       "    </tr>\n",
       "    <tr>\n",
       "      <th>3</th>\n",
       "      <td>None</td>\n",
       "      <td>She okay?</td>\n",
       "      <td>u2</td>\n",
       "      <td>None</td>\n",
       "      <td>L984</td>\n",
       "      <td>m0</td>\n",
       "      <td>[{'rt': 1, 'toks': [{'tok': 'She', 'tag': 'PRP...</td>\n",
       "      <td>[]</td>\n",
       "      <td>[]</td>\n",
       "      <td>m0</td>\n",
       "      <td>...</td>\n",
       "      <td>1999</td>\n",
       "      <td>6.90</td>\n",
       "      <td>62847</td>\n",
       "      <td>['comedy', 'romance']</td>\n",
       "      <td>[]</td>\n",
       "      <td>CAMERON</td>\n",
       "      <td>m0</td>\n",
       "      <td>10 things i hate about you</td>\n",
       "      <td>m</td>\n",
       "      <td>3</td>\n",
       "    </tr>\n",
       "    <tr>\n",
       "      <th>4</th>\n",
       "      <td>None</td>\n",
       "      <td>Let's go.</td>\n",
       "      <td>u0</td>\n",
       "      <td>L924</td>\n",
       "      <td>L924</td>\n",
       "      <td>m0</td>\n",
       "      <td>[{'rt': 0, 'toks': [{'tok': 'Let', 'tag': 'VB'...</td>\n",
       "      <td>[]</td>\n",
       "      <td>[]</td>\n",
       "      <td>m0</td>\n",
       "      <td>...</td>\n",
       "      <td>1999</td>\n",
       "      <td>6.90</td>\n",
       "      <td>62847</td>\n",
       "      <td>['comedy', 'romance']</td>\n",
       "      <td>[]</td>\n",
       "      <td>BIANCA</td>\n",
       "      <td>m0</td>\n",
       "      <td>10 things i hate about you</td>\n",
       "      <td>f</td>\n",
       "      <td>4</td>\n",
       "    </tr>\n",
       "  </tbody>\n",
       "</table>\n",
       "<p>5 rows × 21 columns</p>\n",
       "</div>"
      ],
      "text/plain": [
       "  timestamp          text speaker reply_to conversation_id meta.movie_id  \\\n",
       "0      None  They do not!      u0    L1044           L1044            m0   \n",
       "1      None   They do to!      u2     None           L1044            m0   \n",
       "2      None    I hope so.      u0     L984            L984            m0   \n",
       "3      None     She okay?      u2     None            L984            m0   \n",
       "4      None     Let's go.      u0     L924            L924            m0   \n",
       "\n",
       "                                         meta.parsed vectors_utterance  \\\n",
       "0  [{'rt': 1, 'toks': [{'tok': 'They', 'tag': 'PR...                []   \n",
       "1  [{'rt': 1, 'toks': [{'tok': 'They', 'tag': 'PR...                []   \n",
       "2  [{'rt': 1, 'toks': [{'tok': 'I', 'tag': 'PRP',...                []   \n",
       "3  [{'rt': 1, 'toks': [{'tok': 'She', 'tag': 'PRP...                []   \n",
       "4  [{'rt': 0, 'toks': [{'tok': 'Let', 'tag': 'VB'...                []   \n",
       "\n",
       "  vectors_conversation meta.movie_idx_merged  ... meta.release_year  \\\n",
       "0                   []                    m0  ...              1999   \n",
       "1                   []                    m0  ...              1999   \n",
       "2                   []                    m0  ...              1999   \n",
       "3                   []                    m0  ...              1999   \n",
       "4                   []                    m0  ...              1999   \n",
       "\n",
       "  meta.rating meta.votes             meta.genre vectors meta.character_name  \\\n",
       "0        6.90      62847  ['comedy', 'romance']      []              BIANCA   \n",
       "1        6.90      62847  ['comedy', 'romance']      []             CAMERON   \n",
       "2        6.90      62847  ['comedy', 'romance']      []              BIANCA   \n",
       "3        6.90      62847  ['comedy', 'romance']      []             CAMERON   \n",
       "4        6.90      62847  ['comedy', 'romance']      []              BIANCA   \n",
       "\n",
       "  meta.movie_idx_character   meta.movie_name_character meta.gender  \\\n",
       "0                       m0  10 things i hate about you           f   \n",
       "1                       m0  10 things i hate about you           m   \n",
       "2                       m0  10 things i hate about you           f   \n",
       "3                       m0  10 things i hate about you           m   \n",
       "4                       m0  10 things i hate about you           f   \n",
       "\n",
       "  meta.credit_pos  \n",
       "0               4  \n",
       "1               3  \n",
       "2               4  \n",
       "3               3  \n",
       "4               4  \n",
       "\n",
       "[5 rows x 21 columns]"
      ]
     },
     "execution_count": 95,
     "metadata": {},
     "output_type": "execute_result"
    }
   ],
   "source": [
    "# # Merge the DataFrames on 'speaker' from merged and 'id' from character\n",
    "final_df = pd.merge(merged_df, characters, left_on='speaker', right_on='id', how='left', suffixes=('_merged', '_character'))\n",
    "final_df.head()"
   ]
  },
  {
   "cell_type": "code",
   "execution_count": 96,
   "metadata": {},
   "outputs": [
    {
     "data": {
      "text/plain": [
       "u4525    537\n",
       "u1169    489\n",
       "u1475    472\n",
       "u3681    467\n",
       "u4331    465\n",
       "        ... \n",
       "u7566      3\n",
       "u7562      3\n",
       "u8483      3\n",
       "u1840      3\n",
       "u8011      3\n",
       "Name: speaker, Length: 9035, dtype: int64"
      ]
     },
     "execution_count": 96,
     "metadata": {},
     "output_type": "execute_result"
    }
   ],
   "source": [
    "final_df['speaker'].value_counts() # how many times we see every speaker intervenes"
   ]
  },
  {
   "cell_type": "code",
   "execution_count": 97,
   "metadata": {},
   "outputs": [
    {
     "data": {
      "text/html": [
       "<div>\n",
       "<style scoped>\n",
       "    .dataframe tbody tr th:only-of-type {\n",
       "        vertical-align: middle;\n",
       "    }\n",
       "\n",
       "    .dataframe tbody tr th {\n",
       "        vertical-align: top;\n",
       "    }\n",
       "\n",
       "    .dataframe thead th {\n",
       "        text-align: right;\n",
       "    }\n",
       "</style>\n",
       "<table border=\"1\" class=\"dataframe\">\n",
       "  <thead>\n",
       "    <tr style=\"text-align: right;\">\n",
       "      <th></th>\n",
       "      <th>timestamp</th>\n",
       "      <th>text</th>\n",
       "      <th>speaker</th>\n",
       "      <th>reply_to</th>\n",
       "      <th>conversation_id</th>\n",
       "      <th>meta.movie_id</th>\n",
       "      <th>meta.parsed</th>\n",
       "      <th>vectors_utterance</th>\n",
       "      <th>vectors_conversation</th>\n",
       "      <th>meta.movie_idx_merged</th>\n",
       "      <th>...</th>\n",
       "      <th>meta.rating</th>\n",
       "      <th>meta.votes</th>\n",
       "      <th>meta.genre</th>\n",
       "      <th>vectors</th>\n",
       "      <th>meta.character_name</th>\n",
       "      <th>meta.movie_idx_character</th>\n",
       "      <th>meta.movie_name_character</th>\n",
       "      <th>meta.gender</th>\n",
       "      <th>meta.credit_pos</th>\n",
       "      <th>line_count</th>\n",
       "    </tr>\n",
       "  </thead>\n",
       "  <tbody>\n",
       "    <tr>\n",
       "      <th>0</th>\n",
       "      <td>None</td>\n",
       "      <td>They do not!</td>\n",
       "      <td>u0</td>\n",
       "      <td>L1044</td>\n",
       "      <td>L1044</td>\n",
       "      <td>m0</td>\n",
       "      <td>[{'rt': 1, 'toks': [{'tok': 'They', 'tag': 'PR...</td>\n",
       "      <td>[]</td>\n",
       "      <td>[]</td>\n",
       "      <td>m0</td>\n",
       "      <td>...</td>\n",
       "      <td>6.90</td>\n",
       "      <td>62847</td>\n",
       "      <td>['comedy', 'romance']</td>\n",
       "      <td>[]</td>\n",
       "      <td>BIANCA</td>\n",
       "      <td>m0</td>\n",
       "      <td>10 things i hate about you</td>\n",
       "      <td>f</td>\n",
       "      <td>4</td>\n",
       "      <td>98</td>\n",
       "    </tr>\n",
       "    <tr>\n",
       "      <th>1</th>\n",
       "      <td>None</td>\n",
       "      <td>They do to!</td>\n",
       "      <td>u2</td>\n",
       "      <td>None</td>\n",
       "      <td>L1044</td>\n",
       "      <td>m0</td>\n",
       "      <td>[{'rt': 1, 'toks': [{'tok': 'They', 'tag': 'PR...</td>\n",
       "      <td>[]</td>\n",
       "      <td>[]</td>\n",
       "      <td>m0</td>\n",
       "      <td>...</td>\n",
       "      <td>6.90</td>\n",
       "      <td>62847</td>\n",
       "      <td>['comedy', 'romance']</td>\n",
       "      <td>[]</td>\n",
       "      <td>CAMERON</td>\n",
       "      <td>m0</td>\n",
       "      <td>10 things i hate about you</td>\n",
       "      <td>m</td>\n",
       "      <td>3</td>\n",
       "      <td>78</td>\n",
       "    </tr>\n",
       "    <tr>\n",
       "      <th>2</th>\n",
       "      <td>None</td>\n",
       "      <td>I hope so.</td>\n",
       "      <td>u0</td>\n",
       "      <td>L984</td>\n",
       "      <td>L984</td>\n",
       "      <td>m0</td>\n",
       "      <td>[{'rt': 1, 'toks': [{'tok': 'I', 'tag': 'PRP',...</td>\n",
       "      <td>[]</td>\n",
       "      <td>[]</td>\n",
       "      <td>m0</td>\n",
       "      <td>...</td>\n",
       "      <td>6.90</td>\n",
       "      <td>62847</td>\n",
       "      <td>['comedy', 'romance']</td>\n",
       "      <td>[]</td>\n",
       "      <td>BIANCA</td>\n",
       "      <td>m0</td>\n",
       "      <td>10 things i hate about you</td>\n",
       "      <td>f</td>\n",
       "      <td>4</td>\n",
       "      <td>98</td>\n",
       "    </tr>\n",
       "    <tr>\n",
       "      <th>3</th>\n",
       "      <td>None</td>\n",
       "      <td>She okay?</td>\n",
       "      <td>u2</td>\n",
       "      <td>None</td>\n",
       "      <td>L984</td>\n",
       "      <td>m0</td>\n",
       "      <td>[{'rt': 1, 'toks': [{'tok': 'She', 'tag': 'PRP...</td>\n",
       "      <td>[]</td>\n",
       "      <td>[]</td>\n",
       "      <td>m0</td>\n",
       "      <td>...</td>\n",
       "      <td>6.90</td>\n",
       "      <td>62847</td>\n",
       "      <td>['comedy', 'romance']</td>\n",
       "      <td>[]</td>\n",
       "      <td>CAMERON</td>\n",
       "      <td>m0</td>\n",
       "      <td>10 things i hate about you</td>\n",
       "      <td>m</td>\n",
       "      <td>3</td>\n",
       "      <td>78</td>\n",
       "    </tr>\n",
       "    <tr>\n",
       "      <th>4</th>\n",
       "      <td>None</td>\n",
       "      <td>Let's go.</td>\n",
       "      <td>u0</td>\n",
       "      <td>L924</td>\n",
       "      <td>L924</td>\n",
       "      <td>m0</td>\n",
       "      <td>[{'rt': 0, 'toks': [{'tok': 'Let', 'tag': 'VB'...</td>\n",
       "      <td>[]</td>\n",
       "      <td>[]</td>\n",
       "      <td>m0</td>\n",
       "      <td>...</td>\n",
       "      <td>6.90</td>\n",
       "      <td>62847</td>\n",
       "      <td>['comedy', 'romance']</td>\n",
       "      <td>[]</td>\n",
       "      <td>BIANCA</td>\n",
       "      <td>m0</td>\n",
       "      <td>10 things i hate about you</td>\n",
       "      <td>f</td>\n",
       "      <td>4</td>\n",
       "      <td>98</td>\n",
       "    </tr>\n",
       "  </tbody>\n",
       "</table>\n",
       "<p>5 rows × 22 columns</p>\n",
       "</div>"
      ],
      "text/plain": [
       "  timestamp          text speaker reply_to conversation_id meta.movie_id  \\\n",
       "0      None  They do not!      u0    L1044           L1044            m0   \n",
       "1      None   They do to!      u2     None           L1044            m0   \n",
       "2      None    I hope so.      u0     L984            L984            m0   \n",
       "3      None     She okay?      u2     None            L984            m0   \n",
       "4      None     Let's go.      u0     L924            L924            m0   \n",
       "\n",
       "                                         meta.parsed vectors_utterance  \\\n",
       "0  [{'rt': 1, 'toks': [{'tok': 'They', 'tag': 'PR...                []   \n",
       "1  [{'rt': 1, 'toks': [{'tok': 'They', 'tag': 'PR...                []   \n",
       "2  [{'rt': 1, 'toks': [{'tok': 'I', 'tag': 'PRP',...                []   \n",
       "3  [{'rt': 1, 'toks': [{'tok': 'She', 'tag': 'PRP...                []   \n",
       "4  [{'rt': 0, 'toks': [{'tok': 'Let', 'tag': 'VB'...                []   \n",
       "\n",
       "  vectors_conversation meta.movie_idx_merged  ... meta.rating meta.votes  \\\n",
       "0                   []                    m0  ...        6.90      62847   \n",
       "1                   []                    m0  ...        6.90      62847   \n",
       "2                   []                    m0  ...        6.90      62847   \n",
       "3                   []                    m0  ...        6.90      62847   \n",
       "4                   []                    m0  ...        6.90      62847   \n",
       "\n",
       "              meta.genre vectors meta.character_name meta.movie_idx_character  \\\n",
       "0  ['comedy', 'romance']      []              BIANCA                       m0   \n",
       "1  ['comedy', 'romance']      []             CAMERON                       m0   \n",
       "2  ['comedy', 'romance']      []              BIANCA                       m0   \n",
       "3  ['comedy', 'romance']      []             CAMERON                       m0   \n",
       "4  ['comedy', 'romance']      []              BIANCA                       m0   \n",
       "\n",
       "    meta.movie_name_character meta.gender meta.credit_pos line_count  \n",
       "0  10 things i hate about you           f               4         98  \n",
       "1  10 things i hate about you           m               3         78  \n",
       "2  10 things i hate about you           f               4         98  \n",
       "3  10 things i hate about you           m               3         78  \n",
       "4  10 things i hate about you           f               4         98  \n",
       "\n",
       "[5 rows x 22 columns]"
      ]
     },
     "execution_count": 97,
     "metadata": {},
     "output_type": "execute_result"
    }
   ],
   "source": [
    "# Add a column with the number of line each character has\n",
    "final_df['line_count'] = final_df.groupby('speaker')['speaker'].transform('size')\n",
    "final_df.head()"
   ]
  },
  {
   "cell_type": "code",
   "execution_count": 98,
   "metadata": {},
   "outputs": [
    {
     "data": {
      "text/plain": [
       "(304713, 22)"
      ]
     },
     "execution_count": 98,
     "metadata": {},
     "output_type": "execute_result"
    }
   ],
   "source": [
    "final_df.shape"
   ]
  },
  {
   "cell_type": "code",
   "execution_count": 99,
   "metadata": {},
   "outputs": [
    {
     "name": "stdout",
     "output_type": "stream",
     "text": [
      "timestamp                    304713\n",
      "text                              0\n",
      "speaker                           0\n",
      "reply_to                      83097\n",
      "conversation_id                   0\n",
      "meta.movie_id                     0\n",
      "meta.parsed                       0\n",
      "vectors_utterance                 0\n",
      "vectors_conversation              0\n",
      "meta.movie_idx_merged             0\n",
      "meta.movie_name_merged            0\n",
      "meta.release_year                 0\n",
      "meta.rating                       0\n",
      "meta.votes                        0\n",
      "meta.genre                        0\n",
      "vectors                       62690\n",
      "meta.character_name           62690\n",
      "meta.movie_idx_character      62690\n",
      "meta.movie_name_character     62690\n",
      "meta.gender                   62690\n",
      "meta.credit_pos               62690\n",
      "line_count                        0\n",
      "dtype: int64\n"
     ]
    }
   ],
   "source": [
    "# Check all null values\n",
    "print(final_df.isnull().sum())"
   ]
  },
  {
   "cell_type": "code",
   "execution_count": 100,
   "metadata": {},
   "outputs": [
    {
     "data": {
      "text/plain": [
       "0"
      ]
     },
     "execution_count": 100,
     "metadata": {},
     "output_type": "execute_result"
    }
   ],
   "source": [
    "# Drop null values in gender after the mergin of datasets\n",
    "final_df = final_df.dropna(subset=['meta.gender'])\n",
    "final_df['meta.gender'].isnull().sum()"
   ]
  },
  {
   "cell_type": "code",
   "execution_count": 101,
   "metadata": {},
   "outputs": [
    {
     "data": {
      "text/plain": [
       "m    170768\n",
       "f     71255\n",
       "Name: meta.gender, dtype: int64"
      ]
     },
     "execution_count": 101,
     "metadata": {},
     "output_type": "execute_result"
    }
   ],
   "source": [
    "final_df['meta.gender'].value_counts()"
   ]
  },
  {
   "cell_type": "code",
   "execution_count": 102,
   "metadata": {},
   "outputs": [
    {
     "name": "stdout",
     "output_type": "stream",
     "text": [
      "text                         0\n",
      "speaker                      0\n",
      "conversation_id              0\n",
      "meta.movie_id                0\n",
      "meta.parsed                  0\n",
      "vectors_utterance            0\n",
      "vectors_conversation         0\n",
      "meta.movie_idx_merged        0\n",
      "meta.movie_name_merged       0\n",
      "meta.release_year            0\n",
      "meta.rating                  0\n",
      "meta.votes                   0\n",
      "meta.genre                   0\n",
      "vectors                      0\n",
      "meta.character_name          0\n",
      "meta.movie_idx_character     0\n",
      "meta.movie_name_character    0\n",
      "meta.gender                  0\n",
      "meta.credit_pos              0\n",
      "line_count                   0\n",
      "dtype: int64\n"
     ]
    }
   ],
   "source": [
    "final_df = final_df.drop(columns=['timestamp'])\n",
    "final_df = final_df.drop(columns=['reply_to'])\n",
    "print(final_df.isnull().sum()) # no null values present"
   ]
  },
  {
   "cell_type": "code",
   "execution_count": 103,
   "metadata": {},
   "outputs": [
    {
     "data": {
      "text/plain": [
       "1       79624\n",
       "2       46521\n",
       "3       26075\n",
       "?       26028\n",
       "4       15423\n",
       "5       10518\n",
       "6        8533\n",
       "8        4726\n",
       "7        4675\n",
       "9        3075\n",
       "10       1861\n",
       "1000     1475\n",
       "11       1418\n",
       "13       1375\n",
       "16       1315\n",
       "12       1298\n",
       "14       1020\n",
       "19        878\n",
       "18        824\n",
       "17        676\n",
       "21        647\n",
       "15        522\n",
       "45        467\n",
       "22        345\n",
       "35        323\n",
       "20        256\n",
       "25        236\n",
       "27        204\n",
       "29        176\n",
       "26        167\n",
       "24        129\n",
       "23        124\n",
       "43        114\n",
       "38        111\n",
       "44        109\n",
       "33         72\n",
       "31         68\n",
       "30         59\n",
       "34         49\n",
       "41         48\n",
       "42         40\n",
       "39         40\n",
       "59         39\n",
       "62         33\n",
       "51         32\n",
       "70         31\n",
       "71         30\n",
       "32         30\n",
       "36         29\n",
       "28         27\n",
       "63         24\n",
       "47         20\n",
       "50         19\n",
       "37         19\n",
       "82         17\n",
       "46         16\n",
       "49         13\n",
       "Name: meta.credit_pos, dtype: int64"
      ]
     },
     "execution_count": 103,
     "metadata": {},
     "output_type": "execute_result"
    }
   ],
   "source": [
    "# Credit column\n",
    "final_df['meta.credit_pos'].value_counts()"
   ]
  },
  {
   "cell_type": "code",
   "execution_count": 104,
   "metadata": {},
   "outputs": [
    {
     "data": {
      "text/plain": [
       "1      79624\n",
       "2      46521\n",
       "10+    42853\n",
       "3      26075\n",
       "4      15423\n",
       "5      10518\n",
       "6       8533\n",
       "8       4726\n",
       "7       4675\n",
       "9       3075\n",
       "Name: meta.credit_pos, dtype: int64"
      ]
     },
     "execution_count": 104,
     "metadata": {},
     "output_type": "execute_result"
    }
   ],
   "source": [
    "# Aggregate all the Credit that are 10 or more\n",
    "final_df['meta.credit_pos'] = final_df['meta.credit_pos'].apply(lambda p: '10+' if not p in ['1', '2', '3', '4', '5', '6', '7', '8', '9'] else p)  ## Label encoding\n",
    "final_df['meta.credit_pos'].value_counts()"
   ]
  },
  {
   "cell_type": "code",
   "execution_count": 105,
   "metadata": {},
   "outputs": [
    {
     "data": {
      "text/html": [
       "<div>\n",
       "<style scoped>\n",
       "    .dataframe tbody tr th:only-of-type {\n",
       "        vertical-align: middle;\n",
       "    }\n",
       "\n",
       "    .dataframe tbody tr th {\n",
       "        vertical-align: top;\n",
       "    }\n",
       "\n",
       "    .dataframe thead th {\n",
       "        text-align: right;\n",
       "    }\n",
       "</style>\n",
       "<table border=\"1\" class=\"dataframe\">\n",
       "  <thead>\n",
       "    <tr style=\"text-align: right;\">\n",
       "      <th></th>\n",
       "      <th>text</th>\n",
       "      <th>speaker</th>\n",
       "      <th>conversation_id</th>\n",
       "      <th>meta.movie_id</th>\n",
       "      <th>meta.parsed</th>\n",
       "      <th>vectors_utterance</th>\n",
       "      <th>vectors_conversation</th>\n",
       "      <th>meta.movie_idx_merged</th>\n",
       "      <th>meta.movie_name_merged</th>\n",
       "      <th>meta.release_year</th>\n",
       "      <th>...</th>\n",
       "      <th>meta.genre</th>\n",
       "      <th>vectors</th>\n",
       "      <th>meta.character_name</th>\n",
       "      <th>meta.movie_idx_character</th>\n",
       "      <th>meta.movie_name_character</th>\n",
       "      <th>meta.gender</th>\n",
       "      <th>meta.credit_pos</th>\n",
       "      <th>line_count</th>\n",
       "      <th>lineLength</th>\n",
       "      <th>wordCountLine</th>\n",
       "    </tr>\n",
       "  </thead>\n",
       "  <tbody>\n",
       "    <tr>\n",
       "      <th>0</th>\n",
       "      <td>They do not!</td>\n",
       "      <td>u0</td>\n",
       "      <td>L1044</td>\n",
       "      <td>m0</td>\n",
       "      <td>[{'rt': 1, 'toks': [{'tok': 'They', 'tag': 'PR...</td>\n",
       "      <td>[]</td>\n",
       "      <td>[]</td>\n",
       "      <td>m0</td>\n",
       "      <td>10 things i hate about you</td>\n",
       "      <td>1999</td>\n",
       "      <td>...</td>\n",
       "      <td>['comedy', 'romance']</td>\n",
       "      <td>[]</td>\n",
       "      <td>BIANCA</td>\n",
       "      <td>m0</td>\n",
       "      <td>10 things i hate about you</td>\n",
       "      <td>f</td>\n",
       "      <td>4</td>\n",
       "      <td>98</td>\n",
       "      <td>12</td>\n",
       "      <td>3</td>\n",
       "    </tr>\n",
       "    <tr>\n",
       "      <th>1</th>\n",
       "      <td>They do to!</td>\n",
       "      <td>u2</td>\n",
       "      <td>L1044</td>\n",
       "      <td>m0</td>\n",
       "      <td>[{'rt': 1, 'toks': [{'tok': 'They', 'tag': 'PR...</td>\n",
       "      <td>[]</td>\n",
       "      <td>[]</td>\n",
       "      <td>m0</td>\n",
       "      <td>10 things i hate about you</td>\n",
       "      <td>1999</td>\n",
       "      <td>...</td>\n",
       "      <td>['comedy', 'romance']</td>\n",
       "      <td>[]</td>\n",
       "      <td>CAMERON</td>\n",
       "      <td>m0</td>\n",
       "      <td>10 things i hate about you</td>\n",
       "      <td>m</td>\n",
       "      <td>3</td>\n",
       "      <td>78</td>\n",
       "      <td>11</td>\n",
       "      <td>3</td>\n",
       "    </tr>\n",
       "    <tr>\n",
       "      <th>2</th>\n",
       "      <td>I hope so.</td>\n",
       "      <td>u0</td>\n",
       "      <td>L984</td>\n",
       "      <td>m0</td>\n",
       "      <td>[{'rt': 1, 'toks': [{'tok': 'I', 'tag': 'PRP',...</td>\n",
       "      <td>[]</td>\n",
       "      <td>[]</td>\n",
       "      <td>m0</td>\n",
       "      <td>10 things i hate about you</td>\n",
       "      <td>1999</td>\n",
       "      <td>...</td>\n",
       "      <td>['comedy', 'romance']</td>\n",
       "      <td>[]</td>\n",
       "      <td>BIANCA</td>\n",
       "      <td>m0</td>\n",
       "      <td>10 things i hate about you</td>\n",
       "      <td>f</td>\n",
       "      <td>4</td>\n",
       "      <td>98</td>\n",
       "      <td>10</td>\n",
       "      <td>3</td>\n",
       "    </tr>\n",
       "    <tr>\n",
       "      <th>3</th>\n",
       "      <td>She okay?</td>\n",
       "      <td>u2</td>\n",
       "      <td>L984</td>\n",
       "      <td>m0</td>\n",
       "      <td>[{'rt': 1, 'toks': [{'tok': 'She', 'tag': 'PRP...</td>\n",
       "      <td>[]</td>\n",
       "      <td>[]</td>\n",
       "      <td>m0</td>\n",
       "      <td>10 things i hate about you</td>\n",
       "      <td>1999</td>\n",
       "      <td>...</td>\n",
       "      <td>['comedy', 'romance']</td>\n",
       "      <td>[]</td>\n",
       "      <td>CAMERON</td>\n",
       "      <td>m0</td>\n",
       "      <td>10 things i hate about you</td>\n",
       "      <td>m</td>\n",
       "      <td>3</td>\n",
       "      <td>78</td>\n",
       "      <td>9</td>\n",
       "      <td>2</td>\n",
       "    </tr>\n",
       "    <tr>\n",
       "      <th>4</th>\n",
       "      <td>Let's go.</td>\n",
       "      <td>u0</td>\n",
       "      <td>L924</td>\n",
       "      <td>m0</td>\n",
       "      <td>[{'rt': 0, 'toks': [{'tok': 'Let', 'tag': 'VB'...</td>\n",
       "      <td>[]</td>\n",
       "      <td>[]</td>\n",
       "      <td>m0</td>\n",
       "      <td>10 things i hate about you</td>\n",
       "      <td>1999</td>\n",
       "      <td>...</td>\n",
       "      <td>['comedy', 'romance']</td>\n",
       "      <td>[]</td>\n",
       "      <td>BIANCA</td>\n",
       "      <td>m0</td>\n",
       "      <td>10 things i hate about you</td>\n",
       "      <td>f</td>\n",
       "      <td>4</td>\n",
       "      <td>98</td>\n",
       "      <td>9</td>\n",
       "      <td>2</td>\n",
       "    </tr>\n",
       "  </tbody>\n",
       "</table>\n",
       "<p>5 rows × 22 columns</p>\n",
       "</div>"
      ],
      "text/plain": [
       "           text speaker conversation_id meta.movie_id  \\\n",
       "0  They do not!      u0           L1044            m0   \n",
       "1   They do to!      u2           L1044            m0   \n",
       "2    I hope so.      u0            L984            m0   \n",
       "3     She okay?      u2            L984            m0   \n",
       "4     Let's go.      u0            L924            m0   \n",
       "\n",
       "                                         meta.parsed vectors_utterance  \\\n",
       "0  [{'rt': 1, 'toks': [{'tok': 'They', 'tag': 'PR...                []   \n",
       "1  [{'rt': 1, 'toks': [{'tok': 'They', 'tag': 'PR...                []   \n",
       "2  [{'rt': 1, 'toks': [{'tok': 'I', 'tag': 'PRP',...                []   \n",
       "3  [{'rt': 1, 'toks': [{'tok': 'She', 'tag': 'PRP...                []   \n",
       "4  [{'rt': 0, 'toks': [{'tok': 'Let', 'tag': 'VB'...                []   \n",
       "\n",
       "  vectors_conversation meta.movie_idx_merged      meta.movie_name_merged  \\\n",
       "0                   []                    m0  10 things i hate about you   \n",
       "1                   []                    m0  10 things i hate about you   \n",
       "2                   []                    m0  10 things i hate about you   \n",
       "3                   []                    m0  10 things i hate about you   \n",
       "4                   []                    m0  10 things i hate about you   \n",
       "\n",
       "  meta.release_year  ...             meta.genre vectors meta.character_name  \\\n",
       "0              1999  ...  ['comedy', 'romance']      []              BIANCA   \n",
       "1              1999  ...  ['comedy', 'romance']      []             CAMERON   \n",
       "2              1999  ...  ['comedy', 'romance']      []              BIANCA   \n",
       "3              1999  ...  ['comedy', 'romance']      []             CAMERON   \n",
       "4              1999  ...  ['comedy', 'romance']      []              BIANCA   \n",
       "\n",
       "  meta.movie_idx_character   meta.movie_name_character meta.gender  \\\n",
       "0                       m0  10 things i hate about you           f   \n",
       "1                       m0  10 things i hate about you           m   \n",
       "2                       m0  10 things i hate about you           f   \n",
       "3                       m0  10 things i hate about you           m   \n",
       "4                       m0  10 things i hate about you           f   \n",
       "\n",
       "  meta.credit_pos line_count lineLength  wordCountLine  \n",
       "0               4         98         12              3  \n",
       "1               3         78         11              3  \n",
       "2               4         98         10              3  \n",
       "3               3         78          9              2  \n",
       "4               4         98          9              2  \n",
       "\n",
       "[5 rows x 22 columns]"
      ]
     },
     "execution_count": 105,
     "metadata": {},
     "output_type": "execute_result"
    }
   ],
   "source": [
    "# Create two columns with the lenght of each line by characters and by words\n",
    "final_df['lineLength'] = final_df['text'].str.len()             # length of each line by characters\n",
    "final_df['wordCountLine'] = final_df['text'].str.count(' ') + 1 # length of each line by words\n",
    "final_df.head()"
   ]
  },
  {
   "cell_type": "code",
   "execution_count": 106,
   "metadata": {},
   "outputs": [],
   "source": [
    "# Calculate the median of the line lengths for each speaker\n",
    "final_df['medianLineLength'] = final_df.groupby('speaker')['lineLength'].transform('median')\n",
    "\n",
    "# Calculate the median word count for each speaker\n",
    "final_df['medianWordCountLine'] = final_df.groupby('speaker')['wordCountLine'].transform('median')"
   ]
  },
  {
   "cell_type": "code",
   "execution_count": 107,
   "metadata": {},
   "outputs": [
    {
     "name": "stdout",
     "output_type": "stream",
     "text": [
      "<class 'pandas.core.frame.DataFrame'>\n",
      "Int64Index: 242023 entries, 0 to 304628\n",
      "Data columns (total 24 columns):\n",
      " #   Column                     Non-Null Count   Dtype  \n",
      "---  ------                     --------------   -----  \n",
      " 0   text                       242023 non-null  object \n",
      " 1   speaker                    242023 non-null  object \n",
      " 2   conversation_id            242023 non-null  object \n",
      " 3   meta.movie_id              242023 non-null  object \n",
      " 4   meta.parsed                242023 non-null  object \n",
      " 5   vectors_utterance          242023 non-null  object \n",
      " 6   vectors_conversation       242023 non-null  object \n",
      " 7   meta.movie_idx_merged      242023 non-null  object \n",
      " 8   meta.movie_name_merged     242023 non-null  object \n",
      " 9   meta.release_year          236645 non-null  Int64  \n",
      " 10  meta.rating                242023 non-null  float64\n",
      " 11  meta.votes                 242023 non-null  int64  \n",
      " 12  meta.genre                 242023 non-null  object \n",
      " 13  vectors                    242023 non-null  object \n",
      " 14  meta.character_name        242023 non-null  object \n",
      " 15  meta.movie_idx_character   242023 non-null  object \n",
      " 16  meta.movie_name_character  242023 non-null  object \n",
      " 17  meta.gender                242023 non-null  object \n",
      " 18  meta.credit_pos            242023 non-null  object \n",
      " 19  line_count                 242023 non-null  int64  \n",
      " 20  lineLength                 242023 non-null  int64  \n",
      " 21  wordCountLine              242023 non-null  int64  \n",
      " 22  medianLineLength           242023 non-null  float64\n",
      " 23  medianWordCountLine        242023 non-null  float64\n",
      "dtypes: Int64(1), float64(3), int64(4), object(16)\n",
      "memory usage: 46.4+ MB\n"
     ]
    }
   ],
   "source": [
    "# Making sure all columns are in the correct type\n",
    "final_df['meta.rating'] = pd.to_numeric(final_df['meta.rating'], errors='coerce')\n",
    "final_df['meta.votes'] = pd.to_numeric(final_df['meta.votes'], errors='coerce')\n",
    "final_df['meta.release_year'] = pd.to_numeric(final_df['meta.release_year'], errors='coerce').astype('Int64')\n",
    "\n",
    "final_df.info()"
   ]
  },
  {
   "cell_type": "markdown",
   "metadata": {},
   "source": [
    "## Correct the imbalance "
   ]
  },
  {
   "cell_type": "code",
   "execution_count": 108,
   "metadata": {},
   "outputs": [
    {
     "data": {
      "text/plain": [
       "(242023, 24)"
      ]
     },
     "execution_count": 108,
     "metadata": {},
     "output_type": "execute_result"
    }
   ],
   "source": [
    "final_df.shape"
   ]
  },
  {
   "cell_type": "code",
   "execution_count": 109,
   "metadata": {},
   "outputs": [],
   "source": [
    "# Filter rows with 'meta.gender' equal to 'm'\n",
    "m_rows = final_df[final_df['meta.gender'] == 'm']\n",
    "\n",
    "# Filter rows with 'meta.gender' different from 'm'\n",
    "non_m_rows = final_df[final_df['meta.gender'] != 'm']\n",
    "\n",
    "# Randomize and remove 100,000 rows from subset with 'm'\n",
    "m_rows_sampled = m_rows.sample(n=70768, random_state=42)\n",
    "\n",
    "# Combine the remaining subsets\n",
    "final_df = pd.concat([m_rows_sampled, non_m_rows])"
   ]
  },
  {
   "cell_type": "code",
   "execution_count": 110,
   "metadata": {},
   "outputs": [
    {
     "data": {
      "text/plain": [
       "(142023, 24)"
      ]
     },
     "execution_count": 110,
     "metadata": {},
     "output_type": "execute_result"
    }
   ],
   "source": [
    "final_df.shape"
   ]
  },
  {
   "cell_type": "code",
   "execution_count": 111,
   "metadata": {},
   "outputs": [
    {
     "data": {
      "text/plain": [
       "f    71255\n",
       "m    70768\n",
       "Name: meta.gender, dtype: int64"
      ]
     },
     "execution_count": 111,
     "metadata": {},
     "output_type": "execute_result"
    }
   ],
   "source": [
    "# Now male and female speakers number is more or less equal, compared with before where a huge gap would cause a biased analysis\n",
    "final_df['meta.gender'].value_counts()"
   ]
  },
  {
   "cell_type": "markdown",
   "metadata": {},
   "source": [
    "## Visualizations of the Data"
   ]
  },
  {
   "cell_type": "code",
   "execution_count": 112,
   "metadata": {},
   "outputs": [
    {
     "name": "stdout",
     "output_type": "stream",
     "text": [
      "  meta.gender  total_lines  avg_word_count\n",
      "0           f      9276513       10.269581\n",
      "1           m     11086171       10.995591\n"
     ]
    },
    {
     "data": {
      "image/png": "[encoded data removed]",
      "text/plain": [
       "<Figure size 1200x600 with 2 Axes>"
      ]
     },
     "metadata": {},
     "output_type": "display_data"
    }
   ],
   "source": [
    "# Calculate the total number of lines and the average word count per line for each gender\n",
    "gender_stats = final_df.groupby('meta.gender').agg(\n",
    "    total_lines=('line_count', 'sum'),\n",
    "    avg_word_count=('wordCountLine', 'mean')\n",
    ").reset_index()\n",
    "\n",
    "# Show statistics per gender\n",
    "print(gender_stats)\n",
    "\n",
    "fig, axes = plt.subplots(nrows=1, ncols=2, figsize=(12, 6))\n",
    "\n",
    "# Plot the total number of lines per gender\n",
    "axes[0].bar(gender_stats['meta.gender'], gender_stats['total_lines'], color=['blue', 'pink'])\n",
    "axes[0].set_title('Total Number of Lines per Gender')\n",
    "axes[0].set_xlabel('Gender')\n",
    "axes[0].set_ylabel('Total Number of Lines')\n",
    "\n",
    "# Plot the average word count per line per gender\n",
    "axes[1].bar(gender_stats['meta.gender'], gender_stats['avg_word_count'], color=['blue', 'pink'])\n",
    "axes[1].set_title('Average Word Count per Line per Gender')\n",
    "axes[1].set_xlabel('Gender')\n",
    "axes[1].set_ylabel('Average Word Count per Line')\n",
    "\n",
    "# Show the plots\n",
    "plt.tight_layout()\n",
    "plt.show()"
   ]
  },
  {
   "cell_type": "code",
   "execution_count": 113,
   "metadata": {},
   "outputs": [
    {
     "data": {
      "image/png": "[encoded data removed]",
      "text/plain": [
       "<Figure size 1400x800 with 1 Axes>"
      ]
     },
     "metadata": {},
     "output_type": "display_data"
    }
   ],
   "source": [
    "# Line Lenght Distribution by Gender\n",
    "plt.figure(figsize=(14, 8))\n",
    "sns.boxplot(x='meta.gender', y='lineLength', data=final_df, palette={\"m\": \"pink\", \"f\": \"blue\"})\n",
    "plt.title('Line Length Distribution by Gender', fontsize=16)\n",
    "plt.xlabel('Gender', fontsize=14)\n",
    "plt.ylabel('Line Length', fontsize=14)\n",
    "plt.ylim(0, 500)  \n",
    "plt.show()"
   ]
  },
  {
   "cell_type": "code",
   "execution_count": 114,
   "metadata": {},
   "outputs": [
    {
     "name": "stdout",
     "output_type": "stream",
     "text": [
      "meta.gender          f      m\n",
      "meta.credit_pos              \n",
      "1                13367  27592\n",
      "10+              12891  12219\n",
      "2                22598   9911\n",
      "3                 8745   7164\n",
      "4                 5203   4251\n",
      "5                 2401   3426\n",
      "6                 2295   2528\n",
      "7                 1288   1426\n",
      "8                 1321   1432\n",
      "9                 1146    819\n"
     ]
    },
    {
     "data": {
      "image/png": "[encoded data removed]",
      "text/plain": [
       "<Figure size 1000x600 with 1 Axes>"
      ]
     },
     "metadata": {},
     "output_type": "display_data"
    }
   ],
   "source": [
    "# Calculate the number of characters per posCredit and gender\n",
    "posCredit_gender_counts = final_df.groupby(['meta.credit_pos', 'meta.gender']).size().unstack(fill_value=0)\n",
    "\n",
    "# Show the count per Credit and gender\n",
    "print(posCredit_gender_counts)\n",
    "\n",
    "# Plot the data\n",
    "posCredit_gender_counts.plot(kind='bar', figsize=(10, 6), color=['blue', 'pink'])\n",
    "plt.title('Count of Characters by posCredit and Gender')\n",
    "plt.xlabel('posCredit')\n",
    "plt.ylabel('Count of Characters')\n",
    "plt.legend(title='Gender')\n",
    "plt.xticks(rotation=0)  # Mantiene le etichette sull'asse x orizzontali\n",
    "plt.tight_layout()\n",
    "plt.show()"
   ]
  },
  {
   "cell_type": "code",
   "execution_count": 115,
   "metadata": {},
   "outputs": [
    {
     "data": {
      "image/png": "[encoded data removed]",
      "text/plain": [
       "<Figure size 3000x1500 with 1 Axes>"
      ]
     },
     "metadata": {},
     "output_type": "display_data"
    }
   ],
   "source": [
    "# Ratings Distribution \n",
    "plt.figure(figsize=(30, 15))\n",
    "sns.histplot(final_df['meta.rating'], bins=20, kde=True)\n",
    "plt.title('Distribution of Movie Ratings')\n",
    "plt.xlabel('Rating')\n",
    "plt.ylabel('Frequency')\n",
    "plt.show()"
   ]
  },
  {
   "cell_type": "code",
   "execution_count": 116,
   "metadata": {},
   "outputs": [
    {
     "data": {
      "image/png": "[encoded data removed]",
      "text/plain": [
       "<Figure size 2000x1200 with 1 Axes>"
      ]
     },
     "metadata": {},
     "output_type": "display_data"
    }
   ],
   "source": [
    "# Conversations lenghts\n",
    "conversation_lengths = final_df['conversation_id'].value_counts()\n",
    "\n",
    "plt.figure(figsize=(20, 12))\n",
    "sns.histplot(conversation_lengths, bins=30, kde=True)\n",
    "plt.title('Distribution of Conversation Lengths')\n",
    "plt.xlabel('Number of Utterances per Conversation')\n",
    "plt.ylabel('Frequency')\n",
    "plt.show()\n"
   ]
  },
  {
   "cell_type": "code",
   "execution_count": 117,
   "metadata": {},
   "outputs": [
    {
     "data": {
      "image/png": "[encoded data removed]",
      "text/plain": [
       "<Figure size 750x750 with 12 Axes>"
      ]
     },
     "metadata": {},
     "output_type": "display_data"
    }
   ],
   "source": [
    "# Pairplot about lines features\n",
    "sns.pairplot(final_df[['line_count', 'lineLength',\t'wordCountLine']])\n",
    "plt.show()"
   ]
  },
  {
   "cell_type": "code",
   "execution_count": 118,
   "metadata": {},
   "outputs": [
    {
     "name": "stdout",
     "output_type": "stream",
     "text": [
      "{'f': 0, 'm': 1}\n"
     ]
    }
   ],
   "source": [
    "# Create Labelcoder\n",
    "label_encoder = LabelEncoder()\n",
    "\n",
    "# Applied to meta.gender\n",
    "final_df['gender_encoded'] = label_encoder.fit_transform(final_df['meta.gender'])\n",
    "\n",
    "category_mapping = dict(zip(label_encoder.classes_, label_encoder.transform(label_encoder.classes_)))\n",
    "print(category_mapping)"
   ]
  },
  {
   "cell_type": "markdown",
   "metadata": {},
   "source": [
    "## Pre-processing"
   ]
  },
  {
   "cell_type": "code",
   "execution_count": 119,
   "metadata": {},
   "outputs": [],
   "source": [
    "# Extend stopwords list\n",
    "stop_words = set(stopwords.words('english'))\n",
    "stop_words.update([',', '.', '?', ':', ';', \"'\", '“', '”', '!', '’', '...', '....', '--', '_'])\n",
    "\n",
    "# Initialize lemmatizer and stemmer\n",
    "lemmatizer = WordNetLemmatizer()\n",
    "stemmer = PorterStemmer()\n",
    "\n",
    "def preprocess_text(text):\n",
    "    text = text.lower()\n",
    "    text = re.sub(r'\\d+', '', text)\n",
    "    text = re.sub(r'\\s+', ' ', text)\n",
    "    text = re.sub(r'[^\\w\\s]', '', text)\n",
    "    words = word_tokenize(text)\n",
    "    words = [lemmatizer.lemmatize(word) for word in words if word not in stop_words]\n",
    "    words = [stemmer.stem(word) for word in words if word not in stop_words]\n",
    "    return ' '.join(words)"
   ]
  },
  {
   "cell_type": "code",
   "execution_count": 120,
   "metadata": {},
   "outputs": [],
   "source": [
    "# Apply preprocessing\n",
    "final_df['processed_text'] = final_df['text'].apply(preprocess_text)"
   ]
  },
  {
   "cell_type": "markdown",
   "metadata": {},
   "source": [
    "## Pre - Models"
   ]
  },
  {
   "cell_type": "markdown",
   "metadata": {},
   "source": [
    "Vectorization"
   ]
  },
  {
   "cell_type": "code",
   "execution_count": 121,
   "metadata": {},
   "outputs": [],
   "source": [
    "# Vectorization using TF-IDF\n",
    "vectorizer = TfidfVectorizer(max_features=5000) \n",
    "X_text = vectorizer.fit_transform(final_df['processed_text'])"
   ]
  },
  {
   "cell_type": "markdown",
   "metadata": {},
   "source": [
    "Encoding"
   ]
  },
  {
   "cell_type": "code",
   "execution_count": 122,
   "metadata": {},
   "outputs": [],
   "source": [
    "# Encoding the labels\n",
    "le = LabelEncoder()\n",
    "final_df['gender_label'] = le.fit_transform(final_df['meta.gender'])\n",
    "y = final_df['gender_label']"
   ]
  },
  {
   "cell_type": "code",
   "execution_count": 123,
   "metadata": {},
   "outputs": [],
   "source": [
    "# Apply LabelEncoder to meta.credit_pos\n",
    "credit_pos_encoder = LabelEncoder()\n",
    "final_df['encoded_credit_pos'] = credit_pos_encoder.fit_transform(final_df['meta.credit_pos'])"
   ]
  },
  {
   "cell_type": "markdown",
   "metadata": {},
   "source": [
    "Train the Model"
   ]
  },
  {
   "cell_type": "code",
   "execution_count": 124,
   "metadata": {},
   "outputs": [],
   "source": [
    "# Combine the text features with the other features\n",
    "X_other = final_df[['line_count', 'encoded_credit_pos', 'medianLineLength', 'medianWordCountLine']]\n",
    "\n",
    "# Convert X_other to a sparse matrix and combine with X_text\n",
    "X_other_sparse = csr_matrix(X_other.values)\n",
    "X_combined = hstack([X_text, X_other_sparse])"
   ]
  },
  {
   "cell_type": "code",
   "execution_count": 125,
   "metadata": {},
   "outputs": [],
   "source": [
    "# Split the data into 80% training and 20% testing sets\n",
    "X_train, X_test, y_train, y_test = train_test_split(X_combined, y, test_size=0.2, random_state=42)"
   ]
  },
  {
   "cell_type": "markdown",
   "metadata": {},
   "source": [
    "## Naive Bayers"
   ]
  },
  {
   "cell_type": "code",
   "execution_count": 126,
   "metadata": {},
   "outputs": [
    {
     "name": "stdout",
     "output_type": "stream",
     "text": [
      "Accuracy: 0.54\n",
      "Classification Report:\n",
      "               precision    recall  f1-score   support\n",
      "\n",
      "           f       0.54      0.58      0.56     14280\n",
      "           m       0.55      0.51      0.52     14125\n",
      "\n",
      "    accuracy                           0.54     28405\n",
      "   macro avg       0.54      0.54      0.54     28405\n",
      "weighted avg       0.54      0.54      0.54     28405\n",
      "\n",
      "Total Execution Time: 0.08603382110595703 seconds\n"
     ]
    }
   ],
   "source": [
    "# Start the timer for the entire process\n",
    "start_time = time.time()\n",
    "# Initialize the Multinomial Naive Bayes classifier\n",
    "nb_clf = MultinomialNB()\n",
    "# Train the classifier\n",
    "nb_clf.fit(X_train, y_train)\n",
    "\n",
    "# Make predictions on the test set\n",
    "nb_y_pred = nb_clf.predict(X_test)\n",
    "\n",
    "# Calculate accuracy, precision, recall, and F1-score of the model\n",
    "accuracy = accuracy_score(y_test, nb_y_pred)\n",
    "report = classification_report(y_test, nb_y_pred, target_names=le.classes_)\n",
    "\n",
    "print(f\"Accuracy: {accuracy:.2f}\")\n",
    "print(\"Classification Report:\\n\", report)\n",
    "\n",
    "# End the timer for the entire process\n",
    "end_time = time.time()\n",
    "\n",
    "# Calculate the total elapsed time\n",
    "total_time = end_time - start_time\n",
    "print(f\"Total Execution Time: {total_time} seconds\")"
   ]
  },
  {
   "cell_type": "code",
   "execution_count": 127,
   "metadata": {},
   "outputs": [],
   "source": [
    "# Vectorization using TF-IDF\n",
    "vectorizer = TfidfVectorizer(max_features=5000) \n",
    "X_text_1 = vectorizer.fit_transform(final_df['processed_text'])\n",
    "\n",
    "# Binarizzazione dei dati TF-IDF\n",
    "binarizer = Binarizer()\n",
    "X_binary = binarizer.fit_transform(X_text_1.toarray())"
   ]
  },
  {
   "cell_type": "code",
   "execution_count": 128,
   "metadata": {},
   "outputs": [],
   "source": [
    "# Combine the text features with the other features\n",
    "X_other_1 = final_df[['line_count', 'encoded_credit_pos', 'medianLineLength', 'medianWordCountLine']]\n",
    "\n",
    "# Convert X_other to a sparse matrix and combine with X_text\n",
    "X_other_sparse_1 = csr_matrix(X_other_1.values)\n",
    "X_combined_1 = hstack([X_text_1, X_other_sparse_1])\n",
    "\n",
    "# Split the data into 80% training and 20% testing sets\n",
    "X_train_1, X_test_1, y_train_1, y_test_1 = train_test_split(X_combined_1, y, test_size=0.2, random_state=42)"
   ]
  },
  {
   "cell_type": "code",
   "execution_count": 129,
   "metadata": {},
   "outputs": [
    {
     "name": "stdout",
     "output_type": "stream",
     "text": [
      "Accuracy: 0.63\n",
      "Classification Report:\n",
      "               precision    recall  f1-score   support\n",
      "\n",
      "           0       0.62      0.70      0.66     14280\n",
      "           1       0.65      0.56      0.60     14125\n",
      "\n",
      "    accuracy                           0.63     28405\n",
      "   macro avg       0.64      0.63      0.63     28405\n",
      "weighted avg       0.64      0.63      0.63     28405\n",
      "\n",
      "Total Execution Time: 0.05393099784851074 seconds\n"
     ]
    }
   ],
   "source": [
    "# Start the timer for the entire process\n",
    "start_time = time.time()\n",
    "\n",
    "# Inizializzazione del Bernoulli Naive Bayes\n",
    "bnb = BernoulliNB()\n",
    "\n",
    "# Addestramento del modello\n",
    "bnb.fit(X_train_1, y_train_1)\n",
    "\n",
    "# Predizione\n",
    "y_pred = bnb.predict(X_test_1)\n",
    "\n",
    "# Valutazione del modello\n",
    "accuracy = accuracy_score(y_test_1, y_pred)\n",
    "report = classification_report(y_test_1, y_pred)\n",
    "\n",
    "print(f\"Accuracy: {accuracy:.2f}\")\n",
    "print(\"Classification Report:\\n\", report)\n",
    "\n",
    "# End the timer for the entire process\n",
    "end_time = time.time()\n",
    "\n",
    "# Calculate the total elapsed time\n",
    "total_time = end_time - start_time\n",
    "print(f\"Total Execution Time: {total_time} seconds\")"
   ]
  },
  {
   "cell_type": "markdown",
   "metadata": {},
   "source": [
    "## Logistic Regression"
   ]
  },
  {
   "cell_type": "code",
   "execution_count": 130,
   "metadata": {},
   "outputs": [
    {
     "name": "stdout",
     "output_type": "stream",
     "text": [
      "Accuracy: 0.60\n",
      "Classification Report:\n",
      "               precision    recall  f1-score   support\n",
      "\n",
      "           f       0.60      0.59      0.60     14280\n",
      "           m       0.60      0.61      0.60     14125\n",
      "\n",
      "    accuracy                           0.60     28405\n",
      "   macro avg       0.60      0.60      0.60     28405\n",
      "weighted avg       0.60      0.60      0.60     28405\n",
      "\n",
      "Total Execution Time: 2.127397298812866 seconds\n"
     ]
    },
    {
     "name": "stderr",
     "output_type": "stream",
     "text": [
      "/Users/francescasalute/anaconda3/lib/python3.11/site-packages/sklearn/linear_model/_logistic.py:460: ConvergenceWarning: lbfgs failed to converge (status=1):\n",
      "STOP: TOTAL NO. of ITERATIONS REACHED LIMIT.\n",
      "\n",
      "Increase the number of iterations (max_iter) or scale the data as shown in:\n",
      "    https://scikit-learn.org/stable/modules/preprocessing.html\n",
      "Please also refer to the documentation for alternative solver options:\n",
      "    https://scikit-learn.org/stable/modules/linear_model.html#logistic-regression\n",
      "  n_iter_i = _check_optimize_result(\n"
     ]
    }
   ],
   "source": [
    "# On full dataset\n",
    "# Start the timer for the entire process\n",
    "start_time = time.time()\n",
    "\n",
    "# Logistic Regression classifier\n",
    "lr_clr = LogisticRegression(solver = 'lbfgs', n_jobs=-1) \n",
    "lr_clr.fit(X_train, y_train)\n",
    "\n",
    "# Predictions\n",
    "lr_y_pred = lr_clr.predict(X_test)\n",
    "\n",
    "# Calculate accuracy, precision, recall, and F1-score of the model\n",
    "accuracy = accuracy_score(y_test, lr_y_pred)\n",
    "report = classification_report(y_test, lr_y_pred, target_names=le.classes_)\n",
    "\n",
    "print(f\"Accuracy: {accuracy:.2f}\")\n",
    "print(\"Classification Report:\\n\", report)\n",
    "\n",
    "# End the timer for the entire process\n",
    "end_time = time.time()\n",
    "\n",
    "# Calculate the total elapsed time\n",
    "total_time = end_time - start_time\n",
    "print(f\"Total Execution Time: {total_time} seconds\")"
   ]
  },
  {
   "cell_type": "markdown",
   "metadata": {},
   "source": [
    "# Random Forest "
   ]
  },
  {
   "cell_type": "code",
   "execution_count": 131,
   "metadata": {},
   "outputs": [
    {
     "name": "stdout",
     "output_type": "stream",
     "text": [
      "Accuracy: 0.92\n",
      "Classification Report:\n",
      "               precision    recall  f1-score   support\n",
      "\n",
      "           f       0.90      0.94      0.92     14280\n",
      "           m       0.94      0.90      0.92     14125\n",
      "\n",
      "    accuracy                           0.92     28405\n",
      "   macro avg       0.92      0.92      0.92     28405\n",
      "weighted avg       0.92      0.92      0.92     28405\n",
      "\n",
      "Total Execution Time: 21.560466051101685 seconds\n"
     ]
    }
   ],
   "source": [
    "# Start the timer for the entire process\n",
    "start_time = time.time()\n",
    "\n",
    "# Random Forest with all CPUs\n",
    "rf = RandomForestClassifier(n_estimators=100, random_state=42, n_jobs=-1)\n",
    "rf.fit(X_train, y_train)\n",
    "\n",
    "# Predictions\n",
    "rf_y_pred = rf.predict(X_test)\n",
    "\n",
    "# Calculate accuracy, precision, recall, and F1-score of the model\n",
    "accuracy = accuracy_score(y_test, rf_y_pred)\n",
    "report = classification_report(y_test, rf_y_pred, target_names=le.classes_)\n",
    "\n",
    "print(f\"Accuracy: {accuracy:.2f}\")\n",
    "print(\"Classification Report:\\n\", report)\n",
    "\n",
    "# End the timer for the entire process\n",
    "end_time = time.time()\n",
    "\n",
    "# Calculate the total elapsed time\n",
    "total_time = end_time - start_time\n",
    "print(f\"Total Execution Time: {total_time} seconds\")"
   ]
  }
 ],
 "metadata": {
  "kernelspec": {
   "display_name": "Python 3 ",
   "language": "python",
   "name": "python3"
  },
  "language_info": {
   "codemirror_mode": {
    "name": "ipython",
    "version": 3
   },
   "file_extension": ".py",
   "mimetype": "text/x-python",
   "name": "python",
   "nbconvert_exporter": "python",
   "pygments_lexer": "ipython3",
   "version": "3.11.4"
  }
 },
 "nbformat": 4,
 "nbformat_minor": 4
}
